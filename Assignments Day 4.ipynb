{
 "cells": [
  {
   "cell_type": "code",
   "execution_count": 12,
   "metadata": {},
   "outputs": [
    {
     "name": "stdout",
     "output_type": "stream",
     "text": [
      "(7+10j)\n",
      "(-1-2j)\n",
      "(-12+34j)\n",
      "(0.6923076923076924-0.038461538461538484j)\n"
     ]
    }
   ],
   "source": [
    "# Assignment 1\n",
    "a = 3+4j\n",
    "b = 4+6j\n",
    "\n",
    "print(a+b) #(3+4)+(4j+6j)=7+10j\n",
    "print(a-b) #(3-4)+(4j-6j)=-1-2j\n",
    "print(a*b) #(3*4)+(3*6j)+(4j*4)+(4j*6j) = 12+18j+16j+24(-1) = -12+34j \n",
    "print(a/b) #((3+4j)*(4-6j))/((4+6j)*(4-6j)) = 0.69-0.03j\n",
    "#unable to perform % and // "
   ]
  },
  {
   "cell_type": "markdown",
   "metadata": {},
   "source": [
    "# range() function\n",
    "\n",
    "\n",
    "range() is a built in function basically used for looping in for loop, for example if the range is 3 then the loop will execute 3 times\n",
    "\n",
    "range() generates a sequence of numbers in the range of given number. The range starts from 0 and ends with n-1 \n",
    "\n",
    "> Syntax: range(stop)\n",
    "\n",
    "    Ex 1: x = range(3) o/p: range(0, 3)\n",
    "      for i in x:\n",
    "          print(i)  o/p: 0 1 2\n",
    "> When the example one is executed the i value is getting assigned with the range\n",
    "\n",
    "> Note: \n",
    "- The numbers in the range() are immutable\n",
    "- The arguments must be integrs\n",
    "\n",
    "    Ex 2: x =[2, 4, 6, 8, 10]\n",
    "      for i in range(3):\n",
    "            print(x)        \n",
    "      \n",
    "> When the example two executed then the output will be \n",
    "   [2, 4, 6, 8, 10]\n",
    "   [2, 4, 6, 8, 10]\n",
    "   [2, 4, 6, 8, 10]\n",
    "    because the loop executed 3 times. \n",
    "\n",
    "    Ex 3:  x =[2, 4, 6, 8, 10]\n",
    "      for i in range(3):\n",
    "            print(x[i])\n",
    "> When the example three i executed then the output will be 2 4 6 because i carrys 0 and print(x[i]) means print (x[0])  and if we observe the loop was run only 3 times because we gave 3 in range   \n",
    "\n",
    "\n",
    "There is another type of range(), here we can give the range from begining to end say if you want to list the values from 3 index to 7 in a list then we can give the range like this __range(3,7)__\n",
    "\n",
    "> Syntax: range(start,stop)\n",
    "    \n",
    "    Ex4: x =[2, 4, 7, 8, 9, 10, 35, 62, 31, 20]\n",
    "         for i in range(3,7):\n",
    "             print(x[i])\n",
    "         o/p: 8 9 10 35\n",
    "         \n",
    "Now we have one more kind of range(), here we can give the difference between the sequence of numbers. \n",
    "> Sysntax: range(start,stop,step)\n",
    "\n",
    "For example if you pass 2 as argument then it skips the first step and prints the second. Please go through the below program. \n",
    "\n",
    "    Ex4: x =[2, 4, 7, 8, 9, 10, 35, 62, 31, 20]\n",
    "         for i in range(0,7, 2):\n",
    "             print(x[i])\n",
    "         o/p: 2 7 9 35\n",
    "         \n",
    "In the above program I gave 2 as argument,what happened here is the value in index 0 is printed and then +2 is added to 0. So that is why we got 7 and then 9 and the sequence continued.\n",
    "\n",
    "> Note: If you do not pass any value as argument in the step parameter then by default it takes +1\n",
    "\n",
    "            \n",
    "\n"
   ]
  },
  {
   "cell_type": "code",
   "execution_count": 28,
   "metadata": {},
   "outputs": [
    {
     "name": "stdout",
     "output_type": "stream",
     "text": [
      "25\n",
      "75\n",
      "1875\n"
     ]
    }
   ],
   "source": [
    "# Assignment 3\n",
    "\n",
    "i = int(input())\n",
    "j = int(input())\n",
    "k = j-i\n",
    "\n",
    "if(k>25):\n",
    "    print(i*j)\n",
    "else:\n",
    "    print(i/j)\n",
    "    "
   ]
  },
  {
   "cell_type": "code",
   "execution_count": 97,
   "metadata": {},
   "outputs": [
    {
     "name": "stdout",
     "output_type": "stream",
     "text": [
      "2\n",
      "14\n",
      "62\n",
      "98\n",
      "3842\n",
      "398\n"
     ]
    }
   ],
   "source": [
    "# Assignment 4\n",
    "\n",
    "x =[2, 4, 7, 8, 9, 10, 35, 62, 31, 20]\n",
    "\n",
    "for i in x:\n",
    "    if(i%2==0):\n",
    "        print(i**2-2)"
   ]
  },
  {
   "cell_type": "code",
   "execution_count": 96,
   "metadata": {},
   "outputs": [
    {
     "name": "stdout",
     "output_type": "stream",
     "text": [
      "8\n",
      "10\n",
      "62\n",
      "20\n"
     ]
    }
   ],
   "source": [
    "# Assignment 5\n",
    "\n",
    "\n",
    "x =[2, 4, 7, 8, 9, 10, 35, 62, 31, 20]\n",
    "\n",
    "for i in x:\n",
    "    if(i%2==0 and i>7):\n",
    "        print(i)\n"
   ]
  },
  {
   "cell_type": "code",
   "execution_count": null,
   "metadata": {},
   "outputs": [],
   "source": []
  }
 ],
 "metadata": {
  "kernelspec": {
   "display_name": "Python 3",
   "language": "python",
   "name": "python3"
  },
  "language_info": {
   "codemirror_mode": {
    "name": "ipython",
    "version": 3
   },
   "file_extension": ".py",
   "mimetype": "text/x-python",
   "name": "python",
   "nbconvert_exporter": "python",
   "pygments_lexer": "ipython3",
   "version": "3.7.6"
  }
 },
 "nbformat": 4,
 "nbformat_minor": 4
}
