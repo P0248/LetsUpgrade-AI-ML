{
 "cells": [
  {
   "cell_type": "code",
   "execution_count": 63,
   "metadata": {
    "scrolled": false
   },
   "outputs": [
    {
     "name": "stdout",
     "output_type": "stream",
     "text": [
      "Enter the required number\n",
      "20\n",
      "3 5 7 11 13 17 19 23 29 31 37 41 43 47 53 59 61 67 71 73 "
     ]
    }
   ],
   "source": [
    "#Assignment 1\n",
    "\n",
    "print(\"Enter the required number\")\n",
    "numbers= int(input())\n",
    "num=0\n",
    "count=0\n",
    "while count!=numbers:\n",
    "    if(num>1):\n",
    "        for i in range(2, num):\n",
    "            if((num%i)==0):\n",
    "                break\n",
    "        else:\n",
    "            if(num%2!=0):\n",
    "                print(num,end=\" \")\n",
    "                count = count+1;\n",
    "    num=num+1            \n",
    "      \n",
    "    "
   ]
  },
  {
   "cell_type": "code",
   "execution_count": 147,
   "metadata": {},
   "outputs": [
    {
     "name": "stdout",
     "output_type": "stream",
     "text": [
      "Enter any String\n",
      "Hello\n",
      "False\n",
      "False\n",
      "True\n",
      "Hello\n",
      "  Hello   \n",
      "hELLO\n",
      "HELLO\n",
      "hello\n",
      "Hello World\n",
      "-1\n",
      "8\n",
      "4\n",
      "Bye Bye Bye Bye\n",
      "18\n",
      "Hello! Wlecome\n"
     ]
    }
   ],
   "source": [
    "#Assignment 2\n",
    "\n",
    "print(\"Enter any String\")\n",
    "\n",
    "s = input()\n",
    "\n",
    "#functions\n",
    "\n",
    "print(s.islower()) #to know whether the given string is in complete lower case\n",
    "print(s.isupper()) #to know whether the given string is in complete upper case\n",
    "print(s.isalnum()) #to know whether the given string is alphanumeric or not\n",
    "print(s.capitalize()) #this mwthod converts the first letter in the string to upper case\n",
    "print(s.center(10)) #this method is used to align the string to center for example if the length of string is 4 and we passed 10 as arg in center() then 3spaces+str+3spaces\n",
    "print(s.swapcase()) # this method is used to convert the lower case to upper cases and upper case to lower case\n",
    "print(s.upper()) # this method is used to convert all the lower case to upper case\n",
    "print(s.lower()) # this method is used to convert all the upper case to lower case\n",
    "\n",
    "str1 = \"Hello {sname}\".format(sname=\"World\") # this method is used to pass values in place holders\n",
    "print(str1)\n",
    "\n",
    "str2 = \"Hello o World!!\"\n",
    "\n",
    "print(str2.find(\"p\")) #this method is used to find the first occurence of a value in the string, method returns -1 if the value not found\n",
    "\n",
    "print(str2.index(\"W\")) #this method is same as find() the only difference is it returns error when the value is not found \n",
    "\n",
    "str3 = \"Hello Hello Hello Hello\"\n",
    "\n",
    "print(str3.count(\"Hello\")) #this method is used to find the count of occurances of a string\n",
    "\n",
    "print(str3.replace(\"Hello\",\"Bye\"))#this method is used to replace the old  phrase with tht new phrase\n",
    "\n",
    "print(str3.rfind(\"Hello\"))#this method is used to find the last occurence of a value in the string\n",
    "\n",
    "str4 = (\"Hello\", \"Wlecome\")\n",
    "print((\"! \").join(str4)) #this method is used to join all the values in an iterable\n",
    "\n",
    "\n",
    "\n"
   ]
  },
  {
   "cell_type": "code",
   "execution_count": 153,
   "metadata": {},
   "outputs": [
    {
     "name": "stdout",
     "output_type": "stream",
     "text": [
      "Any String to verify palindrome or anagram\n",
      "prp\n",
      "prp  is a plaindrome\n"
     ]
    }
   ],
   "source": [
    "#Assignment 3\n",
    "\n",
    "print(\"Any String to verify palindrome or anagram\")\n",
    "\n",
    "str1 = input()\n",
    "str2 = str1[::-1]\n",
    "anstr1 = list(str1)\n",
    "anstr2 = list(str2)\n",
    "\n",
    "if(str1 == str2):\n",
    "    print(str1,\" is a plaindrome\")\n",
    "elif(anstr1.sort()==anstr2.sort()):\n",
    "    print(\"The string is anagram\")\n",
    "else:\n",
    "    print(\"The given string is neigther palindrome nor anagram\")\n",
    "\n"
   ]
  },
  {
   "cell_type": "code",
   "execution_count": 141,
   "metadata": {},
   "outputs": [
    {
     "name": "stdout",
     "output_type": "stream",
     "text": [
      "Enter a string\n",
      "Hello Doctor!! ThankYou**\n",
      "hellodoctorthankyou\n"
     ]
    }
   ],
   "source": [
    "#Assignment 4\n",
    "\n",
    "def stringlower():\n",
    "    print(\"Enter a string\")\n",
    "    str1 = input()\n",
    "    newstr = \"\"\n",
    "    for i in str1:\n",
    "        if i.isalpha():\n",
    "            newstr+=i\n",
    "    print(newstr.lower())        \n",
    "        \n",
    "    \n",
    "stringlower()\n",
    "\n"
   ]
  },
  {
   "cell_type": "code",
   "execution_count": null,
   "metadata": {},
   "outputs": [],
   "source": []
  }
 ],
 "metadata": {
  "kernelspec": {
   "display_name": "Python 3",
   "language": "python",
   "name": "python3"
  },
  "language_info": {
   "codemirror_mode": {
    "name": "ipython",
    "version": 3
   },
   "file_extension": ".py",
   "mimetype": "text/x-python",
   "name": "python",
   "nbconvert_exporter": "python",
   "pygments_lexer": "ipython3",
   "version": "3.7.6"
  }
 },
 "nbformat": 4,
 "nbformat_minor": 4
}
