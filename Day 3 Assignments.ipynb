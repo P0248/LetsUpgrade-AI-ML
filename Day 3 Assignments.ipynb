{
 "cells": [
  {
   "cell_type": "code",
   "execution_count": 5,
   "metadata": {},
   "outputs": [
    {
     "name": "stdout",
     "output_type": "stream",
     "text": [
      "Subtraction is : (-2+2j)\n"
     ]
    }
   ],
   "source": [
    "#Subtraction of complex numbers\n",
    "\n",
    "x= complex(4,5)\n",
    "y = complex(6,3)\n",
    "z =x-y\n",
    "print(\"Subtraction is :\",z)\n"
   ]
  },
  {
   "cell_type": "code",
   "execution_count": 5,
   "metadata": {},
   "outputs": [
    {
     "name": "stdout",
     "output_type": "stream",
     "text": [
      "3.0\n"
     ]
    }
   ],
   "source": [
    "#Finding fourth root of a number\n",
    "\n",
    "x = 81\n",
    "\n",
    "print(x**(1/4))"
   ]
  },
  {
   "cell_type": "code",
   "execution_count": 1,
   "metadata": {},
   "outputs": [
    {
     "name": "stdout",
     "output_type": "stream",
     "text": [
      "Before swapping a= 3  and b= 2\n",
      "After swapping a= 2  and b= 3\n"
     ]
    }
   ],
   "source": [
    "#Swapping of Two numbers with help of temp variable\n",
    "\n",
    "a = 3\n",
    "b = 2\n",
    "print(\"Before swapping a=\",a,\" and b=\", b)\n",
    "c = a\n",
    "a = b\n",
    "b = c\n",
    "print(\"After swapping a=\",a,\" and b=\", b)\n"
   ]
  },
  {
   "cell_type": "code",
   "execution_count": 2,
   "metadata": {},
   "outputs": [
    {
     "name": "stdout",
     "output_type": "stream",
     "text": [
      "Before swapping a= 3  and b= 2\n",
      "After swapping a= 2  and b= 3\n"
     ]
    }
   ],
   "source": [
    "#Swapping of Two numbers without using temp variable\n",
    "\n",
    "a = 3\n",
    "b = 2\n",
    "print(\"Before swapping a=\",a,\" and b=\", b)\n",
    "a = a+b\n",
    "b = a-b\n",
    "a = a-b\n",
    "print(\"After swapping a=\",a,\" and b=\", b)"
   ]
  },
  {
   "cell_type": "code",
   "execution_count": 3,
   "metadata": {},
   "outputs": [
    {
     "name": "stdout",
     "output_type": "stream",
     "text": [
      "The converted Fahrenheit in Celsius is -1.1111111111111112 C\n",
      "The converted Fahrenheit in Kelvin is 271.8888888888889 K\n"
     ]
    }
   ],
   "source": [
    "#Coverting Fahrenheit to Celsius and Kelvin\n",
    "\n",
    "def ftoc(f):\n",
    "    c = (5/9)*(f-32)\n",
    "    return c\n",
    "def ftok(f):\n",
    "    k = ((5/9)*(f-32)) + 273\n",
    "    return k\n",
    "\n",
    "print(\"The converted Fahrenheit in Celsius is\",ftoc(30),\"C\")\n",
    "\n",
    "print(\"The converted Fahrenheit in Kelvin is\",ftok(30),\"K\")\n",
    "\n"
   ]
  },
  {
   "cell_type": "code",
   "execution_count": 4,
   "metadata": {},
   "outputs": [
    {
     "name": "stdout",
     "output_type": "stream",
     "text": [
      "The type of a is <class 'int'>\n",
      "The type of a is <class 'int'>\n",
      "The type of a is <class 'float'>\n",
      "The type of a is <class 'bool'>\n",
      "The type of a is <class 'str'>\n",
      "The type of a is <class 'tuple'>\n",
      "The type of a is <class 'list'>\n",
      "The type of a is <class 'set'>\n",
      "The type of a is <class 'dict'>\n"
     ]
    }
   ],
   "source": [
    "#DataTypes\n",
    "\n",
    "a = 3\n",
    "print(\"The type of a is\", type(a))\n",
    "a = 3549484646445\n",
    "print(\"The type of a is\", type(a))\n",
    "a = 8.5\n",
    "print(\"The type of a is\", type(a))\n",
    "a = True\n",
    "print(\"The type of a is\", type(a))\n",
    "a = \"Test\"\n",
    "print(\"The type of a is\", type(a))\n",
    "a = 1,20,30\n",
    "print(\"The type of a is\", type(a))\n",
    "a = [10,20,\"str\"]\n",
    "print(\"The type of a is\", type(a))\n",
    "a = {10,20,\"str\"}\n",
    "print(\"The type of a is\", type(a))\n",
    "a = {\"number\":10, \"name\": \"str\"}\n",
    "print(\"The type of a is\", type(a))"
   ]
  },
  {
   "cell_type": "markdown",
   "metadata": {},
   "source": [
    "# GitHub\n",
    "\n",
    "__GitHub is the place where you can push/upload your code. We can keep our code public(every one can see) and private(only you can )__\n",
    "## Creation of repository and uploading files\n",
    "\n",
    "- Create a *__GitHub__* account by clicking on *__SignUp__* if not there.\n",
    "- *__Signin__* to GitHub if you have a account and then click on New in repository on the left side\n",
    "- Name the repository as LetsUpgrade AI/ML\n",
    "- Type *__Assignments__* in the description\n",
    "- Without touching any other field click on __Create Repository__\n",
    "- Click on uploading an existing file\n",
    "- You can drag drop the folder(all the notebooks saved in one folder)\n",
    "- Click on Commit Changes\n",
    "\n",
    "## Visiting the files uploaded\n",
    "\n",
    "- To see the files click on the folder uploaded. Since github supports all fomats of code you can see the file\n",
    "- To revisit the file go to home folder and then click on the repository created \n",
    "\n",
    "## Verifying the file\n",
    "\n",
    "- To verify whether the uploaded file is public or not we can copy the URL and paste in another browser window say incognito, you will be able to see without logging in\n",
    "\n",
    "## Deleting Repository\n",
    "\n",
    "- To delete the created repository you need to click on settings and scroll down to the bottom. you will see an option to delete the repository click on that and github will ask to enter the repository, enter that. A password confirmation page will be displayed confirm your password and the repository is deleted \n",
    "\n",
    "## Assignment Submission\n",
    "\n",
    "- To submit the assignments LetsUpgrade provides a Google form URL and after launching that fill all the mandatory fields\n",
    "- Copy the repository URL and paste that in the space provided in the form"
   ]
  },
  {
   "cell_type": "code",
   "execution_count": null,
   "metadata": {},
   "outputs": [],
   "source": []
  }
 ],
 "metadata": {
  "kernelspec": {
   "display_name": "Python 3",
   "language": "python",
   "name": "python3"
  },
  "language_info": {
   "codemirror_mode": {
    "name": "ipython",
    "version": 3
   },
   "file_extension": ".py",
   "mimetype": "text/x-python",
   "name": "python",
   "nbconvert_exporter": "python",
   "pygments_lexer": "ipython3",
   "version": "3.7.6"
  }
 },
 "nbformat": 4,
 "nbformat_minor": 4
}
