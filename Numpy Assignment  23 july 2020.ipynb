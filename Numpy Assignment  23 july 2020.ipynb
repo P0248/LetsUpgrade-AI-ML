{
 "cells": [
  {
   "cell_type": "code",
   "execution_count": 2,
   "metadata": {},
   "outputs": [],
   "source": [
    "import numpy as np"
   ]
  },
  {
   "cell_type": "markdown",
   "metadata": {},
   "source": [
    "# 1. Create a 3x3x3 array with random values "
   ]
  },
  {
   "cell_type": "code",
   "execution_count": 218,
   "metadata": {},
   "outputs": [
    {
     "data": {
      "text/plain": [
       "array([[[0.84594551, 0.92630623, 0.94018721],\n",
       "        [0.63629925, 0.7579483 , 0.29874718],\n",
       "        [0.09510908, 0.10067596, 0.10848537]],\n",
       "\n",
       "       [[0.35000413, 0.76903509, 0.18604665],\n",
       "        [0.86213382, 0.27403   , 0.10802592],\n",
       "        [0.36259554, 0.37815001, 0.71892649]],\n",
       "\n",
       "       [[0.57803672, 0.96216965, 0.65234517],\n",
       "        [0.11004877, 0.76322256, 0.08937842],\n",
       "        [0.60315131, 0.76243322, 0.016893  ]]])"
      ]
     },
     "execution_count": 218,
     "metadata": {},
     "output_type": "execute_result"
    }
   ],
   "source": [
    "ran = np.random.rand(3,3,3)\n",
    "ran"
   ]
  },
  {
   "cell_type": "markdown",
   "metadata": {},
   "source": [
    "# 2.Create a 5x5 matrix with values 1,2,3,4 just below the diagonal"
   ]
  },
  {
   "cell_type": "code",
   "execution_count": 121,
   "metadata": {},
   "outputs": [
    {
     "name": "stdout",
     "output_type": "stream",
     "text": [
      "[[0 0 0 0 0]\n",
      " [1 0 0 0 0]\n",
      " [0 2 0 0 0]\n",
      " [0 0 3 0 0]\n",
      " [0 0 0 4 0]]\n",
      "[0 1]\n"
     ]
    }
   ],
   "source": [
    "di = np.diag(1+np.arange(4), k=-1)\n",
    "print(di)\n"
   ]
  },
  {
   "cell_type": "markdown",
   "metadata": {},
   "source": [
    "# 3.Create a 8x8 matrix and fill it with a checkerboard pattern"
   ]
  },
  {
   "cell_type": "code",
   "execution_count": 61,
   "metadata": {},
   "outputs": [
    {
     "name": "stdout",
     "output_type": "stream",
     "text": [
      "[[0 1 0 1 0 1 0 1]\n",
      " [1 0 1 0 1 0 1 0]\n",
      " [0 1 0 1 0 1 0 1]\n",
      " [1 0 1 0 1 0 1 0]\n",
      " [0 1 0 1 0 1 0 1]\n",
      " [1 0 1 0 1 0 1 0]\n",
      " [0 1 0 1 0 1 0 1]\n",
      " [1 0 1 0 1 0 1 0]]\n"
     ]
    }
   ],
   "source": [
    "x = np.zeros((8,8), dtype=int)\n",
    "x[::2,1::2] = 1\n",
    "x[1::2,::2] = 1\n",
    "\n",
    "print(x)\n"
   ]
  },
  {
   "cell_type": "markdown",
   "metadata": {},
   "source": [
    "# 4. Normalize a 5x5 random matrix"
   ]
  },
  {
   "cell_type": "code",
   "execution_count": 84,
   "metadata": {
    "scrolled": true
   },
   "outputs": [
    {
     "name": "stdout",
     "output_type": "stream",
     "text": [
      "Before Normalize:\n",
      " [[0.10802931 0.52215473 0.41788243 0.25980684 0.45579932]\n",
      " [0.09797694 0.56030125 0.0195762  0.9258285  0.37177309]\n",
      " [0.4288501  0.07711951 0.28358326 0.73374686 0.32868392]\n",
      " [0.54685298 0.14658119 0.20097941 0.72179695 0.32043832]\n",
      " [0.31003512 0.62818765 0.6215432  0.01656369 0.34325778]] \n",
      "\n",
      "After Normalize:\n",
      " [[0.10059295 0.55604378 0.44136619 0.26751629 0.48306679]\n",
      " [0.08953745 0.59799692 0.00331314 1.         0.39065561]\n",
      " [0.45342832 0.06659867 0.29366535 0.78875061 0.3432666 ]\n",
      " [0.58320666 0.1429919  0.2028185  0.77560823 0.33419817]\n",
      " [0.32275684 0.67265768 0.66535019 0.         0.35929478]] \n",
      "\n"
     ]
    }
   ],
   "source": [
    "ranarray1 = np.random.rand(5,5)\n",
    "print(\"Before Normalize:\\n\",ranarray1,\"\\n\")\n",
    "amax, amin = ranarray1.max(), ranarray1.min()\n",
    "ranarray1 = (ranarray1-amin)/(amax-amin)\n",
    "print(\"After Normalize:\\n\",ranarray1,\"\\n\")"
   ]
  },
  {
   "cell_type": "markdown",
   "metadata": {},
   "source": [
    "# 5.  How to find common values between two arrays?"
   ]
  },
  {
   "cell_type": "code",
   "execution_count": 124,
   "metadata": {},
   "outputs": [
    {
     "name": "stdout",
     "output_type": "stream",
     "text": [
      "The common values are: [1 3]\n"
     ]
    }
   ],
   "source": [
    "x = np.array([1,2,3])\n",
    "y = np.array([4,1,3])\n",
    "\n",
    "print(\"The common values are:\",np.intersect1d(x,y)) \n",
    "\n"
   ]
  },
  {
   "cell_type": "markdown",
   "metadata": {},
   "source": [
    "# 6.How to get the dates of yesterday, today and tomorrow?"
   ]
  },
  {
   "cell_type": "code",
   "execution_count": 129,
   "metadata": {},
   "outputs": [
    {
     "name": "stdout",
     "output_type": "stream",
     "text": [
      "Yestraday:  2020-07-28\n",
      "Today:  2020-07-29\n",
      "Tomorrow:  2020-07-30\n"
     ]
    }
   ],
   "source": [
    "yesterday = np.datetime64('today', 'D') - np.timedelta64(1, 'D')\n",
    "print(\"Yestraday: \",yesterday)\n",
    "today     = np.datetime64('today', 'D')\n",
    "print(\"Today: \",today)\n",
    "tomorrow  = np.datetime64('today', 'D') + np.timedelta64(1, 'D')\n",
    "print(\"Tomorrow: \",tomorrow)"
   ]
  },
  {
   "cell_type": "markdown",
   "metadata": {},
   "source": [
    "# 7. Consider two random array A and B, check if they are equal"
   ]
  },
  {
   "cell_type": "code",
   "execution_count": 179,
   "metadata": {},
   "outputs": [
    {
     "name": "stdout",
     "output_type": "stream",
     "text": [
      "False\n"
     ]
    }
   ],
   "source": [
    "x = np.random.rand(3,3,3)\n",
    "y = np.random.rand(3,3,3)\n",
    "print(np.allclose(x,y))"
   ]
  },
  {
   "cell_type": "markdown",
   "metadata": {},
   "source": [
    "# 8.Create random vector of size 10 and replace the maximum value by 0 "
   ]
  },
  {
   "cell_type": "code",
   "execution_count": 194,
   "metadata": {},
   "outputs": [
    {
     "name": "stdout",
     "output_type": "stream",
     "text": [
      "Array Befor:\n",
      " [0.23007804 0.08689479 0.28259653 0.66884943 0.55191399 0.14487214\n",
      " 0.43150967 0.22465624 0.14592811 0.17285339]\n",
      "Array After:\n",
      " [0.23007804 0.08689479 0.28259653 0.         0.55191399 0.14487214\n",
      " 0.43150967 0.22465624 0.14592811 0.17285339]\n"
     ]
    }
   ],
   "source": [
    "x = np.random.rand(10)\n",
    "print(\"Array Befor:\\n\",x)\n",
    "x[x.argmax()]=0\n",
    " \n",
    "print(\"Array After:\\n\",x)"
   ]
  },
  {
   "cell_type": "markdown",
   "metadata": {},
   "source": [
    "# 9. How to print all the values of an array?"
   ]
  },
  {
   "cell_type": "code",
   "execution_count": 203,
   "metadata": {},
   "outputs": [
    {
     "name": "stdout",
     "output_type": "stream",
     "text": [
      "[0 1 2 3 4 5 6 7 8 9]\n"
     ]
    }
   ],
   "source": [
    "x = np.arange(10)\n",
    "print(x)\n",
    "\n"
   ]
  },
  {
   "cell_type": "markdown",
   "metadata": {},
   "source": [
    "# 10.Subtract the mean of each row of a matrix"
   ]
  },
  {
   "cell_type": "code",
   "execution_count": 211,
   "metadata": {},
   "outputs": [
    {
     "name": "stdout",
     "output_type": "stream",
     "text": [
      "[[-1.  0.  1.]\n",
      " [-1.  0.  1.]\n",
      " [-1.  0.  1.]]\n"
     ]
    }
   ],
   "source": [
    "a = np.arange(2,11).reshape(3,3)\n",
    "b= a - a.mean(axis=1, keepdims=True)\n",
    "print(b)"
   ]
  },
  {
   "cell_type": "markdown",
   "metadata": {},
   "source": [
    "# 11.Consider a given vector, how to add 1 to each element indexed by a second vector (be careful with repeated indices)? "
   ]
  },
  {
   "cell_type": "code",
   "execution_count": 212,
   "metadata": {},
   "outputs": [
    {
     "name": "stdout",
     "output_type": "stream",
     "text": [
      "Given vector: [9 5 2 4 2 3 4 1 9 1]\n",
      "Indexing vector: [0 0 0 0 0 1 1 1 2 5]\n",
      "Result: [10  6  3  4  2  4  4  1  9  1]\n"
     ]
    }
   ],
   "source": [
    "a = np.random.randint(1,10,10)\n",
    "print(\"Given vector:\", a)\n",
    "b = np.random.randint(a)\n",
    "c = []\n",
    "b.sort()\n",
    "for i in b:\n",
    "    if i not in c:\n",
    "        c.append(i)\n",
    "\n",
    "for j in c:\n",
    "    a[j] += 1\n",
    "\n",
    "print(\"Indexing vector:\", b)\n",
    "print(\"Result:\",a)"
   ]
  },
  {
   "cell_type": "markdown",
   "metadata": {},
   "source": [
    "# 12.How to get the diagonal of a dot product?"
   ]
  },
  {
   "cell_type": "code",
   "execution_count": 114,
   "metadata": {},
   "outputs": [
    {
     "name": "stdout",
     "output_type": "stream",
     "text": [
      "[[11  8]\n",
      " [18 13]]\n",
      "The diagonal of dot product is: [11 13]\n"
     ]
    }
   ],
   "source": [
    "a = np.array([[1,2,],[2,3]])\n",
    "b = np.array([[3,2,],[4,3]])\n",
    "c = np.dot(a,b)\n",
    "print(c)\n",
    "print(\"The diagonal of dot product is:\",np.diag(c))\n"
   ]
  },
  {
   "cell_type": "markdown",
   "metadata": {},
   "source": [
    "# 13.How to find the most frequent value in an array?"
   ]
  },
  {
   "cell_type": "code",
   "execution_count": 213,
   "metadata": {},
   "outputs": [
    {
     "name": "stdout",
     "output_type": "stream",
     "text": [
      "[10 12  8 14  8  6  8 13 12  5]\n",
      "8\n"
     ]
    }
   ],
   "source": [
    "a=np.random.randint(2,15,10)\n",
    "print(a)\n",
    "print(np.bincount(a).argmax())"
   ]
  },
  {
   "cell_type": "markdown",
   "metadata": {},
   "source": [
    "# 14.How to get the n largest values of an array"
   ]
  },
  {
   "cell_type": "code",
   "execution_count": 220,
   "metadata": {},
   "outputs": [
    {
     "name": "stdout",
     "output_type": "stream",
     "text": [
      "Original array:\n",
      "[0 1 2 3 4 5 6 7 8 9]\n",
      "[5 6 7 8 9]\n"
     ]
    }
   ],
   "source": [
    "x = np.arange(10)\n",
    "print(\"Original array:\")\n",
    "print(x)\n",
    "np.random.shuffle(x)\n",
    "n = 5\n",
    "print (x[np.argsort(x)[-n:]])\n",
    "\n"
   ]
  },
  {
   "cell_type": "markdown",
   "metadata": {},
   "source": [
    "# 15.How to create a record array from a regular array?"
   ]
  },
  {
   "cell_type": "code",
   "execution_count": 221,
   "metadata": {},
   "outputs": [
    {
     "name": "stdout",
     "output_type": "stream",
     "text": [
      "(2, 'dd', 2.)\n",
      "['a' 'dd' 'xyz' '12']\n"
     ]
    }
   ],
   "source": [
    "x1=np.array([1,2,3,4])\n",
    "x2=np.array(['a','dd','xyz','12'])\n",
    "x3=np.array([1.1,2,3,4])\n",
    "r = np.core.records.fromarrays([x1,x2,x3],names='a,b,c')\n",
    "print(r[1])\n",
    "print(r.b)"
   ]
  },
  {
   "cell_type": "code",
   "execution_count": null,
   "metadata": {},
   "outputs": [],
   "source": []
  }
 ],
 "metadata": {
  "kernelspec": {
   "display_name": "Python 3",
   "language": "python",
   "name": "python3"
  },
  "language_info": {
   "codemirror_mode": {
    "name": "ipython",
    "version": 3
   },
   "file_extension": ".py",
   "mimetype": "text/x-python",
   "name": "python",
   "nbconvert_exporter": "python",
   "pygments_lexer": "ipython3",
   "version": "3.7.6"
  }
 },
 "nbformat": 4,
 "nbformat_minor": 2
}
