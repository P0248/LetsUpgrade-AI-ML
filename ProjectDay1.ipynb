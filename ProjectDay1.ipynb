{
 "cells": [
  {
   "cell_type": "code",
   "execution_count": 4,
   "metadata": {},
   "outputs": [],
   "source": [
    "import os\n",
    "import sys\n",
    "import numpy as np\n",
    "import pandas as pd\n",
    "\n",
    "from sklearn.model_selection import train_test_split\n",
    "from scipy.io import loadmat\n"
   ]
  },
  {
   "cell_type": "code",
   "execution_count": 14,
   "metadata": {},
   "outputs": [],
   "source": [
    "#Importing PYoD packages and Methods'\n",
    "\n",
    "from pyod.models.pca import PCA\n",
    "from pyod.models.mcd import MCD\n",
    "from pyod.models.ocsvm import OCSVM\n",
    "from pyod.models.lof import LOF\n",
    "from pyod.models.cblof import CBLOF\n",
    "from pyod.models.knn import KNN\n",
    "from pyod.models.hbos import HBOS\n",
    "\n",
    "from pyod.models.abod import ABOD\n",
    "from pyod.models.iforest import IForest\n",
    "from pyod.models.feature_bagging import FeatureBagging"
   ]
  },
  {
   "cell_type": "code",
   "execution_count": 15,
   "metadata": {},
   "outputs": [],
   "source": [
    "#Performance methods\n",
    "\n",
    "from pyod.utils.utility import standardizer\n",
    "from pyod.utils.utility import precision_n_scores\n",
    "from sklearn.metrics import roc_auc_score"
   ]
  },
  {
   "cell_type": "code",
   "execution_count": 17,
   "metadata": {},
   "outputs": [
    {
     "data": {
      "text/plain": [
       "['arrhythmia.mat',\n",
       " 'cardio.mat',\n",
       " 'glass.mat',\n",
       " 'ionosphere.mat',\n",
       " 'letter.mat',\n",
       " 'lympho.mat',\n",
       " 'mnist.mat',\n",
       " 'musk.mat',\n",
       " 'optdigits.mat',\n",
       " 'pendigits.mat',\n",
       " 'pima.mat',\n",
       " 'satellite.mat',\n",
       " 'satimage-2.mat',\n",
       " 'shuttle.mat',\n",
       " 'vertebral.mat',\n",
       " 'vowels.mat',\n",
       " 'wbc.mat']"
      ]
     },
     "execution_count": 17,
     "metadata": {},
     "output_type": "execute_result"
    }
   ],
   "source": [
    "#Define the data file and reading X and y\n",
    "\n",
    "mat_file_list = [\"arrhythmia.mat\",\"cardio.mat\",\"glass.mat\",\"ionosphere.mat\",\"letter.mat\",\"lympho.mat\",\"mnist.mat\",\"musk.mat\",\n",
    "                 \"optdigits.mat\",\"pendigits.mat\",\"pima.mat\",\"satellite.mat\",\"satimage-2.mat\",\"shuttle.mat\",\"vertebral.mat\",\n",
    "                \"vowels.mat\",\"wbc.mat\"]\n",
    "mat_file_list"
   ]
  },
  {
   "cell_type": "code",
   "execution_count": 20,
   "metadata": {},
   "outputs": [
    {
     "data": {
      "text/plain": [
       "{'__header__': b'MATLAB 5.0 MAT-file, written by Octave 3.8.0, 2014-12-18 10:48:09 UTC',\n",
       " '__version__': '1.0',\n",
       " '__globals__': [],\n",
       " 'X': array([[ 0.00491231,  0.69319077, -0.20364049, ...,  0.23149795,\n",
       "         -0.28978574, -0.49329397],\n",
       "        [ 0.11072935, -0.07990259, -0.20364049, ...,  0.09356344,\n",
       "         -0.25638541, -0.49329397],\n",
       "        [ 0.21654639, -0.27244466, -0.20364049, ...,  0.02459619,\n",
       "         -0.25638541,  1.14001753],\n",
       "        ...,\n",
       "        [-0.41835583, -0.91998844, -0.16463485, ..., -1.49268341,\n",
       "          0.24461959, -0.49329397],\n",
       "        [-0.41835583, -0.91998844, -0.15093411, ..., -1.42371616,\n",
       "          0.14441859, -0.49329397],\n",
       "        [-0.41835583, -0.91998844, -0.20364049, ..., -1.28578165,\n",
       "          3.58465295, -0.49329397]]),\n",
       " 'y': array([[0.],\n",
       "        [0.],\n",
       "        [0.],\n",
       "        ...,\n",
       "        [1.],\n",
       "        [1.],\n",
       "        [1.]])}"
      ]
     },
     "execution_count": 20,
     "metadata": {},
     "output_type": "execute_result"
    }
   ],
   "source": [
    "#packages to import or access mat files\n",
    "\n",
    "data = loadmat(\"E:\\\\python\\\\projectday1\\\\cardio.mat\")\n",
    "data #X are inputs and y is output"
   ]
  },
  {
   "cell_type": "code",
   "execution_count": 21,
   "metadata": {},
   "outputs": [
    {
     "data": {
      "text/plain": [
       "5"
      ]
     },
     "execution_count": 21,
     "metadata": {},
     "output_type": "execute_result"
    }
   ],
   "source": [
    "len(data)"
   ]
  },
  {
   "cell_type": "code",
   "execution_count": 23,
   "metadata": {},
   "outputs": [
    {
     "data": {
      "text/plain": [
       "dict_keys(['__header__', '__version__', '__globals__', 'X', 'y'])"
      ]
     },
     "execution_count": 23,
     "metadata": {},
     "output_type": "execute_result"
    }
   ],
   "source": [
    "data.keys()"
   ]
  },
  {
   "cell_type": "code",
   "execution_count": 25,
   "metadata": {},
   "outputs": [
    {
     "data": {
      "text/plain": [
       "dict_values([b'MATLAB 5.0 MAT-file, written by Octave 3.8.0, 2014-12-18 10:48:09 UTC', '1.0', [], array([[ 0.00491231,  0.69319077, -0.20364049, ...,  0.23149795,\n",
       "        -0.28978574, -0.49329397],\n",
       "       [ 0.11072935, -0.07990259, -0.20364049, ...,  0.09356344,\n",
       "        -0.25638541, -0.49329397],\n",
       "       [ 0.21654639, -0.27244466, -0.20364049, ...,  0.02459619,\n",
       "        -0.25638541,  1.14001753],\n",
       "       ...,\n",
       "       [-0.41835583, -0.91998844, -0.16463485, ..., -1.49268341,\n",
       "         0.24461959, -0.49329397],\n",
       "       [-0.41835583, -0.91998844, -0.15093411, ..., -1.42371616,\n",
       "         0.14441859, -0.49329397],\n",
       "       [-0.41835583, -0.91998844, -0.20364049, ..., -1.28578165,\n",
       "         3.58465295, -0.49329397]]), array([[0.],\n",
       "       [0.],\n",
       "       [0.],\n",
       "       ...,\n",
       "       [1.],\n",
       "       [1.],\n",
       "       [1.]])])"
      ]
     },
     "execution_count": 25,
     "metadata": {},
     "output_type": "execute_result"
    }
   ],
   "source": [
    "data.values()"
   ]
  },
  {
   "cell_type": "code",
   "execution_count": 27,
   "metadata": {},
   "outputs": [
    {
     "data": {
      "text/plain": [
       "(numpy.ndarray, (1831, 21))"
      ]
     },
     "execution_count": 27,
     "metadata": {},
     "output_type": "execute_result"
    }
   ],
   "source": [
    "#Input or independent feature shape in mat file \n",
    "type(data[\"X\"]),data[\"X\"].shape"
   ]
  },
  {
   "cell_type": "code",
   "execution_count": 31,
   "metadata": {},
   "outputs": [
    {
     "data": {
      "text/plain": [
       "(numpy.ndarray, (1831, 1))"
      ]
     },
     "execution_count": 31,
     "metadata": {},
     "output_type": "execute_result"
    }
   ],
   "source": [
    "#output or dependent feature shape in mat file\n",
    "type(data[\"y\"]),data[\"y\"].shape"
   ]
  },
  {
   "cell_type": "code",
   "execution_count": 32,
   "metadata": {},
   "outputs": [
    {
     "data": {
      "text/plain": [
       "['Data',\n",
       " '#Samples',\n",
       " '# Dimensions',\n",
       " 'Outlier Perc',\n",
       " 'ABOD',\n",
       " 'CBLOF',\n",
       " 'FB',\n",
       " 'HBOS',\n",
       " 'IForest',\n",
       " 'KNN',\n",
       " 'LOF',\n",
       " 'MCD',\n",
       " 'OCSVM',\n",
       " 'PCA']"
      ]
     },
     "execution_count": 32,
     "metadata": {},
     "output_type": "execute_result"
    }
   ],
   "source": [
    "df_columns = [\"Data\", \"#Samples\",\"# Dimensions\",\"Outlier Perc\", \"ABOD\",\"CBLOF\",\"FB\",\"HBOS\",\"IForest\",\"KNN\",\"LOF\",\"MCD\",\"OCSVM\",\n",
    "             \"PCA\"]\n",
    "df_columns"
   ]
  },
  {
   "cell_type": "code",
   "execution_count": 33,
   "metadata": {},
   "outputs": [
    {
     "data": {
      "text/html": [
       "<div>\n",
       "<style scoped>\n",
       "    .dataframe tbody tr th:only-of-type {\n",
       "        vertical-align: middle;\n",
       "    }\n",
       "\n",
       "    .dataframe tbody tr th {\n",
       "        vertical-align: top;\n",
       "    }\n",
       "\n",
       "    .dataframe thead th {\n",
       "        text-align: right;\n",
       "    }\n",
       "</style>\n",
       "<table border=\"1\" class=\"dataframe\">\n",
       "  <thead>\n",
       "    <tr style=\"text-align: right;\">\n",
       "      <th></th>\n",
       "      <th>Data</th>\n",
       "      <th>#Samples</th>\n",
       "      <th># Dimensions</th>\n",
       "      <th>Outlier Perc</th>\n",
       "      <th>ABOD</th>\n",
       "      <th>CBLOF</th>\n",
       "      <th>FB</th>\n",
       "      <th>HBOS</th>\n",
       "      <th>IForest</th>\n",
       "      <th>KNN</th>\n",
       "      <th>LOF</th>\n",
       "      <th>MCD</th>\n",
       "      <th>OCSVM</th>\n",
       "      <th>PCA</th>\n",
       "    </tr>\n",
       "  </thead>\n",
       "  <tbody>\n",
       "  </tbody>\n",
       "</table>\n",
       "</div>"
      ],
      "text/plain": [
       "Empty DataFrame\n",
       "Columns: [Data, #Samples, # Dimensions, Outlier Perc, ABOD, CBLOF, FB, HBOS, IForest, KNN, LOF, MCD, OCSVM, PCA]\n",
       "Index: []"
      ]
     },
     "execution_count": 33,
     "metadata": {},
     "output_type": "execute_result"
    }
   ],
   "source": [
    "#ROC Performance evaluation table Region of Charectarstics\n",
    "roc_df = pd.DataFrame(columns=df_columns)\n",
    "roc_df"
   ]
  },
  {
   "cell_type": "code",
   "execution_count": 34,
   "metadata": {},
   "outputs": [
    {
     "data": {
      "text/html": [
       "<div>\n",
       "<style scoped>\n",
       "    .dataframe tbody tr th:only-of-type {\n",
       "        vertical-align: middle;\n",
       "    }\n",
       "\n",
       "    .dataframe tbody tr th {\n",
       "        vertical-align: top;\n",
       "    }\n",
       "\n",
       "    .dataframe thead th {\n",
       "        text-align: right;\n",
       "    }\n",
       "</style>\n",
       "<table border=\"1\" class=\"dataframe\">\n",
       "  <thead>\n",
       "    <tr style=\"text-align: right;\">\n",
       "      <th></th>\n",
       "      <th>Data</th>\n",
       "      <th>#Samples</th>\n",
       "      <th># Dimensions</th>\n",
       "      <th>Outlier Perc</th>\n",
       "      <th>ABOD</th>\n",
       "      <th>CBLOF</th>\n",
       "      <th>FB</th>\n",
       "      <th>HBOS</th>\n",
       "      <th>IForest</th>\n",
       "      <th>KNN</th>\n",
       "      <th>LOF</th>\n",
       "      <th>MCD</th>\n",
       "      <th>OCSVM</th>\n",
       "      <th>PCA</th>\n",
       "    </tr>\n",
       "  </thead>\n",
       "  <tbody>\n",
       "  </tbody>\n",
       "</table>\n",
       "</div>"
      ],
      "text/plain": [
       "Empty DataFrame\n",
       "Columns: [Data, #Samples, # Dimensions, Outlier Perc, ABOD, CBLOF, FB, HBOS, IForest, KNN, LOF, MCD, OCSVM, PCA]\n",
       "Index: []"
      ]
     },
     "execution_count": 34,
     "metadata": {},
     "output_type": "execute_result"
    }
   ],
   "source": [
    "#Precision_n_scores - Performance evaluation table\n",
    "\n",
    "prn_df =  pd.DataFrame(columns=df_columns)\n",
    "prn_df"
   ]
  },
  {
   "cell_type": "code",
   "execution_count": 35,
   "metadata": {},
   "outputs": [
    {
     "data": {
      "text/html": [
       "<div>\n",
       "<style scoped>\n",
       "    .dataframe tbody tr th:only-of-type {\n",
       "        vertical-align: middle;\n",
       "    }\n",
       "\n",
       "    .dataframe tbody tr th {\n",
       "        vertical-align: top;\n",
       "    }\n",
       "\n",
       "    .dataframe thead th {\n",
       "        text-align: right;\n",
       "    }\n",
       "</style>\n",
       "<table border=\"1\" class=\"dataframe\">\n",
       "  <thead>\n",
       "    <tr style=\"text-align: right;\">\n",
       "      <th></th>\n",
       "      <th>Data</th>\n",
       "      <th>#Samples</th>\n",
       "      <th># Dimensions</th>\n",
       "      <th>Outlier Perc</th>\n",
       "      <th>ABOD</th>\n",
       "      <th>CBLOF</th>\n",
       "      <th>FB</th>\n",
       "      <th>HBOS</th>\n",
       "      <th>IForest</th>\n",
       "      <th>KNN</th>\n",
       "      <th>LOF</th>\n",
       "      <th>MCD</th>\n",
       "      <th>OCSVM</th>\n",
       "      <th>PCA</th>\n",
       "    </tr>\n",
       "  </thead>\n",
       "  <tbody>\n",
       "  </tbody>\n",
       "</table>\n",
       "</div>"
      ],
      "text/plain": [
       "Empty DataFrame\n",
       "Columns: [Data, #Samples, # Dimensions, Outlier Perc, ABOD, CBLOF, FB, HBOS, IForest, KNN, LOF, MCD, OCSVM, PCA]\n",
       "Index: []"
      ]
     },
     "execution_count": 35,
     "metadata": {},
     "output_type": "execute_result"
    }
   ],
   "source": [
    "#Time Data Frame\n",
    "time_df = pd.DataFrame(columns=df_columns)\n",
    "time_df"
   ]
  },
  {
   "cell_type": "code",
   "execution_count": 59,
   "metadata": {},
   "outputs": [
    {
     "name": "stdout",
     "output_type": "stream",
     "text": [
      "\n",
      "... Processing arrhythmia.mat ...\n",
      "Angle based outlier detector(ABOD) ROC:0.7246, precision @ rank n:0.2857, execution time: 0.307s\n",
      "Cluster-based Loacl Outlier Factor ROC:0.7283, precision @ rank n:0.2857, execution time: 0.2533s\n",
      "Feature Bagging ROC:0.712, precision @ rank n:0.2857, execution time: 1.1521s\n",
      "Histogram base outlier detection ROC:0.8077, precision @ rank n:0.4643, execution time: 0.1289s\n",
      "Isolation Forest ROC:0.7972, precision @ rank n:0.4286, execution time: 0.8136s\n",
      "k Nearest Neighbours (kNN) ROC:0.7148, precision @ rank n:0.2857, execution time: 0.1721s\n",
      "Local Outlier Factor(LOF) ROC:0.7171, precision @ rank n:0.3214, execution time: 0.1514s\n"
     ]
    },
    {
     "name": "stderr",
     "output_type": "stream",
     "text": [
      "E:\\LearnPython\\lib\\site-packages\\sklearn\\covariance\\_robust_covariance.py:644: UserWarning: The covariance matrix associated to your dataset is not full rank\n",
      "  warnings.warn(\"The covariance matrix associated to your dataset \"\n"
     ]
    },
    {
     "name": "stdout",
     "output_type": "stream",
     "text": [
      "Minimun Covariance Determinant (MCD) ROC:0.725, precision @ rank n:0.3214, execution time: 1.1814s\n",
      "One-Class SVM (OCSVM) ROC:0.7124, precision @ rank n:0.2857, execution time: 0.0944s\n",
      "Principal Component Analysis ROC:0.7134, precision @ rank n:0.2857, execution time: 0.1124s\n",
      "\n",
      "... Processing cardio.mat ...\n",
      "Angle based outlier detector(ABOD) ROC:0.5928, precision @ rank n:0.275, execution time: 0.7708s\n",
      "Cluster-based Loacl Outlier Factor ROC:0.7221, precision @ rank n:0.3, execution time: 0.2768s\n",
      "Feature Bagging ROC:0.6003, precision @ rank n:0.2, execution time: 1.6223s\n",
      "Histogram base outlier detection ROC:0.8556, precision @ rank n:0.525, execution time: 0.0166s\n",
      "Isolation Forest ROC:0.9243, precision @ rank n:0.55, execution time: 0.7662s\n",
      "k Nearest Neighbours (kNN) ROC:0.7663, precision @ rank n:0.3875, execution time: 0.3168s\n",
      "Local Outlier Factor(LOF) ROC:0.6062, precision @ rank n:0.2, execution time: 0.1961s\n"
     ]
    },
    {
     "name": "stderr",
     "output_type": "stream",
     "text": [
      "E:\\LearnPython\\lib\\site-packages\\sklearn\\covariance\\_robust_covariance.py:644: UserWarning: The covariance matrix associated to your dataset is not full rank\n",
      "  warnings.warn(\"The covariance matrix associated to your dataset \"\n",
      "E:\\LearnPython\\lib\\site-packages\\sklearn\\covariance\\_robust_covariance.py:170: RuntimeWarning: Determinant has increased; this should not happen: log(det) > log(previous_det) (-150.571804738634484 > -248.728773015425816). You may want to try with a higher value of support_fraction (current value: 0.510).\n",
      "  RuntimeWarning)\n",
      "E:\\LearnPython\\lib\\site-packages\\sklearn\\covariance\\_robust_covariance.py:170: RuntimeWarning: Determinant has increased; this should not happen: log(det) > log(previous_det) (-150.052926077148413 > -248.630517504509811). You may want to try with a higher value of support_fraction (current value: 0.510).\n",
      "  RuntimeWarning)\n",
      "E:\\LearnPython\\lib\\site-packages\\sklearn\\covariance\\_robust_covariance.py:170: RuntimeWarning: Determinant has increased; this should not happen: log(det) > log(previous_det) (-150.659295077299760 > -249.052730794661784). You may want to try with a higher value of support_fraction (current value: 0.510).\n",
      "  RuntimeWarning)\n",
      "E:\\LearnPython\\lib\\site-packages\\sklearn\\covariance\\_robust_covariance.py:170: RuntimeWarning: Determinant has increased; this should not happen: log(det) > log(previous_det) (-150.631396578159354 > -248.043611972082232). You may want to try with a higher value of support_fraction (current value: 0.510).\n",
      "  RuntimeWarning)\n",
      "E:\\LearnPython\\lib\\site-packages\\sklearn\\covariance\\_robust_covariance.py:170: RuntimeWarning: Determinant has increased; this should not happen: log(det) > log(previous_det) (-150.180439707671155 > -250.678881130545022). You may want to try with a higher value of support_fraction (current value: 0.510).\n",
      "  RuntimeWarning)\n",
      "E:\\LearnPython\\lib\\site-packages\\sklearn\\covariance\\_robust_covariance.py:170: RuntimeWarning: Determinant has increased; this should not happen: log(det) > log(previous_det) (-153.997713700265876 > -248.350351305256396). You may want to try with a higher value of support_fraction (current value: 0.510).\n",
      "  RuntimeWarning)\n"
     ]
    },
    {
     "name": "stdout",
     "output_type": "stream",
     "text": [
      "Minimun Covariance Determinant (MCD) ROC:0.8685, precision @ rank n:0.45, execution time: 0.9555s\n",
      "One-Class SVM (OCSVM) ROC:0.9404, precision @ rank n:0.55, execution time: 0.1593s\n",
      "Principal Component Analysis ROC:0.9542, precision @ rank n:0.6375, execution time: 0.003s\n",
      "\n",
      "... Processing glass.mat ...\n",
      "Angle based outlier detector(ABOD) ROC:0.8571, precision @ rank n:0.2857, execution time: 0.0833s\n",
      "Cluster-based Loacl Outlier Factor ROC:0.8373, precision @ rank n:0.1429, execution time: 0.0877s\n",
      "Feature Bagging ROC:0.8571, precision @ rank n:0.1429, execution time: 0.0694s\n",
      "Histogram base outlier detection ROC:0.7288, precision @ rank n:0.0, execution time: 0.0066s\n",
      "Isolation Forest ROC:0.745, precision @ rank n:0.1429, execution time: 0.5471s\n",
      "k Nearest Neighbours (kNN) ROC:0.8427, precision @ rank n:0.1429, execution time: 0.0153s\n",
      "Local Outlier Factor(LOF) ROC:0.8499, precision @ rank n:0.1429, execution time: 0.0077s\n",
      "Minimun Covariance Determinant (MCD) ROC:0.7975, precision @ rank n:0.1429, execution time: 0.0614s\n",
      "One-Class SVM (OCSVM) ROC:0.5714, precision @ rank n:0.1429, execution time: 0.001s\n",
      "Principal Component Analysis ROC:0.642, precision @ rank n:0.1429, execution time: 0.004s\n",
      "\n",
      "... Processing ionosphere.mat ...\n",
      "Angle based outlier detector(ABOD) ROC:0.9312, precision @ rank n:0.8305, execution time: 0.1581s\n",
      "Cluster-based Loacl Outlier Factor ROC:0.9103, precision @ rank n:0.8644, execution time: 0.0895s\n",
      "Feature Bagging ROC:0.9132, precision @ rank n:0.7966, execution time: 0.1174s\n",
      "Histogram base outlier detection ROC:0.6263, precision @ rank n:0.5085, execution time: 0.017s\n",
      "Isolation Forest ROC:0.8597, precision @ rank n:0.7119, execution time: 0.5653s\n",
      "k Nearest Neighbours (kNN) ROC:0.937, precision @ rank n:0.8983, execution time: 0.031s\n",
      "Local Outlier Factor(LOF) ROC:0.9155, precision @ rank n:0.7627, execution time: 0.0108s\n",
      "Minimun Covariance Determinant (MCD) ROC:0.9427, precision @ rank n:0.8983, execution time: 0.1226s\n",
      "One-Class SVM (OCSVM) ROC:0.8584, precision @ rank n:0.7627, execution time: 0.0079s\n",
      "Principal Component Analysis ROC:0.828, precision @ rank n:0.661, execution time: 0.0069s\n",
      "\n",
      "... Processing letter.mat ...\n",
      "Angle based outlier detector(ABOD) ROC:0.8804, precision @ rank n:0.3778, execution time: 0.6945s\n",
      "Cluster-based Loacl Outlier Factor ROC:0.7622, precision @ rank n:0.2667, execution time: 0.2131s\n",
      "Feature Bagging ROC:0.8536, precision @ rank n:0.3556, execution time: 1.3552s\n",
      "Histogram base outlier detection ROC:0.5871, precision @ rank n:0.0889, execution time: 0.0224s\n",
      "Isolation Forest ROC:0.6212, precision @ rank n:0.1333, execution time: 0.7998s\n",
      "k Nearest Neighbours (kNN) ROC:0.861, precision @ rank n:0.3111, execution time: 0.2829s\n",
      "Local Outlier Factor(LOF) ROC:0.8484, precision @ rank n:0.3556, execution time: 0.1828s\n",
      "Minimun Covariance Determinant (MCD) ROC:0.8006, precision @ rank n:0.2, execution time: 1.9614s\n",
      "One-Class SVM (OCSVM) ROC:0.6162, precision @ rank n:0.1778, execution time: 0.1557s\n",
      "Principal Component Analysis ROC:0.5385, precision @ rank n:0.1111, execution time: 0.0088s\n",
      "\n",
      "... Processing lympho.mat ...\n",
      "Angle based outlier detector(ABOD) ROC:0.8973, precision @ rank n:0.75, execution time: 0.0641s\n",
      "Cluster-based Loacl Outlier Factor ROC:0.9821, precision @ rank n:0.75, execution time: 0.0852s\n",
      "Feature Bagging ROC:0.9821, precision @ rank n:0.75, execution time: 0.0638s\n",
      "Histogram base outlier detection ROC:1.0, precision @ rank n:1.0, execution time: 0.0094s\n",
      "Isolation Forest ROC:1.0, precision @ rank n:1.0, execution time: 0.5574s\n",
      "k Nearest Neighbours (kNN) ROC:0.9598, precision @ rank n:0.75, execution time: 0.0157s\n",
      "Local Outlier Factor(LOF) ROC:0.9821, precision @ rank n:0.75, execution time: 0.007s\n",
      "Minimun Covariance Determinant (MCD) ROC:0.8884, precision @ rank n:0.75, execution time: 0.0529s\n",
      "One-Class SVM (OCSVM) ROC:0.9821, precision @ rank n:0.75, execution time: 0.003s\n",
      "Principal Component Analysis ROC:0.9911, precision @ rank n:0.75, execution time: 0.0044s\n",
      "\n",
      "... Processing mnist.mat ...\n",
      "Angle based outlier detector(ABOD) ROC:0.7949, precision @ rank n:0.3946, execution time: 13.88s\n",
      "Cluster-based Loacl Outlier Factor ROC:0.8162, precision @ rank n:0.3679, execution time: 2.0973s\n",
      "Feature Bagging ROC:0.7412, precision @ rank n:0.3679, execution time: 89.8757s\n",
      "Histogram base outlier detection ROC:0.5885, precision @ rank n:0.1237, execution time: 0.1199s\n",
      "Isolation Forest ROC:0.8214, precision @ rank n:0.2977, execution time: 4.1473s\n",
      "k Nearest Neighbours (kNN) ROC:0.856, precision @ rank n:0.4381, execution time: 13.0133s\n",
      "Local Outlier Factor(LOF) ROC:0.7227, precision @ rank n:0.3545, execution time: 12.2645s\n"
     ]
    },
    {
     "name": "stderr",
     "output_type": "stream",
     "text": [
      "E:\\LearnPython\\lib\\site-packages\\sklearn\\covariance\\_robust_covariance.py:644: UserWarning: The covariance matrix associated to your dataset is not full rank\n",
      "  warnings.warn(\"The covariance matrix associated to your dataset \"\n"
     ]
    },
    {
     "name": "stdout",
     "output_type": "stream",
     "text": [
      "Minimun Covariance Determinant (MCD) ROC:0.8541, precision @ rank n:0.3077, execution time: 5.1221s\n",
      "One-Class SVM (OCSVM) ROC:0.864, precision @ rank n:0.4281, execution time: 8.9496s\n",
      "Principal Component Analysis ROC:0.8635, precision @ rank n:0.4114, execution time: 0.311s\n",
      "\n",
      "... Processing musk.mat ...\n",
      "Angle based outlier detector(ABOD) ROC:0.1312, precision @ rank n:0.0588, execution time: 4.3484s\n",
      "Cluster-based Loacl Outlier Factor ROC:1.0, precision @ rank n:1.0, execution time: 0.7069s\n",
      "Feature Bagging ROC:0.4629, precision @ rank n:0.1471, execution time: 24.4637s\n",
      "Histogram base outlier detection ROC:1.0, precision @ rank n:0.9697, execution time: 0.1108s\n",
      "Isolation Forest ROC:0.9995, precision @ rank n:0.9118, execution time: 2.4532s\n",
      "k Nearest Neighbours (kNN) ROC:0.7337, precision @ rank n:0.1471, execution time: 3.5664s\n",
      "Local Outlier Factor(LOF) ROC:0.4544, precision @ rank n:0.1176, execution time: 3.3084s\n",
      "Minimun Covariance Determinant (MCD) ROC:0.9999, precision @ rank n:0.9706, execution time: 19.8226s\n",
      "One-Class SVM (OCSVM) ROC:1.0, precision @ rank n:1.0, execution time: 2.3556s\n",
      "Principal Component Analysis ROC:0.9999, precision @ rank n:0.9706, execution time: 0.2914s\n",
      "\n",
      "... Processing optdigits.mat ...\n",
      "Angle based outlier detector(ABOD) ROC:0.4287, precision @ rank n:0.0, execution time: 4.8623s\n",
      "Cluster-based Loacl Outlier Factor ROC:0.7617, precision @ rank n:0.0, execution time: 0.7928s\n",
      "Feature Bagging ROC:0.4415, precision @ rank n:0.0448, execution time: 23.3747s\n",
      "Histogram base outlier detection ROC:0.8656, precision @ rank n:0.2537, execution time: 0.0637s\n",
      "Isolation Forest ROC:0.655, precision @ rank n:0.0299, execution time: 1.7953s\n",
      "k Nearest Neighbours (kNN) ROC:0.3853, precision @ rank n:0.0, execution time: 3.4438s\n",
      "Local Outlier Factor(LOF) ROC:0.4537, precision @ rank n:0.0448, execution time: 3.1298s\n"
     ]
    },
    {
     "name": "stderr",
     "output_type": "stream",
     "text": [
      "E:\\LearnPython\\lib\\site-packages\\sklearn\\covariance\\_robust_covariance.py:644: UserWarning: The covariance matrix associated to your dataset is not full rank\n",
      "  warnings.warn(\"The covariance matrix associated to your dataset \"\n"
     ]
    },
    {
     "name": "stdout",
     "output_type": "stream",
     "text": [
      "Minimun Covariance Determinant (MCD) ROC:0.3681, precision @ rank n:0.0, execution time: 2.2581s\n",
      "One-Class SVM (OCSVM) ROC:0.5012, precision @ rank n:0.0, execution time: 2.7376s\n",
      "Principal Component Analysis ROC:0.5033, precision @ rank n:0.0, execution time: 0.0975s\n",
      "\n",
      "... Processing pendigits.mat ...\n",
      "Angle based outlier detector(ABOD) ROC:0.689, precision @ rank n:0.0882, execution time: 2.9752s\n",
      "Cluster-based Loacl Outlier Factor ROC:0.8356, precision @ rank n:0.25, execution time: 0.527s\n",
      "Feature Bagging ROC:0.4959, precision @ rank n:0.0588, execution time: 8.5505s\n",
      "Histogram base outlier detection ROC:0.9243, precision @ rank n:0.3235, execution time: 0.0215s\n",
      "Isolation Forest ROC:0.9422, precision @ rank n:0.3971, execution time: 1.3633s\n",
      "k Nearest Neighbours (kNN) ROC:0.7524, precision @ rank n:0.1029, execution time: 1.2703s\n",
      "Local Outlier Factor(LOF) ROC:0.4846, precision @ rank n:0.0441, execution time: 1.1429s\n",
      "Minimun Covariance Determinant (MCD) ROC:0.8448, precision @ rank n:0.1176, execution time: 3.1529s\n",
      "One-Class SVM (OCSVM) ROC:0.9332, precision @ rank n:0.4118, execution time: 1.754s\n",
      "Principal Component Analysis ROC:0.9343, precision @ rank n:0.3824, execution time: 0.0155s\n",
      "\n",
      "... Processing pima.mat ...\n",
      "Angle based outlier detector(ABOD) ROC:0.6924, precision @ rank n:0.5243, execution time: 0.2885s\n",
      "Cluster-based Loacl Outlier Factor ROC:0.6751, precision @ rank n:0.4951, execution time: 0.1463s\n",
      "Feature Bagging ROC:0.6127, precision @ rank n:0.3981, execution time: 0.1735s\n",
      "Histogram base outlier detection ROC:0.6672, precision @ rank n:0.4854, execution time: 0.0052s\n",
      "Isolation Forest ROC:0.6588, precision @ rank n:0.4369, execution time: 0.6333s\n",
      "k Nearest Neighbours (kNN) ROC:0.6913, precision @ rank n:0.4951, execution time: 0.0624s\n",
      "Local Outlier Factor(LOF) ROC:0.6563, precision @ rank n:0.4369, execution time: 0.0199s\n",
      "Minimun Covariance Determinant (MCD) ROC:0.6636, precision @ rank n:0.4854, execution time: 0.0884s\n",
      "One-Class SVM (OCSVM) ROC:0.5832, precision @ rank n:0.4272, execution time: 0.0232s\n",
      "Principal Component Analysis ROC:0.5857, precision @ rank n:0.4369, execution time: 0.0052s\n",
      "\n",
      "... Processing satellite.mat ...\n",
      "Angle based outlier detector(ABOD) ROC:0.5758, precision @ rank n:0.4067, execution time: 3.7245s\n",
      "Cluster-based Loacl Outlier Factor ROC:0.7986, precision @ rank n:0.6435, execution time: 0.792s\n",
      "Feature Bagging ROC:0.5676, precision @ rank n:0.4127, execution time: 15.4977s\n",
      "Histogram base outlier detection ROC:0.7737, precision @ rank n:0.5909, execution time: 0.051s\n",
      "Isolation Forest ROC:0.7102, precision @ rank n:0.5706, execution time: 1.8924s\n",
      "k Nearest Neighbours (kNN) ROC:0.7013, precision @ rank n:0.5275, execution time: 2.2933s\n",
      "Local Outlier Factor(LOF) ROC:0.5689, precision @ rank n:0.4103, execution time: 2.4136s\n",
      "Minimun Covariance Determinant (MCD) ROC:0.8182, precision @ rank n:0.7069, execution time: 3.9156s\n",
      "One-Class SVM (OCSVM) ROC:0.6827, precision @ rank n:0.5598, execution time: 2.5563s\n",
      "Principal Component Analysis ROC:0.6104, precision @ rank n:0.494, execution time: 0.0461s\n",
      "\n",
      "... Processing satimage-2.mat ...\n",
      "Angle based outlier detector(ABOD) ROC:0.8338, precision @ rank n:0.1875, execution time: 3.2351s\n",
      "Cluster-based Loacl Outlier Factor ROC:0.9999, precision @ rank n:0.9375, execution time: 0.5844s\n",
      "Feature Bagging ROC:0.4576, precision @ rank n:0.0938, execution time: 10.9689s\n",
      "Histogram base outlier detection ROC:0.9865, precision @ rank n:0.6562, execution time: 0.0302s\n",
      "Isolation Forest ROC:0.9972, precision @ rank n:0.875, execution time: 1.3474s\n",
      "k Nearest Neighbours (kNN) ROC:0.9644, precision @ rank n:0.4062, execution time: 1.6469s\n",
      "Local Outlier Factor(LOF) ROC:0.4468, precision @ rank n:0.0938, execution time: 1.4267s\n",
      "Minimun Covariance Determinant (MCD) ROC:0.9949, precision @ rank n:0.625, execution time: 3.4065s\n",
      "One-Class SVM (OCSVM) ROC:0.9998, precision @ rank n:0.9375, execution time: 2.0605s\n",
      "Principal Component Analysis ROC:0.99, precision @ rank n:0.8125, execution time: 0.0399s\n",
      "\n",
      "... Processing shuttle.mat ...\n",
      "Angle based outlier detector(ABOD) ROC:0.6157, precision @ rank n:0.1819, execution time: 27.2911s\n",
      "Cluster-based Loacl Outlier Factor ROC:0.664, precision @ rank n:0.2326, execution time: 1.8366s\n",
      "Feature Bagging ROC:0.4715, precision @ rank n:0.079, execution time: 83.5493s\n",
      "Histogram base outlier detection ROC:0.9856, precision @ rank n:0.9806, execution time: 0.0314s\n",
      "Isolation Forest ROC:0.9958, precision @ rank n:0.9486, execution time: 6.3615s\n",
      "k Nearest Neighbours (kNN) ROC:0.6551, precision @ rank n:0.2062, execution time: 14.7226s\n",
      "Local Outlier Factor(LOF) ROC:0.5277, precision @ rank n:0.1594, execution time: 17.5379s\n"
     ]
    },
    {
     "name": "stderr",
     "output_type": "stream",
     "text": [
      "E:\\LearnPython\\lib\\site-packages\\sklearn\\covariance\\_robust_covariance.py:170: RuntimeWarning: Determinant has increased; this should not happen: log(det) > log(previous_det) (-47.886004863226802 > -73.644292769281947). You may want to try with a higher value of support_fraction (current value: 0.503).\n",
      "  RuntimeWarning)\n",
      "E:\\LearnPython\\lib\\site-packages\\sklearn\\covariance\\_robust_covariance.py:170: RuntimeWarning: Determinant has increased; this should not happen: log(det) > log(previous_det) (-47.292670418797528 > -75.115672747380884). You may want to try with a higher value of support_fraction (current value: 0.503).\n",
      "  RuntimeWarning)\n",
      "E:\\LearnPython\\lib\\site-packages\\sklearn\\covariance\\_robust_covariance.py:170: RuntimeWarning: Determinant has increased; this should not happen: log(det) > log(previous_det) (-46.289123366798698 > -68.342601859733179). You may want to try with a higher value of support_fraction (current value: 0.503).\n",
      "  RuntimeWarning)\n",
      "E:\\LearnPython\\lib\\site-packages\\sklearn\\covariance\\_robust_covariance.py:170: RuntimeWarning: Determinant has increased; this should not happen: log(det) > log(previous_det) (-47.760184149037343 > -74.894393074759662). You may want to try with a higher value of support_fraction (current value: 0.501).\n",
      "  RuntimeWarning)\n",
      "E:\\LearnPython\\lib\\site-packages\\sklearn\\covariance\\_robust_covariance.py:170: RuntimeWarning: Determinant has increased; this should not happen: log(det) > log(previous_det) (-48.024670636869033 > -74.380236515595215). You may want to try with a higher value of support_fraction (current value: 0.501).\n",
      "  RuntimeWarning)\n",
      "E:\\LearnPython\\lib\\site-packages\\sklearn\\covariance\\_robust_covariance.py:170: RuntimeWarning: Determinant has increased; this should not happen: log(det) > log(previous_det) (-47.875164679872746 > -74.447781278655711). You may want to try with a higher value of support_fraction (current value: 0.501).\n",
      "  RuntimeWarning)\n",
      "E:\\LearnPython\\lib\\site-packages\\sklearn\\covariance\\_robust_covariance.py:170: RuntimeWarning: Determinant has increased; this should not happen: log(det) > log(previous_det) (-47.913099585376742 > -75.710481813417005). You may want to try with a higher value of support_fraction (current value: 0.501).\n",
      "  RuntimeWarning)\n",
      "E:\\LearnPython\\lib\\site-packages\\sklearn\\covariance\\_robust_covariance.py:170: RuntimeWarning: Determinant has increased; this should not happen: log(det) > log(previous_det) (-48.007609107888321 > -112.772375211506613). You may want to try with a higher value of support_fraction (current value: 0.501).\n",
      "  RuntimeWarning)\n",
      "E:\\LearnPython\\lib\\site-packages\\sklearn\\covariance\\_robust_covariance.py:170: RuntimeWarning: Determinant has increased; this should not happen: log(det) > log(previous_det) (-48.653847955873282 > -77.556495761906419). You may want to try with a higher value of support_fraction (current value: 0.501).\n",
      "  RuntimeWarning)\n",
      "E:\\LearnPython\\lib\\site-packages\\sklearn\\covariance\\_robust_covariance.py:170: RuntimeWarning: Determinant has increased; this should not happen: log(det) > log(previous_det) (-48.908745396900578 > -73.747638726592228). You may want to try with a higher value of support_fraction (current value: 0.501).\n",
      "  RuntimeWarning)\n",
      "E:\\LearnPython\\lib\\site-packages\\sklearn\\covariance\\_robust_covariance.py:170: RuntimeWarning: Determinant has increased; this should not happen: log(det) > log(previous_det) (-48.893719093576671 > -113.938742579674738). You may want to try with a higher value of support_fraction (current value: 0.501).\n",
      "  RuntimeWarning)\n",
      "E:\\LearnPython\\lib\\site-packages\\sklearn\\covariance\\_robust_covariance.py:170: RuntimeWarning: Determinant has increased; this should not happen: log(det) > log(previous_det) (-48.575864476594099 > -113.253623873968053). You may want to try with a higher value of support_fraction (current value: 0.501).\n",
      "  RuntimeWarning)\n",
      "E:\\LearnPython\\lib\\site-packages\\sklearn\\covariance\\_robust_covariance.py:170: RuntimeWarning: Determinant has increased; this should not happen: log(det) > log(previous_det) (-48.651987598109940 > -75.813346002601889). You may want to try with a higher value of support_fraction (current value: 0.501).\n",
      "  RuntimeWarning)\n",
      "E:\\LearnPython\\lib\\site-packages\\sklearn\\covariance\\_robust_covariance.py:170: RuntimeWarning: Determinant has increased; this should not happen: log(det) > log(previous_det) (-48.469789324105193 > -74.079366250829622). You may want to try with a higher value of support_fraction (current value: 0.501).\n",
      "  RuntimeWarning)\n",
      "E:\\LearnPython\\lib\\site-packages\\sklearn\\covariance\\_robust_covariance.py:170: RuntimeWarning: Determinant has increased; this should not happen: log(det) > log(previous_det) (-48.515470493148598 > -76.042820909032869). You may want to try with a higher value of support_fraction (current value: 0.501).\n",
      "  RuntimeWarning)\n",
      "E:\\LearnPython\\lib\\site-packages\\sklearn\\covariance\\_robust_covariance.py:170: RuntimeWarning: Determinant has increased; this should not happen: log(det) > log(previous_det) (-49.354494580866969 > -77.064681464479108). You may want to try with a higher value of support_fraction (current value: 0.501).\n",
      "  RuntimeWarning)\n",
      "E:\\LearnPython\\lib\\site-packages\\sklearn\\covariance\\_robust_covariance.py:170: RuntimeWarning: Determinant has increased; this should not happen: log(det) > log(previous_det) (-49.355088400623565 > -75.969347550518435). You may want to try with a higher value of support_fraction (current value: 0.501).\n",
      "  RuntimeWarning)\n",
      "E:\\LearnPython\\lib\\site-packages\\sklearn\\covariance\\_robust_covariance.py:170: RuntimeWarning: Determinant has increased; this should not happen: log(det) > log(previous_det) (-47.979716341531585 > -74.461131696661212). You may want to try with a higher value of support_fraction (current value: 0.501).\n",
      "  RuntimeWarning)\n",
      "E:\\LearnPython\\lib\\site-packages\\sklearn\\covariance\\_robust_covariance.py:170: RuntimeWarning: Determinant has increased; this should not happen: log(det) > log(previous_det) (-47.664960353161220 > -112.689144525907295). You may want to try with a higher value of support_fraction (current value: 0.501).\n",
      "  RuntimeWarning)\n",
      "E:\\LearnPython\\lib\\site-packages\\sklearn\\covariance\\_robust_covariance.py:170: RuntimeWarning: Determinant has increased; this should not happen: log(det) > log(previous_det) (-48.860308825928108 > -76.396112732923640). You may want to try with a higher value of support_fraction (current value: 0.501).\n",
      "  RuntimeWarning)\n",
      "E:\\LearnPython\\lib\\site-packages\\sklearn\\covariance\\_robust_covariance.py:170: RuntimeWarning: Determinant has increased; this should not happen: log(det) > log(previous_det) (-47.551414017939926 > -74.592254066612753). You may want to try with a higher value of support_fraction (current value: 0.501).\n",
      "  RuntimeWarning)\n",
      "E:\\LearnPython\\lib\\site-packages\\sklearn\\covariance\\_robust_covariance.py:170: RuntimeWarning: Determinant has increased; this should not happen: log(det) > log(previous_det) (-49.416305910590374 > -75.963629036620702). You may want to try with a higher value of support_fraction (current value: 0.501).\n",
      "  RuntimeWarning)\n",
      "E:\\LearnPython\\lib\\site-packages\\sklearn\\covariance\\_robust_covariance.py:170: RuntimeWarning: Determinant has increased; this should not happen: log(det) > log(previous_det) (-49.045913528340968 > -74.974220943418260). You may want to try with a higher value of support_fraction (current value: 0.501).\n",
      "  RuntimeWarning)\n",
      "E:\\LearnPython\\lib\\site-packages\\sklearn\\covariance\\_robust_covariance.py:170: RuntimeWarning: Determinant has increased; this should not happen: log(det) > log(previous_det) (-48.539425108969937 > -77.235070459560148). You may want to try with a higher value of support_fraction (current value: 0.501).\n",
      "  RuntimeWarning)\n",
      "E:\\LearnPython\\lib\\site-packages\\sklearn\\covariance\\_robust_covariance.py:170: RuntimeWarning: Determinant has increased; this should not happen: log(det) > log(previous_det) (-47.891401694150204 > -75.274952188424265). You may want to try with a higher value of support_fraction (current value: 0.501).\n",
      "  RuntimeWarning)\n",
      "E:\\LearnPython\\lib\\site-packages\\sklearn\\covariance\\_robust_covariance.py:170: RuntimeWarning: Determinant has increased; this should not happen: log(det) > log(previous_det) (-48.466957659587614 > -76.660548225770413). You may want to try with a higher value of support_fraction (current value: 0.501).\n",
      "  RuntimeWarning)\n"
     ]
    },
    {
     "name": "stderr",
     "output_type": "stream",
     "text": [
      "E:\\LearnPython\\lib\\site-packages\\sklearn\\covariance\\_robust_covariance.py:170: RuntimeWarning: Determinant has increased; this should not happen: log(det) > log(previous_det) (-49.347320251120330 > -75.690142692399576). You may want to try with a higher value of support_fraction (current value: 0.501).\n",
      "  RuntimeWarning)\n",
      "E:\\LearnPython\\lib\\site-packages\\sklearn\\covariance\\_robust_covariance.py:170: RuntimeWarning: Determinant has increased; this should not happen: log(det) > log(previous_det) (-48.673013618527690 > -76.290858812955463). You may want to try with a higher value of support_fraction (current value: 0.501).\n",
      "  RuntimeWarning)\n",
      "E:\\LearnPython\\lib\\site-packages\\sklearn\\covariance\\_robust_covariance.py:170: RuntimeWarning: Determinant has increased; this should not happen: log(det) > log(previous_det) (-47.488273732693251 > -77.330912115247145). You may want to try with a higher value of support_fraction (current value: 0.501).\n",
      "  RuntimeWarning)\n",
      "E:\\LearnPython\\lib\\site-packages\\sklearn\\covariance\\_robust_covariance.py:170: RuntimeWarning: Determinant has increased; this should not happen: log(det) > log(previous_det) (-47.104299670154099 > -74.050840487286877). You may want to try with a higher value of support_fraction (current value: 0.501).\n",
      "  RuntimeWarning)\n",
      "E:\\LearnPython\\lib\\site-packages\\sklearn\\covariance\\_robust_covariance.py:170: RuntimeWarning: Determinant has increased; this should not happen: log(det) > log(previous_det) (-47.364579088677019 > -76.992718886886607). You may want to try with a higher value of support_fraction (current value: 0.501).\n",
      "  RuntimeWarning)\n",
      "E:\\LearnPython\\lib\\site-packages\\sklearn\\covariance\\_robust_covariance.py:170: RuntimeWarning: Determinant has increased; this should not happen: log(det) > log(previous_det) (-48.982273495767124 > -74.928584927307341). You may want to try with a higher value of support_fraction (current value: 0.501).\n",
      "  RuntimeWarning)\n",
      "E:\\LearnPython\\lib\\site-packages\\sklearn\\covariance\\_robust_covariance.py:170: RuntimeWarning: Determinant has increased; this should not happen: log(det) > log(previous_det) (-49.417788362266890 > -74.671088176106863). You may want to try with a higher value of support_fraction (current value: 0.501).\n",
      "  RuntimeWarning)\n",
      "E:\\LearnPython\\lib\\site-packages\\sklearn\\covariance\\_robust_covariance.py:170: RuntimeWarning: Determinant has increased; this should not happen: log(det) > log(previous_det) (-49.294529641473844 > -74.576019479165339). You may want to try with a higher value of support_fraction (current value: 0.501).\n",
      "  RuntimeWarning)\n",
      "E:\\LearnPython\\lib\\site-packages\\sklearn\\covariance\\_robust_covariance.py:170: RuntimeWarning: Determinant has increased; this should not happen: log(det) > log(previous_det) (-48.614984751719327 > -74.253187809741362). You may want to try with a higher value of support_fraction (current value: 0.501).\n",
      "  RuntimeWarning)\n",
      "E:\\LearnPython\\lib\\site-packages\\sklearn\\covariance\\_robust_covariance.py:170: RuntimeWarning: Determinant has increased; this should not happen: log(det) > log(previous_det) (-48.750947341107498 > -113.487149622560679). You may want to try with a higher value of support_fraction (current value: 0.501).\n",
      "  RuntimeWarning)\n",
      "E:\\LearnPython\\lib\\site-packages\\sklearn\\covariance\\_robust_covariance.py:170: RuntimeWarning: Determinant has increased; this should not happen: log(det) > log(previous_det) (-49.169595855299988 > -75.295191348356283). You may want to try with a higher value of support_fraction (current value: 0.501).\n",
      "  RuntimeWarning)\n",
      "E:\\LearnPython\\lib\\site-packages\\sklearn\\covariance\\_robust_covariance.py:170: RuntimeWarning: Determinant has increased; this should not happen: log(det) > log(previous_det) (-49.060915651110676 > -75.315588417107051). You may want to try with a higher value of support_fraction (current value: 0.501).\n",
      "  RuntimeWarning)\n",
      "E:\\LearnPython\\lib\\site-packages\\sklearn\\covariance\\_robust_covariance.py:170: RuntimeWarning: Determinant has increased; this should not happen: log(det) > log(previous_det) (-47.669494319561920 > -112.687240350357456). You may want to try with a higher value of support_fraction (current value: 0.501).\n",
      "  RuntimeWarning)\n",
      "E:\\LearnPython\\lib\\site-packages\\sklearn\\covariance\\_robust_covariance.py:170: RuntimeWarning: Determinant has increased; this should not happen: log(det) > log(previous_det) (-48.070110320747304 > -112.816427428099118). You may want to try with a higher value of support_fraction (current value: 0.501).\n",
      "  RuntimeWarning)\n",
      "E:\\LearnPython\\lib\\site-packages\\sklearn\\covariance\\_robust_covariance.py:170: RuntimeWarning: Determinant has increased; this should not happen: log(det) > log(previous_det) (-48.612175507891628 > -113.285151495495555). You may want to try with a higher value of support_fraction (current value: 0.501).\n",
      "  RuntimeWarning)\n",
      "E:\\LearnPython\\lib\\site-packages\\sklearn\\covariance\\_robust_covariance.py:170: RuntimeWarning: Determinant has increased; this should not happen: log(det) > log(previous_det) (-48.892067901673542 > -113.932506931930561). You may want to try with a higher value of support_fraction (current value: 0.501).\n",
      "  RuntimeWarning)\n",
      "E:\\LearnPython\\lib\\site-packages\\sklearn\\covariance\\_robust_covariance.py:170: RuntimeWarning: Determinant has increased; this should not happen: log(det) > log(previous_det) (-48.370787919972834 > -74.024864901300404). You may want to try with a higher value of support_fraction (current value: 0.501).\n",
      "  RuntimeWarning)\n",
      "E:\\LearnPython\\lib\\site-packages\\sklearn\\covariance\\_robust_covariance.py:170: RuntimeWarning: Determinant has increased; this should not happen: log(det) > log(previous_det) (-49.373304502221785 > -75.251669179618474). You may want to try with a higher value of support_fraction (current value: 0.501).\n",
      "  RuntimeWarning)\n",
      "E:\\LearnPython\\lib\\site-packages\\sklearn\\covariance\\_robust_covariance.py:170: RuntimeWarning: Determinant has increased; this should not happen: log(det) > log(previous_det) (-49.214311530808665 > -75.074173999536811). You may want to try with a higher value of support_fraction (current value: 0.501).\n",
      "  RuntimeWarning)\n",
      "E:\\LearnPython\\lib\\site-packages\\sklearn\\covariance\\_robust_covariance.py:170: RuntimeWarning: Determinant has increased; this should not happen: log(det) > log(previous_det) (-48.999791446758636 > -76.964726138500779). You may want to try with a higher value of support_fraction (current value: 0.501).\n",
      "  RuntimeWarning)\n",
      "E:\\LearnPython\\lib\\site-packages\\sklearn\\covariance\\_robust_covariance.py:170: RuntimeWarning: Determinant has increased; this should not happen: log(det) > log(previous_det) (-48.863751113427035 > -74.124154212368737). You may want to try with a higher value of support_fraction (current value: 0.501).\n",
      "  RuntimeWarning)\n",
      "E:\\LearnPython\\lib\\site-packages\\sklearn\\covariance\\_robust_covariance.py:170: RuntimeWarning: Determinant has increased; this should not happen: log(det) > log(previous_det) (-48.823561023405759 > -75.054798718763422). You may want to try with a higher value of support_fraction (current value: 0.501).\n",
      "  RuntimeWarning)\n",
      "E:\\LearnPython\\lib\\site-packages\\sklearn\\covariance\\_robust_covariance.py:170: RuntimeWarning: Determinant has increased; this should not happen: log(det) > log(previous_det) (-48.277154201212092 > -76.582465108310998). You may want to try with a higher value of support_fraction (current value: 0.501).\n",
      "  RuntimeWarning)\n",
      "E:\\LearnPython\\lib\\site-packages\\sklearn\\covariance\\_robust_covariance.py:170: RuntimeWarning: Determinant has increased; this should not happen: log(det) > log(previous_det) (-49.330974351747585 > -76.991420969627043). You may want to try with a higher value of support_fraction (current value: 0.501).\n",
      "  RuntimeWarning)\n",
      "E:\\LearnPython\\lib\\site-packages\\sklearn\\covariance\\_robust_covariance.py:170: RuntimeWarning: Determinant has increased; this should not happen: log(det) > log(previous_det) (-48.542280569055364 > -75.339057496334220). You may want to try with a higher value of support_fraction (current value: 0.501).\n",
      "  RuntimeWarning)\n",
      "E:\\LearnPython\\lib\\site-packages\\sklearn\\covariance\\_robust_covariance.py:170: RuntimeWarning: Determinant has increased; this should not happen: log(det) > log(previous_det) (-48.957640665958920 > -75.116232821197457). You may want to try with a higher value of support_fraction (current value: 0.501).\n",
      "  RuntimeWarning)\n",
      "E:\\LearnPython\\lib\\site-packages\\sklearn\\covariance\\_robust_covariance.py:170: RuntimeWarning: Determinant has increased; this should not happen: log(det) > log(previous_det) (-49.297827020562764 > -75.398864878521877). You may want to try with a higher value of support_fraction (current value: 0.501).\n",
      "  RuntimeWarning)\n"
     ]
    },
    {
     "name": "stderr",
     "output_type": "stream",
     "text": [
      "E:\\LearnPython\\lib\\site-packages\\sklearn\\covariance\\_robust_covariance.py:170: RuntimeWarning: Determinant has increased; this should not happen: log(det) > log(previous_det) (-48.536805785995242 > -74.310355747697116). You may want to try with a higher value of support_fraction (current value: 0.501).\n",
      "  RuntimeWarning)\n",
      "E:\\LearnPython\\lib\\site-packages\\sklearn\\covariance\\_robust_covariance.py:170: RuntimeWarning: Determinant has increased; this should not happen: log(det) > log(previous_det) (-49.234817213150876 > -74.636394419452316). You may want to try with a higher value of support_fraction (current value: 0.501).\n",
      "  RuntimeWarning)\n"
     ]
    },
    {
     "name": "stdout",
     "output_type": "stream",
     "text": [
      "Minimun Covariance Determinant (MCD) ROC:0.9889, precision @ rank n:0.7362, execution time: 18.1867s\n",
      "One-Class SVM (OCSVM) ROC:0.9896, precision @ rank n:0.9514, execution time: 85.7344s\n",
      "Principal Component Analysis ROC:0.9879, precision @ rank n:0.9486, execution time: 0.0703s\n",
      "\n",
      "... Processing vertebral.mat ...\n",
      "Angle based outlier detector(ABOD) ROC:0.358, precision @ rank n:0.0, execution time: 0.105s\n",
      "Cluster-based Loacl Outlier Factor ROC:0.385, precision @ rank n:0.0, execution time: 0.092s\n",
      "Feature Bagging ROC:0.3232, precision @ rank n:0.0, execution time: 0.0665s\n",
      "Histogram base outlier detection ROC:0.351, precision @ rank n:0.0714, execution time: 0.004s\n",
      "Isolation Forest ROC:0.3981, precision @ rank n:0.0714, execution time: 0.5593s\n",
      "k Nearest Neighbours (kNN) ROC:0.3667, precision @ rank n:0.0, execution time: 0.02s\n",
      "Local Outlier Factor(LOF) ROC:0.2892, precision @ rank n:0.0, execution time: 0.008s\n",
      "Minimun Covariance Determinant (MCD) ROC:0.4051, precision @ rank n:0.0, execution time: 0.0817s\n",
      "One-Class SVM (OCSVM) ROC:0.4199, precision @ rank n:0.0, execution time: 0.004s\n",
      "Principal Component Analysis ROC:0.4408, precision @ rank n:0.1429, execution time: 0.004s\n",
      "\n",
      "... Processing vowels.mat ...\n"
     ]
    },
    {
     "name": "stderr",
     "output_type": "stream",
     "text": [
      "E:\\LearnPython\\lib\\site-packages\\sklearn\\covariance\\_robust_covariance.py:170: RuntimeWarning: Determinant has increased; this should not happen: log(det) > log(previous_det) (-23.696651536152320 > -41.529771191138238). You may want to try with a higher value of support_fraction (current value: 0.528).\n",
      "  RuntimeWarning)\n",
      "E:\\LearnPython\\lib\\site-packages\\sklearn\\covariance\\_robust_covariance.py:170: RuntimeWarning: Determinant has increased; this should not happen: log(det) > log(previous_det) (-23.599456866669662 > -41.771451046419259). You may want to try with a higher value of support_fraction (current value: 0.528).\n",
      "  RuntimeWarning)\n",
      "E:\\LearnPython\\lib\\site-packages\\sklearn\\covariance\\_robust_covariance.py:170: RuntimeWarning: Determinant has increased; this should not happen: log(det) > log(previous_det) (-23.683678132270988 > -42.060892178754550). You may want to try with a higher value of support_fraction (current value: 0.528).\n",
      "  RuntimeWarning)\n",
      "E:\\LearnPython\\lib\\site-packages\\sklearn\\covariance\\_robust_covariance.py:170: RuntimeWarning: Determinant has increased; this should not happen: log(det) > log(previous_det) (-23.595155658946165 > -42.739215972583196). You may want to try with a higher value of support_fraction (current value: 0.528).\n",
      "  RuntimeWarning)\n",
      "E:\\LearnPython\\lib\\site-packages\\sklearn\\covariance\\_robust_covariance.py:170: RuntimeWarning: Determinant has increased; this should not happen: log(det) > log(previous_det) (-23.877566872447680 > -42.701525722412363). You may want to try with a higher value of support_fraction (current value: 0.528).\n",
      "  RuntimeWarning)\n"
     ]
    },
    {
     "name": "stdout",
     "output_type": "stream",
     "text": [
      "Angle based outlier detector(ABOD) ROC:0.9667, precision @ rank n:0.5263, execution time: 0.5602s\n",
      "Cluster-based Loacl Outlier Factor ROC:0.913, precision @ rank n:0.2105, execution time: 0.2127s\n",
      "Feature Bagging ROC:0.9603, precision @ rank n:0.3684, execution time: 0.562s\n",
      "Histogram base outlier detection ROC:0.7511, precision @ rank n:0.1579, execution time: 0.008s\n",
      "Isolation Forest ROC:0.8054, precision @ rank n:0.3684, execution time: 0.7169s\n",
      "k Nearest Neighbours (kNN) ROC:0.9669, precision @ rank n:0.6316, execution time: 0.1379s\n",
      "Local Outlier Factor(LOF) ROC:0.9595, precision @ rank n:0.4737, execution time: 0.07s\n",
      "Minimun Covariance Determinant (MCD) ROC:0.7261, precision @ rank n:0.0, execution time: 1.3467s\n",
      "One-Class SVM (OCSVM) ROC:0.8672, precision @ rank n:0.4211, execution time: 0.0811s\n",
      "Principal Component Analysis ROC:0.7061, precision @ rank n:0.2105, execution time: 0.004s\n",
      "\n",
      "... Processing wbc.mat ...\n",
      "Angle based outlier detector(ABOD) ROC:0.8776, precision @ rank n:0.0, execution time: 0.1651s\n",
      "Cluster-based Loacl Outlier Factor ROC:0.8313, precision @ rank n:0.2, execution time: 0.1091s\n",
      "Feature Bagging ROC:0.8816, precision @ rank n:0.2, execution time: 0.1464s\n",
      "Histogram base outlier detection ROC:0.9429, precision @ rank n:0.4, execution time: 0.016s\n",
      "Isolation Forest ROC:0.8558, precision @ rank n:0.2, execution time: 0.5935s\n",
      "k Nearest Neighbours (kNN) ROC:0.8816, precision @ rank n:0.2, execution time: 0.0369s\n",
      "Local Outlier Factor(LOF) ROC:0.8898, precision @ rank n:0.2, execution time: 0.0132s\n",
      "Minimun Covariance Determinant (MCD) ROC:0.917, precision @ rank n:0.4, execution time: 0.1175s\n",
      "One-Class SVM (OCSVM) ROC:0.8776, precision @ rank n:0.2, execution time: 0.012s\n",
      "Principal Component Analysis ROC:0.8231, precision @ rank n:0.2, execution time: 0.002s\n"
     ]
    }
   ],
   "source": [
    "#Exploring/Accessing all mat files\n",
    "from time import time\n",
    "random_state = np.random.RandomState(42)\n",
    "\n",
    "\n",
    "for mat_file in mat_file_list:\n",
    "    print(\"\\n... Processing\", mat_file, \"...\")\n",
    "    mat = loadmat(os.path.join(\"E:\\\\python\\\\projectday1\",mat_file))\n",
    "    \n",
    "    X = mat[\"X\"]\n",
    "    y = mat[\"y\"].ravel()\n",
    "    \n",
    "    outliers_fraction = np.count_nonzero(y)/len(y)\n",
    "    outliers_percentage = round(outliers_fraction*100, ndigits=4)\n",
    "    \n",
    "    #construct containers for saving results\n",
    "    roc_list = [mat_file[:-4],X.shape[0],X.shape[1], outliers_percentage]\n",
    "    prn_list = [mat_file[:-4],X.shape[0],X.shape[1], outliers_percentage]\n",
    "    time_list = [mat_file[:-4],X.shape[0],X.shape[1], outliers_percentage]\n",
    "    \n",
    "    #60% data for training and 40% for testing\n",
    "    X_train,X_test,y_train,y_test = train_test_split(X,y,test_size=0.4,random_state = 2)\n",
    "    \n",
    "    # STandardaizing data for preprocessing\n",
    "    X_train_norm,  X_test_norm = standardizer(X_train,X_test)\n",
    "    \n",
    "    classifiers = {\n",
    "                   \"Angle based outlier detector(ABOD)\":ABOD(contamination = outliers_fraction), #contamination based on what factors the data is considered as outliers\n",
    "                   \"Cluster-based Loacl Outlier Factor\":CBLOF(contamination = outliers_fraction,check_estimator= False, random_state=random_state),\n",
    "                   \"Feature Bagging\":FeatureBagging(contamination = outliers_fraction,random_state=random_state),\n",
    "                   \"Histogram base outlier detection\": HBOS(contamination = outliers_fraction),\n",
    "                   \"Isolation Forest\": IForest(contamination = outliers_fraction,random_state=random_state),\n",
    "                   \"k Nearest Neighbours (kNN)\": KNN(contamination = outliers_fraction),\n",
    "                   \"Local Outlier Factor(LOF)\": LOF(contamination = outliers_fraction),\n",
    "                   \"Minimun Covariance Determinant (MCD)\": MCD(contamination = outliers_fraction, random_state=random_state),\n",
    "                   \"One-Class SVM (OCSVM)\": OCSVM(contamination = outliers_fraction),\n",
    "                   \"Principal Component Analysis\": PCA(contamination = outliers_fraction,random_state=random_state)\n",
    "                  }\n",
    "                   \n",
    "    for clf_name,clf in classifiers.items():\n",
    "        t0 =time ()\n",
    "        clf.fit(X_train_norm)\n",
    "        test_scores = clf.decision_function(X_test_norm)\n",
    "        t1 = time()\n",
    "        duration = round(t1-t0, ndigits=4)\n",
    "        time_list.append(duration)\n",
    "                        \n",
    "        roc = round(roc_auc_score(y_test,test_scores),ndigits = 4)\n",
    "        prn = round(precision_n_scores(y_test,test_scores),ndigits = 4)\n",
    "                        \n",
    "        print(\"{clf_name} ROC:{roc}, precision @ rank n:{prn}, execution time: {duration}s\".\n",
    "                              format(clf_name=clf_name, roc =roc, prn = prn, duration = duration))\n",
    "        roc_list.append(roc)\n",
    "        prn_list.append(prn)\n",
    "                        \n",
    "    temp_df = pd.DataFrame(time_list).transpose()\n",
    "    temp_df_columns = df_columns\n",
    "    time_df = pd.concat([time_df,temp_df],axis=0)\n",
    "    \n",
    "    temp_df = pd.DataFrame(roc_list).transpose()\n",
    "    temp_df_columns = df_columns\n",
    "    roc_df = pd.concat([roc_df,temp_df],axis=0)\n",
    "    \n",
    "    temp_df = pd.DataFrame(prn_list).transpose()\n",
    "    temp_df_columns = df_columns\n",
    "    prn_df = pd.concat([prn_df,temp_df],axis=0)\n",
    "                \n",
    "                \n",
    "    \n",
    "    "
   ]
  },
  {
   "cell_type": "code",
   "execution_count": null,
   "metadata": {},
   "outputs": [],
   "source": []
  },
  {
   "cell_type": "code",
   "execution_count": null,
   "metadata": {},
   "outputs": [],
   "source": []
  }
 ],
 "metadata": {
  "kernelspec": {
   "display_name": "Python 3",
   "language": "python",
   "name": "python3"
  },
  "language_info": {
   "codemirror_mode": {
    "name": "ipython",
    "version": 3
   },
   "file_extension": ".py",
   "mimetype": "text/x-python",
   "name": "python",
   "nbconvert_exporter": "python",
   "pygments_lexer": "ipython3",
   "version": "3.7.6"
  }
 },
 "nbformat": 4,
 "nbformat_minor": 4
}
