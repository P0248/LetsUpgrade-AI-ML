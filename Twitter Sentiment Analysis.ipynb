{
 "cells": [
  {
   "cell_type": "code",
   "execution_count": 1,
   "metadata": {},
   "outputs": [],
   "source": [
    "#Collecting data using Twitter"
   ]
  },
  {
   "cell_type": "code",
   "execution_count": 2,
   "metadata": {},
   "outputs": [],
   "source": [
    "import numpy as np\n",
    "import pandas as pd\n",
    "import tweepy\n",
    "import json\n",
    "from tweepy import OAuthHandler"
   ]
  },
  {
   "cell_type": "code",
   "execution_count": 3,
   "metadata": {},
   "outputs": [],
   "source": [
    "consumerKey = \"Y38IcMtEaGScO1Y6i2GZO5LrW\"\n",
    "consumerKeySecret = \"baH2Nv4PWLvrapbvi3GiRDieRXNJ0XXoH0OvgIzdYOn4kGCS2J\"\n",
    "\n",
    "accessToken=\"1325880727834030080-E8oQRf6wsBwMoCWH0Xi8632MJoZo19\"\n",
    "accessTokenSecret= \"6v5O5Oq45aeT9PHYCRDWgtU5NYE7jABjVLXUTN5hokVY8\""
   ]
  },
  {
   "cell_type": "code",
   "execution_count": 4,
   "metadata": {},
   "outputs": [],
   "source": [
    "auth = tweepy.OAuthHandler(consumerKey, consumerKeySecret)\n",
    "auth.set_access_token(accessToken,accessTokenSecret)\n",
    "api = tweepy.API(auth)"
   ]
  },
  {
   "cell_type": "code",
   "execution_count": 5,
   "metadata": {},
   "outputs": [],
   "source": [
    "query = \"FarmersProtestDelhi2020\"\n"
   ]
  },
  {
   "cell_type": "code",
   "execution_count": 6,
   "metadata": {},
   "outputs": [
    {
     "name": "stdout",
     "output_type": "stream",
     "text": [
      "Status(_api=<tweepy.api.API object at 0x000002AC2B251CC8>, _json={'created_at': 'Thu Dec 03 17:32:35 +0000 2020', 'id': 1334551114805440512, 'id_str': '1334551114805440512', 'text': 'https://t.co/6tmEJdkYfn farmers feed all of us but Delhi police is trying to stop the food which is being brought f… https://t.co/3tyFk5JZ8d', 'truncated': True, 'entities': {'hashtags': [], 'symbols': [], 'user_mentions': [], 'urls': [{'url': 'https://t.co/6tmEJdkYfn', 'expanded_url': 'https://youtu.be/suQvlsrX9qY', 'display_url': 'youtu.be/suQvlsrX9qY', 'indices': [0, 23]}, {'url': 'https://t.co/3tyFk5JZ8d', 'expanded_url': 'https://twitter.com/i/web/status/1334551114805440512', 'display_url': 'twitter.com/i/web/status/1…', 'indices': [117, 140]}]}, 'metadata': {'iso_language_code': 'en', 'result_type': 'recent'}, 'source': '<a href=\"http://twitter.com/download/android\" rel=\"nofollow\">Twitter for Android</a>', 'in_reply_to_status_id': None, 'in_reply_to_status_id_str': None, 'in_reply_to_user_id': None, 'in_reply_to_user_id_str': None, 'in_reply_to_screen_name': None, 'user': {'id': 1245838169020362753, 'id_str': '1245838169020362753', 'name': 'Paviter', 'screen_name': 'Paviter29434410', 'location': '', 'description': '', 'url': None, 'entities': {'description': {'urls': []}}, 'protected': False, 'followers_count': 1, 'friends_count': 19, 'listed_count': 0, 'created_at': 'Thu Apr 02 22:19:14 +0000 2020', 'favourites_count': 30, 'utc_offset': None, 'time_zone': None, 'geo_enabled': False, 'verified': False, 'statuses_count': 41, 'lang': None, 'contributors_enabled': False, 'is_translator': False, 'is_translation_enabled': False, 'profile_background_color': 'F5F8FA', 'profile_background_image_url': None, 'profile_background_image_url_https': None, 'profile_background_tile': False, 'profile_image_url': 'http://pbs.twimg.com/profile_images/1321013593467281408/KgyF-js1_normal.jpg', 'profile_image_url_https': 'https://pbs.twimg.com/profile_images/1321013593467281408/KgyF-js1_normal.jpg', 'profile_banner_url': 'https://pbs.twimg.com/profile_banners/1245838169020362753/1603789196', 'profile_link_color': '1DA1F2', 'profile_sidebar_border_color': 'C0DEED', 'profile_sidebar_fill_color': 'DDEEF6', 'profile_text_color': '333333', 'profile_use_background_image': True, 'has_extended_profile': False, 'default_profile': True, 'default_profile_image': False, 'following': False, 'follow_request_sent': False, 'notifications': False, 'translator_type': 'none'}, 'geo': None, 'coordinates': None, 'place': None, 'contributors': None, 'is_quote_status': False, 'retweet_count': 0, 'favorite_count': 0, 'favorited': False, 'retweeted': False, 'possibly_sensitive': False, 'lang': 'en'}, created_at=datetime.datetime(2020, 12, 3, 17, 32, 35), id=1334551114805440512, id_str='1334551114805440512', text='https://t.co/6tmEJdkYfn farmers feed all of us but Delhi police is trying to stop the food which is being brought f… https://t.co/3tyFk5JZ8d', truncated=True, entities={'hashtags': [], 'symbols': [], 'user_mentions': [], 'urls': [{'url': 'https://t.co/6tmEJdkYfn', 'expanded_url': 'https://youtu.be/suQvlsrX9qY', 'display_url': 'youtu.be/suQvlsrX9qY', 'indices': [0, 23]}, {'url': 'https://t.co/3tyFk5JZ8d', 'expanded_url': 'https://twitter.com/i/web/status/1334551114805440512', 'display_url': 'twitter.com/i/web/status/1…', 'indices': [117, 140]}]}, metadata={'iso_language_code': 'en', 'result_type': 'recent'}, source='Twitter for Android', source_url='http://twitter.com/download/android', in_reply_to_status_id=None, in_reply_to_status_id_str=None, in_reply_to_user_id=None, in_reply_to_user_id_str=None, in_reply_to_screen_name=None, author=User(_api=<tweepy.api.API object at 0x000002AC2B251CC8>, _json={'id': 1245838169020362753, 'id_str': '1245838169020362753', 'name': 'Paviter', 'screen_name': 'Paviter29434410', 'location': '', 'description': '', 'url': None, 'entities': {'description': {'urls': []}}, 'protected': False, 'followers_count': 1, 'friends_count': 19, 'listed_count': 0, 'created_at': 'Thu Apr 02 22:19:14 +0000 2020', 'favourites_count': 30, 'utc_offset': None, 'time_zone': None, 'geo_enabled': False, 'verified': False, 'statuses_count': 41, 'lang': None, 'contributors_enabled': False, 'is_translator': False, 'is_translation_enabled': False, 'profile_background_color': 'F5F8FA', 'profile_background_image_url': None, 'profile_background_image_url_https': None, 'profile_background_tile': False, 'profile_image_url': 'http://pbs.twimg.com/profile_images/1321013593467281408/KgyF-js1_normal.jpg', 'profile_image_url_https': 'https://pbs.twimg.com/profile_images/1321013593467281408/KgyF-js1_normal.jpg', 'profile_banner_url': 'https://pbs.twimg.com/profile_banners/1245838169020362753/1603789196', 'profile_link_color': '1DA1F2', 'profile_sidebar_border_color': 'C0DEED', 'profile_sidebar_fill_color': 'DDEEF6', 'profile_text_color': '333333', 'profile_use_background_image': True, 'has_extended_profile': False, 'default_profile': True, 'default_profile_image': False, 'following': False, 'follow_request_sent': False, 'notifications': False, 'translator_type': 'none'}, id=1245838169020362753, id_str='1245838169020362753', name='Paviter', screen_name='Paviter29434410', location='', description='', url=None, entities={'description': {'urls': []}}, protected=False, followers_count=1, friends_count=19, listed_count=0, created_at=datetime.datetime(2020, 4, 2, 22, 19, 14), favourites_count=30, utc_offset=None, time_zone=None, geo_enabled=False, verified=False, statuses_count=41, lang=None, contributors_enabled=False, is_translator=False, is_translation_enabled=False, profile_background_color='F5F8FA', profile_background_image_url=None, profile_background_image_url_https=None, profile_background_tile=False, profile_image_url='http://pbs.twimg.com/profile_images/1321013593467281408/KgyF-js1_normal.jpg', profile_image_url_https='https://pbs.twimg.com/profile_images/1321013593467281408/KgyF-js1_normal.jpg', profile_banner_url='https://pbs.twimg.com/profile_banners/1245838169020362753/1603789196', profile_link_color='1DA1F2', profile_sidebar_border_color='C0DEED', profile_sidebar_fill_color='DDEEF6', profile_text_color='333333', profile_use_background_image=True, has_extended_profile=False, default_profile=True, default_profile_image=False, following=False, follow_request_sent=False, notifications=False, translator_type='none'), user=User(_api=<tweepy.api.API object at 0x000002AC2B251CC8>, _json={'id': 1245838169020362753, 'id_str': '1245838169020362753', 'name': 'Paviter', 'screen_name': 'Paviter29434410', 'location': '', 'description': '', 'url': None, 'entities': {'description': {'urls': []}}, 'protected': False, 'followers_count': 1, 'friends_count': 19, 'listed_count': 0, 'created_at': 'Thu Apr 02 22:19:14 +0000 2020', 'favourites_count': 30, 'utc_offset': None, 'time_zone': None, 'geo_enabled': False, 'verified': False, 'statuses_count': 41, 'lang': None, 'contributors_enabled': False, 'is_translator': False, 'is_translation_enabled': False, 'profile_background_color': 'F5F8FA', 'profile_background_image_url': None, 'profile_background_image_url_https': None, 'profile_background_tile': False, 'profile_image_url': 'http://pbs.twimg.com/profile_images/1321013593467281408/KgyF-js1_normal.jpg', 'profile_image_url_https': 'https://pbs.twimg.com/profile_images/1321013593467281408/KgyF-js1_normal.jpg', 'profile_banner_url': 'https://pbs.twimg.com/profile_banners/1245838169020362753/1603789196', 'profile_link_color': '1DA1F2', 'profile_sidebar_border_color': 'C0DEED', 'profile_sidebar_fill_color': 'DDEEF6', 'profile_text_color': '333333', 'profile_use_background_image': True, 'has_extended_profile': False, 'default_profile': True, 'default_profile_image': False, 'following': False, 'follow_request_sent': False, 'notifications': False, 'translator_type': 'none'}, id=1245838169020362753, id_str='1245838169020362753', name='Paviter', screen_name='Paviter29434410', location='', description='', url=None, entities={'description': {'urls': []}}, protected=False, followers_count=1, friends_count=19, listed_count=0, created_at=datetime.datetime(2020, 4, 2, 22, 19, 14), favourites_count=30, utc_offset=None, time_zone=None, geo_enabled=False, verified=False, statuses_count=41, lang=None, contributors_enabled=False, is_translator=False, is_translation_enabled=False, profile_background_color='F5F8FA', profile_background_image_url=None, profile_background_image_url_https=None, profile_background_tile=False, profile_image_url='http://pbs.twimg.com/profile_images/1321013593467281408/KgyF-js1_normal.jpg', profile_image_url_https='https://pbs.twimg.com/profile_images/1321013593467281408/KgyF-js1_normal.jpg', profile_banner_url='https://pbs.twimg.com/profile_banners/1245838169020362753/1603789196', profile_link_color='1DA1F2', profile_sidebar_border_color='C0DEED', profile_sidebar_fill_color='DDEEF6', profile_text_color='333333', profile_use_background_image=True, has_extended_profile=False, default_profile=True, default_profile_image=False, following=False, follow_request_sent=False, notifications=False, translator_type='none'), geo=None, coordinates=None, place=None, contributors=None, is_quote_status=False, retweet_count=0, favorite_count=0, favorited=False, retweeted=False, possibly_sensitive=False, lang='en') \n",
      "\n",
      "..............................\n",
      "\n",
      "Status(_api=<tweepy.api.API object at 0x000002AC2B251CC8>, _json={'created_at': 'Thu Dec 03 17:32:34 +0000 2020', 'id': 1334551113761083393, 'id_str': '1334551113761083393', 'text': \"These farmers command self respect &amp; dignity of that magnitude which Bootlicking anchors of Godi Media can't even d… https://t.co/Z9CNWuaMZs\", 'truncated': True, 'entities': {'hashtags': [], 'symbols': [], 'user_mentions': [], 'urls': [{'url': 'https://t.co/Z9CNWuaMZs', 'expanded_url': 'https://twitter.com/i/web/status/1334551113761083393', 'display_url': 'twitter.com/i/web/status/1…', 'indices': [121, 144]}]}, 'metadata': {'iso_language_code': 'en', 'result_type': 'recent'}, 'source': '<a href=\"http://twitter.com/download/android\" rel=\"nofollow\">Twitter for Android</a>', 'in_reply_to_status_id': None, 'in_reply_to_status_id_str': None, 'in_reply_to_user_id': None, 'in_reply_to_user_id_str': None, 'in_reply_to_screen_name': None, 'user': {'id': 1376979408, 'id_str': '1376979408', 'name': 'Prashant Sheru', 'screen_name': 'PSHERU', 'location': 'MUMBAI', 'description': 'A professional with expertise in Training & Marketing.Proud Indian & Pride in  constitution.Admire INDIAN NATIONAL CONGRESS.EX IAF.', 'url': None, 'entities': {'description': {'urls': []}}, 'protected': False, 'followers_count': 215, 'friends_count': 107, 'listed_count': 0, 'created_at': 'Wed Apr 24 13:00:04 +0000 2013', 'favourites_count': 16505, 'utc_offset': None, 'time_zone': None, 'geo_enabled': True, 'verified': False, 'statuses_count': 6336, 'lang': None, 'contributors_enabled': False, 'is_translator': False, 'is_translation_enabled': False, 'profile_background_color': 'C0DEED', 'profile_background_image_url': 'http://abs.twimg.com/images/themes/theme1/bg.png', 'profile_background_image_url_https': 'https://abs.twimg.com/images/themes/theme1/bg.png', 'profile_background_tile': False, 'profile_image_url': 'http://pbs.twimg.com/profile_images/1292508391328210945/cuPxT19D_normal.jpg', 'profile_image_url_https': 'https://pbs.twimg.com/profile_images/1292508391328210945/cuPxT19D_normal.jpg', 'profile_banner_url': 'https://pbs.twimg.com/profile_banners/1376979408/1587059844', 'profile_link_color': '1DA1F2', 'profile_sidebar_border_color': 'C0DEED', 'profile_sidebar_fill_color': 'DDEEF6', 'profile_text_color': '333333', 'profile_use_background_image': True, 'has_extended_profile': False, 'default_profile': True, 'default_profile_image': False, 'following': False, 'follow_request_sent': False, 'notifications': False, 'translator_type': 'none'}, 'geo': None, 'coordinates': None, 'place': None, 'contributors': None, 'is_quote_status': False, 'retweet_count': 0, 'favorite_count': 0, 'favorited': False, 'retweeted': False, 'possibly_sensitive': False, 'lang': 'en'}, created_at=datetime.datetime(2020, 12, 3, 17, 32, 34), id=1334551113761083393, id_str='1334551113761083393', text=\"These farmers command self respect &amp; dignity of that magnitude which Bootlicking anchors of Godi Media can't even d… https://t.co/Z9CNWuaMZs\", truncated=True, entities={'hashtags': [], 'symbols': [], 'user_mentions': [], 'urls': [{'url': 'https://t.co/Z9CNWuaMZs', 'expanded_url': 'https://twitter.com/i/web/status/1334551113761083393', 'display_url': 'twitter.com/i/web/status/1…', 'indices': [121, 144]}]}, metadata={'iso_language_code': 'en', 'result_type': 'recent'}, source='Twitter for Android', source_url='http://twitter.com/download/android', in_reply_to_status_id=None, in_reply_to_status_id_str=None, in_reply_to_user_id=None, in_reply_to_user_id_str=None, in_reply_to_screen_name=None, author=User(_api=<tweepy.api.API object at 0x000002AC2B251CC8>, _json={'id': 1376979408, 'id_str': '1376979408', 'name': 'Prashant Sheru', 'screen_name': 'PSHERU', 'location': 'MUMBAI', 'description': 'A professional with expertise in Training & Marketing.Proud Indian & Pride in  constitution.Admire INDIAN NATIONAL CONGRESS.EX IAF.', 'url': None, 'entities': {'description': {'urls': []}}, 'protected': False, 'followers_count': 215, 'friends_count': 107, 'listed_count': 0, 'created_at': 'Wed Apr 24 13:00:04 +0000 2013', 'favourites_count': 16505, 'utc_offset': None, 'time_zone': None, 'geo_enabled': True, 'verified': False, 'statuses_count': 6336, 'lang': None, 'contributors_enabled': False, 'is_translator': False, 'is_translation_enabled': False, 'profile_background_color': 'C0DEED', 'profile_background_image_url': 'http://abs.twimg.com/images/themes/theme1/bg.png', 'profile_background_image_url_https': 'https://abs.twimg.com/images/themes/theme1/bg.png', 'profile_background_tile': False, 'profile_image_url': 'http://pbs.twimg.com/profile_images/1292508391328210945/cuPxT19D_normal.jpg', 'profile_image_url_https': 'https://pbs.twimg.com/profile_images/1292508391328210945/cuPxT19D_normal.jpg', 'profile_banner_url': 'https://pbs.twimg.com/profile_banners/1376979408/1587059844', 'profile_link_color': '1DA1F2', 'profile_sidebar_border_color': 'C0DEED', 'profile_sidebar_fill_color': 'DDEEF6', 'profile_text_color': '333333', 'profile_use_background_image': True, 'has_extended_profile': False, 'default_profile': True, 'default_profile_image': False, 'following': False, 'follow_request_sent': False, 'notifications': False, 'translator_type': 'none'}, id=1376979408, id_str='1376979408', name='Prashant Sheru', screen_name='PSHERU', location='MUMBAI', description='A professional with expertise in Training & Marketing.Proud Indian & Pride in  constitution.Admire INDIAN NATIONAL CONGRESS.EX IAF.', url=None, entities={'description': {'urls': []}}, protected=False, followers_count=215, friends_count=107, listed_count=0, created_at=datetime.datetime(2013, 4, 24, 13, 0, 4), favourites_count=16505, utc_offset=None, time_zone=None, geo_enabled=True, verified=False, statuses_count=6336, lang=None, contributors_enabled=False, is_translator=False, is_translation_enabled=False, profile_background_color='C0DEED', profile_background_image_url='http://abs.twimg.com/images/themes/theme1/bg.png', profile_background_image_url_https='https://abs.twimg.com/images/themes/theme1/bg.png', profile_background_tile=False, profile_image_url='http://pbs.twimg.com/profile_images/1292508391328210945/cuPxT19D_normal.jpg', profile_image_url_https='https://pbs.twimg.com/profile_images/1292508391328210945/cuPxT19D_normal.jpg', profile_banner_url='https://pbs.twimg.com/profile_banners/1376979408/1587059844', profile_link_color='1DA1F2', profile_sidebar_border_color='C0DEED', profile_sidebar_fill_color='DDEEF6', profile_text_color='333333', profile_use_background_image=True, has_extended_profile=False, default_profile=True, default_profile_image=False, following=False, follow_request_sent=False, notifications=False, translator_type='none'), user=User(_api=<tweepy.api.API object at 0x000002AC2B251CC8>, _json={'id': 1376979408, 'id_str': '1376979408', 'name': 'Prashant Sheru', 'screen_name': 'PSHERU', 'location': 'MUMBAI', 'description': 'A professional with expertise in Training & Marketing.Proud Indian & Pride in  constitution.Admire INDIAN NATIONAL CONGRESS.EX IAF.', 'url': None, 'entities': {'description': {'urls': []}}, 'protected': False, 'followers_count': 215, 'friends_count': 107, 'listed_count': 0, 'created_at': 'Wed Apr 24 13:00:04 +0000 2013', 'favourites_count': 16505, 'utc_offset': None, 'time_zone': None, 'geo_enabled': True, 'verified': False, 'statuses_count': 6336, 'lang': None, 'contributors_enabled': False, 'is_translator': False, 'is_translation_enabled': False, 'profile_background_color': 'C0DEED', 'profile_background_image_url': 'http://abs.twimg.com/images/themes/theme1/bg.png', 'profile_background_image_url_https': 'https://abs.twimg.com/images/themes/theme1/bg.png', 'profile_background_tile': False, 'profile_image_url': 'http://pbs.twimg.com/profile_images/1292508391328210945/cuPxT19D_normal.jpg', 'profile_image_url_https': 'https://pbs.twimg.com/profile_images/1292508391328210945/cuPxT19D_normal.jpg', 'profile_banner_url': 'https://pbs.twimg.com/profile_banners/1376979408/1587059844', 'profile_link_color': '1DA1F2', 'profile_sidebar_border_color': 'C0DEED', 'profile_sidebar_fill_color': 'DDEEF6', 'profile_text_color': '333333', 'profile_use_background_image': True, 'has_extended_profile': False, 'default_profile': True, 'default_profile_image': False, 'following': False, 'follow_request_sent': False, 'notifications': False, 'translator_type': 'none'}, id=1376979408, id_str='1376979408', name='Prashant Sheru', screen_name='PSHERU', location='MUMBAI', description='A professional with expertise in Training & Marketing.Proud Indian & Pride in  constitution.Admire INDIAN NATIONAL CONGRESS.EX IAF.', url=None, entities={'description': {'urls': []}}, protected=False, followers_count=215, friends_count=107, listed_count=0, created_at=datetime.datetime(2013, 4, 24, 13, 0, 4), favourites_count=16505, utc_offset=None, time_zone=None, geo_enabled=True, verified=False, statuses_count=6336, lang=None, contributors_enabled=False, is_translator=False, is_translation_enabled=False, profile_background_color='C0DEED', profile_background_image_url='http://abs.twimg.com/images/themes/theme1/bg.png', profile_background_image_url_https='https://abs.twimg.com/images/themes/theme1/bg.png', profile_background_tile=False, profile_image_url='http://pbs.twimg.com/profile_images/1292508391328210945/cuPxT19D_normal.jpg', profile_image_url_https='https://pbs.twimg.com/profile_images/1292508391328210945/cuPxT19D_normal.jpg', profile_banner_url='https://pbs.twimg.com/profile_banners/1376979408/1587059844', profile_link_color='1DA1F2', profile_sidebar_border_color='C0DEED', profile_sidebar_fill_color='DDEEF6', profile_text_color='333333', profile_use_background_image=True, has_extended_profile=False, default_profile=True, default_profile_image=False, following=False, follow_request_sent=False, notifications=False, translator_type='none'), geo=None, coordinates=None, place=None, contributors=None, is_quote_status=False, retweet_count=0, favorite_count=0, favorited=False, retweeted=False, possibly_sensitive=False, lang='en') \n",
      "\n",
      "..............................\n",
      "\n",
      "Status(_api=<tweepy.api.API object at 0x000002AC2B251CC8>, _json={'created_at': 'Thu Dec 03 17:31:26 +0000 2020', 'id': 1334550824782094337, 'id_str': '1334550824782094337', 'text': 'Democracy means to the people, by the people, and for the people\\nSuppose if all the Indian farmers are against the… https://t.co/FALfb4c7Db', 'truncated': True, 'entities': {'hashtags': [], 'symbols': [], 'user_mentions': [], 'urls': [{'url': 'https://t.co/FALfb4c7Db', 'expanded_url': 'https://twitter.com/i/web/status/1334550824782094337', 'display_url': 'twitter.com/i/web/status/1…', 'indices': [116, 139]}]}, 'metadata': {'iso_language_code': 'en', 'result_type': 'recent'}, 'source': '<a href=\"http://twitter.com/download/iphone\" rel=\"nofollow\">Twitter for iPhone</a>', 'in_reply_to_status_id': None, 'in_reply_to_status_id_str': None, 'in_reply_to_user_id': None, 'in_reply_to_user_id_str': None, 'in_reply_to_screen_name': None, 'user': {'id': 1334542850726486016, 'id_str': '1334542850726486016', 'name': 'Aman_brar', 'screen_name': 'AmanBrar_PB04', 'location': '', 'description': '', 'url': None, 'entities': {'description': {'urls': []}}, 'protected': False, 'followers_count': 0, 'friends_count': 11, 'listed_count': 0, 'created_at': 'Thu Dec 03 17:00:00 +0000 2020', 'favourites_count': 6, 'utc_offset': None, 'time_zone': None, 'geo_enabled': True, 'verified': False, 'statuses_count': 2, 'lang': None, 'contributors_enabled': False, 'is_translator': False, 'is_translation_enabled': False, 'profile_background_color': 'F5F8FA', 'profile_background_image_url': None, 'profile_background_image_url_https': None, 'profile_background_tile': False, 'profile_image_url': 'http://pbs.twimg.com/profile_images/1334543059946770432/swQldAdY_normal.jpg', 'profile_image_url_https': 'https://pbs.twimg.com/profile_images/1334543059946770432/swQldAdY_normal.jpg', 'profile_link_color': '1DA1F2', 'profile_sidebar_border_color': 'C0DEED', 'profile_sidebar_fill_color': 'DDEEF6', 'profile_text_color': '333333', 'profile_use_background_image': True, 'has_extended_profile': True, 'default_profile': True, 'default_profile_image': False, 'following': False, 'follow_request_sent': False, 'notifications': False, 'translator_type': 'none'}, 'geo': None, 'coordinates': None, 'place': {'id': '1f4df2b4746ddea7', 'url': 'https://api.twitter.com/1.1/geo/id/1f4df2b4746ddea7.json', 'place_type': 'city', 'name': 'Brampton', 'full_name': 'Brampton, Ontario', 'country_code': 'CA', 'country': 'Canada', 'contained_within': [], 'bounding_box': {'type': 'Polygon', 'coordinates': [[[-79.888911, 43.60222], [-79.630272, 43.60222], [-79.630272, 43.847722], [-79.888911, 43.847722]]]}, 'attributes': {}}, 'contributors': None, 'is_quote_status': False, 'retweet_count': 0, 'favorite_count': 1, 'favorited': False, 'retweeted': False, 'possibly_sensitive': False, 'lang': 'en'}, created_at=datetime.datetime(2020, 12, 3, 17, 31, 26), id=1334550824782094337, id_str='1334550824782094337', text='Democracy means to the people, by the people, and for the people\\nSuppose if all the Indian farmers are against the… https://t.co/FALfb4c7Db', truncated=True, entities={'hashtags': [], 'symbols': [], 'user_mentions': [], 'urls': [{'url': 'https://t.co/FALfb4c7Db', 'expanded_url': 'https://twitter.com/i/web/status/1334550824782094337', 'display_url': 'twitter.com/i/web/status/1…', 'indices': [116, 139]}]}, metadata={'iso_language_code': 'en', 'result_type': 'recent'}, source='Twitter for iPhone', source_url='http://twitter.com/download/iphone', in_reply_to_status_id=None, in_reply_to_status_id_str=None, in_reply_to_user_id=None, in_reply_to_user_id_str=None, in_reply_to_screen_name=None, author=User(_api=<tweepy.api.API object at 0x000002AC2B251CC8>, _json={'id': 1334542850726486016, 'id_str': '1334542850726486016', 'name': 'Aman_brar', 'screen_name': 'AmanBrar_PB04', 'location': '', 'description': '', 'url': None, 'entities': {'description': {'urls': []}}, 'protected': False, 'followers_count': 0, 'friends_count': 11, 'listed_count': 0, 'created_at': 'Thu Dec 03 17:00:00 +0000 2020', 'favourites_count': 6, 'utc_offset': None, 'time_zone': None, 'geo_enabled': True, 'verified': False, 'statuses_count': 2, 'lang': None, 'contributors_enabled': False, 'is_translator': False, 'is_translation_enabled': False, 'profile_background_color': 'F5F8FA', 'profile_background_image_url': None, 'profile_background_image_url_https': None, 'profile_background_tile': False, 'profile_image_url': 'http://pbs.twimg.com/profile_images/1334543059946770432/swQldAdY_normal.jpg', 'profile_image_url_https': 'https://pbs.twimg.com/profile_images/1334543059946770432/swQldAdY_normal.jpg', 'profile_link_color': '1DA1F2', 'profile_sidebar_border_color': 'C0DEED', 'profile_sidebar_fill_color': 'DDEEF6', 'profile_text_color': '333333', 'profile_use_background_image': True, 'has_extended_profile': True, 'default_profile': True, 'default_profile_image': False, 'following': False, 'follow_request_sent': False, 'notifications': False, 'translator_type': 'none'}, id=1334542850726486016, id_str='1334542850726486016', name='Aman_brar', screen_name='AmanBrar_PB04', location='', description='', url=None, entities={'description': {'urls': []}}, protected=False, followers_count=0, friends_count=11, listed_count=0, created_at=datetime.datetime(2020, 12, 3, 17, 0), favourites_count=6, utc_offset=None, time_zone=None, geo_enabled=True, verified=False, statuses_count=2, lang=None, contributors_enabled=False, is_translator=False, is_translation_enabled=False, profile_background_color='F5F8FA', profile_background_image_url=None, profile_background_image_url_https=None, profile_background_tile=False, profile_image_url='http://pbs.twimg.com/profile_images/1334543059946770432/swQldAdY_normal.jpg', profile_image_url_https='https://pbs.twimg.com/profile_images/1334543059946770432/swQldAdY_normal.jpg', profile_link_color='1DA1F2', profile_sidebar_border_color='C0DEED', profile_sidebar_fill_color='DDEEF6', profile_text_color='333333', profile_use_background_image=True, has_extended_profile=True, default_profile=True, default_profile_image=False, following=False, follow_request_sent=False, notifications=False, translator_type='none'), user=User(_api=<tweepy.api.API object at 0x000002AC2B251CC8>, _json={'id': 1334542850726486016, 'id_str': '1334542850726486016', 'name': 'Aman_brar', 'screen_name': 'AmanBrar_PB04', 'location': '', 'description': '', 'url': None, 'entities': {'description': {'urls': []}}, 'protected': False, 'followers_count': 0, 'friends_count': 11, 'listed_count': 0, 'created_at': 'Thu Dec 03 17:00:00 +0000 2020', 'favourites_count': 6, 'utc_offset': None, 'time_zone': None, 'geo_enabled': True, 'verified': False, 'statuses_count': 2, 'lang': None, 'contributors_enabled': False, 'is_translator': False, 'is_translation_enabled': False, 'profile_background_color': 'F5F8FA', 'profile_background_image_url': None, 'profile_background_image_url_https': None, 'profile_background_tile': False, 'profile_image_url': 'http://pbs.twimg.com/profile_images/1334543059946770432/swQldAdY_normal.jpg', 'profile_image_url_https': 'https://pbs.twimg.com/profile_images/1334543059946770432/swQldAdY_normal.jpg', 'profile_link_color': '1DA1F2', 'profile_sidebar_border_color': 'C0DEED', 'profile_sidebar_fill_color': 'DDEEF6', 'profile_text_color': '333333', 'profile_use_background_image': True, 'has_extended_profile': True, 'default_profile': True, 'default_profile_image': False, 'following': False, 'follow_request_sent': False, 'notifications': False, 'translator_type': 'none'}, id=1334542850726486016, id_str='1334542850726486016', name='Aman_brar', screen_name='AmanBrar_PB04', location='', description='', url=None, entities={'description': {'urls': []}}, protected=False, followers_count=0, friends_count=11, listed_count=0, created_at=datetime.datetime(2020, 12, 3, 17, 0), favourites_count=6, utc_offset=None, time_zone=None, geo_enabled=True, verified=False, statuses_count=2, lang=None, contributors_enabled=False, is_translator=False, is_translation_enabled=False, profile_background_color='F5F8FA', profile_background_image_url=None, profile_background_image_url_https=None, profile_background_tile=False, profile_image_url='http://pbs.twimg.com/profile_images/1334543059946770432/swQldAdY_normal.jpg', profile_image_url_https='https://pbs.twimg.com/profile_images/1334543059946770432/swQldAdY_normal.jpg', profile_link_color='1DA1F2', profile_sidebar_border_color='C0DEED', profile_sidebar_fill_color='DDEEF6', profile_text_color='333333', profile_use_background_image=True, has_extended_profile=True, default_profile=True, default_profile_image=False, following=False, follow_request_sent=False, notifications=False, translator_type='none'), geo=None, coordinates=None, place=Place(_api=<tweepy.api.API object at 0x000002AC2B251CC8>, id='1f4df2b4746ddea7', url='https://api.twitter.com/1.1/geo/id/1f4df2b4746ddea7.json', place_type='city', name='Brampton', full_name='Brampton, Ontario', country_code='CA', country='Canada', contained_within=[], bounding_box=BoundingBox(_api=<tweepy.api.API object at 0x000002AC2B251CC8>, type='Polygon', coordinates=[[[-79.888911, 43.60222], [-79.630272, 43.60222], [-79.630272, 43.847722], [-79.888911, 43.847722]]]), attributes={}), contributors=None, is_quote_status=False, retweet_count=0, favorite_count=1, favorited=False, retweeted=False, possibly_sensitive=False, lang='en') \n",
      "\n",
      "..............................\n",
      "\n",
      "Status(_api=<tweepy.api.API object at 0x000002AC2B251CC8>, _json={'created_at': 'Thu Dec 03 17:30:23 +0000 2020', 'id': 1334550563715878912, 'id_str': '1334550563715878912', 'text': '@KanganaTeam Oh chawle @KanganaTeam get treatment from well known doctor if we got u ,,,,, u will never ever get of… https://t.co/7B5Tcqp6hF', 'truncated': True, 'entities': {'hashtags': [], 'symbols': [], 'user_mentions': [{'screen_name': 'KanganaTeam', 'name': 'Kangana Ranaut', 'id': 3946905252, 'id_str': '3946905252', 'indices': [0, 12]}, {'screen_name': 'KanganaTeam', 'name': 'Kangana Ranaut', 'id': 3946905252, 'id_str': '3946905252', 'indices': [23, 35]}], 'urls': [{'url': 'https://t.co/7B5Tcqp6hF', 'expanded_url': 'https://twitter.com/i/web/status/1334550563715878912', 'display_url': 'twitter.com/i/web/status/1…', 'indices': [117, 140]}]}, 'metadata': {'iso_language_code': 'en', 'result_type': 'recent'}, 'source': '<a href=\"http://twitter.com/download/android\" rel=\"nofollow\">Twitter for Android</a>', 'in_reply_to_status_id': 1334519018619871232, 'in_reply_to_status_id_str': '1334519018619871232', 'in_reply_to_user_id': 3946905252, 'in_reply_to_user_id_str': '3946905252', 'in_reply_to_screen_name': 'KanganaTeam', 'user': {'id': 1308291890257649666, 'id_str': '1308291890257649666', 'name': 'Harpal Tiwana', 'screen_name': 'harpal_tiwana', 'location': 'amloh fatehgarh sahib', 'description': 'all we have is now 🤷\\u200d♂️\\nharpaltiwana1981@gmail.com', 'url': None, 'entities': {'description': {'urls': []}}, 'protected': False, 'followers_count': 2, 'friends_count': 30, 'listed_count': 0, 'created_at': 'Tue Sep 22 06:28:01 +0000 2020', 'favourites_count': 27, 'utc_offset': None, 'time_zone': None, 'geo_enabled': False, 'verified': False, 'statuses_count': 5, 'lang': None, 'contributors_enabled': False, 'is_translator': False, 'is_translation_enabled': False, 'profile_background_color': 'F5F8FA', 'profile_background_image_url': None, 'profile_background_image_url_https': None, 'profile_background_tile': False, 'profile_image_url': 'http://pbs.twimg.com/profile_images/1333275692386058242/FPzdmX9b_normal.jpg', 'profile_image_url_https': 'https://pbs.twimg.com/profile_images/1333275692386058242/FPzdmX9b_normal.jpg', 'profile_link_color': '1DA1F2', 'profile_sidebar_border_color': 'C0DEED', 'profile_sidebar_fill_color': 'DDEEF6', 'profile_text_color': '333333', 'profile_use_background_image': True, 'has_extended_profile': False, 'default_profile': True, 'default_profile_image': False, 'following': False, 'follow_request_sent': False, 'notifications': False, 'translator_type': 'none'}, 'geo': None, 'coordinates': None, 'place': None, 'contributors': None, 'is_quote_status': False, 'retweet_count': 0, 'favorite_count': 0, 'favorited': False, 'retweeted': False, 'lang': 'en'}, created_at=datetime.datetime(2020, 12, 3, 17, 30, 23), id=1334550563715878912, id_str='1334550563715878912', text='@KanganaTeam Oh chawle @KanganaTeam get treatment from well known doctor if we got u ,,,,, u will never ever get of… https://t.co/7B5Tcqp6hF', truncated=True, entities={'hashtags': [], 'symbols': [], 'user_mentions': [{'screen_name': 'KanganaTeam', 'name': 'Kangana Ranaut', 'id': 3946905252, 'id_str': '3946905252', 'indices': [0, 12]}, {'screen_name': 'KanganaTeam', 'name': 'Kangana Ranaut', 'id': 3946905252, 'id_str': '3946905252', 'indices': [23, 35]}], 'urls': [{'url': 'https://t.co/7B5Tcqp6hF', 'expanded_url': 'https://twitter.com/i/web/status/1334550563715878912', 'display_url': 'twitter.com/i/web/status/1…', 'indices': [117, 140]}]}, metadata={'iso_language_code': 'en', 'result_type': 'recent'}, source='Twitter for Android', source_url='http://twitter.com/download/android', in_reply_to_status_id=1334519018619871232, in_reply_to_status_id_str='1334519018619871232', in_reply_to_user_id=3946905252, in_reply_to_user_id_str='3946905252', in_reply_to_screen_name='KanganaTeam', author=User(_api=<tweepy.api.API object at 0x000002AC2B251CC8>, _json={'id': 1308291890257649666, 'id_str': '1308291890257649666', 'name': 'Harpal Tiwana', 'screen_name': 'harpal_tiwana', 'location': 'amloh fatehgarh sahib', 'description': 'all we have is now 🤷\\u200d♂️\\nharpaltiwana1981@gmail.com', 'url': None, 'entities': {'description': {'urls': []}}, 'protected': False, 'followers_count': 2, 'friends_count': 30, 'listed_count': 0, 'created_at': 'Tue Sep 22 06:28:01 +0000 2020', 'favourites_count': 27, 'utc_offset': None, 'time_zone': None, 'geo_enabled': False, 'verified': False, 'statuses_count': 5, 'lang': None, 'contributors_enabled': False, 'is_translator': False, 'is_translation_enabled': False, 'profile_background_color': 'F5F8FA', 'profile_background_image_url': None, 'profile_background_image_url_https': None, 'profile_background_tile': False, 'profile_image_url': 'http://pbs.twimg.com/profile_images/1333275692386058242/FPzdmX9b_normal.jpg', 'profile_image_url_https': 'https://pbs.twimg.com/profile_images/1333275692386058242/FPzdmX9b_normal.jpg', 'profile_link_color': '1DA1F2', 'profile_sidebar_border_color': 'C0DEED', 'profile_sidebar_fill_color': 'DDEEF6', 'profile_text_color': '333333', 'profile_use_background_image': True, 'has_extended_profile': False, 'default_profile': True, 'default_profile_image': False, 'following': False, 'follow_request_sent': False, 'notifications': False, 'translator_type': 'none'}, id=1308291890257649666, id_str='1308291890257649666', name='Harpal Tiwana', screen_name='harpal_tiwana', location='amloh fatehgarh sahib', description='all we have is now 🤷\\u200d♂️\\nharpaltiwana1981@gmail.com', url=None, entities={'description': {'urls': []}}, protected=False, followers_count=2, friends_count=30, listed_count=0, created_at=datetime.datetime(2020, 9, 22, 6, 28, 1), favourites_count=27, utc_offset=None, time_zone=None, geo_enabled=False, verified=False, statuses_count=5, lang=None, contributors_enabled=False, is_translator=False, is_translation_enabled=False, profile_background_color='F5F8FA', profile_background_image_url=None, profile_background_image_url_https=None, profile_background_tile=False, profile_image_url='http://pbs.twimg.com/profile_images/1333275692386058242/FPzdmX9b_normal.jpg', profile_image_url_https='https://pbs.twimg.com/profile_images/1333275692386058242/FPzdmX9b_normal.jpg', profile_link_color='1DA1F2', profile_sidebar_border_color='C0DEED', profile_sidebar_fill_color='DDEEF6', profile_text_color='333333', profile_use_background_image=True, has_extended_profile=False, default_profile=True, default_profile_image=False, following=False, follow_request_sent=False, notifications=False, translator_type='none'), user=User(_api=<tweepy.api.API object at 0x000002AC2B251CC8>, _json={'id': 1308291890257649666, 'id_str': '1308291890257649666', 'name': 'Harpal Tiwana', 'screen_name': 'harpal_tiwana', 'location': 'amloh fatehgarh sahib', 'description': 'all we have is now 🤷\\u200d♂️\\nharpaltiwana1981@gmail.com', 'url': None, 'entities': {'description': {'urls': []}}, 'protected': False, 'followers_count': 2, 'friends_count': 30, 'listed_count': 0, 'created_at': 'Tue Sep 22 06:28:01 +0000 2020', 'favourites_count': 27, 'utc_offset': None, 'time_zone': None, 'geo_enabled': False, 'verified': False, 'statuses_count': 5, 'lang': None, 'contributors_enabled': False, 'is_translator': False, 'is_translation_enabled': False, 'profile_background_color': 'F5F8FA', 'profile_background_image_url': None, 'profile_background_image_url_https': None, 'profile_background_tile': False, 'profile_image_url': 'http://pbs.twimg.com/profile_images/1333275692386058242/FPzdmX9b_normal.jpg', 'profile_image_url_https': 'https://pbs.twimg.com/profile_images/1333275692386058242/FPzdmX9b_normal.jpg', 'profile_link_color': '1DA1F2', 'profile_sidebar_border_color': 'C0DEED', 'profile_sidebar_fill_color': 'DDEEF6', 'profile_text_color': '333333', 'profile_use_background_image': True, 'has_extended_profile': False, 'default_profile': True, 'default_profile_image': False, 'following': False, 'follow_request_sent': False, 'notifications': False, 'translator_type': 'none'}, id=1308291890257649666, id_str='1308291890257649666', name='Harpal Tiwana', screen_name='harpal_tiwana', location='amloh fatehgarh sahib', description='all we have is now 🤷\\u200d♂️\\nharpaltiwana1981@gmail.com', url=None, entities={'description': {'urls': []}}, protected=False, followers_count=2, friends_count=30, listed_count=0, created_at=datetime.datetime(2020, 9, 22, 6, 28, 1), favourites_count=27, utc_offset=None, time_zone=None, geo_enabled=False, verified=False, statuses_count=5, lang=None, contributors_enabled=False, is_translator=False, is_translation_enabled=False, profile_background_color='F5F8FA', profile_background_image_url=None, profile_background_image_url_https=None, profile_background_tile=False, profile_image_url='http://pbs.twimg.com/profile_images/1333275692386058242/FPzdmX9b_normal.jpg', profile_image_url_https='https://pbs.twimg.com/profile_images/1333275692386058242/FPzdmX9b_normal.jpg', profile_link_color='1DA1F2', profile_sidebar_border_color='C0DEED', profile_sidebar_fill_color='DDEEF6', profile_text_color='333333', profile_use_background_image=True, has_extended_profile=False, default_profile=True, default_profile_image=False, following=False, follow_request_sent=False, notifications=False, translator_type='none'), geo=None, coordinates=None, place=None, contributors=None, is_quote_status=False, retweet_count=0, favorite_count=0, favorited=False, retweeted=False, lang='en') \n",
      "\n",
      "..............................\n",
      "\n",
      "Status(_api=<tweepy.api.API object at 0x000002AC2B251CC8>, _json={'created_at': 'Thu Dec 03 17:30:13 +0000 2020', 'id': 1334550519562440707, 'id_str': '1334550519562440707', 'text': 'Warning:\\n\\nNever buy #ZEE5 @ZEE5Premium  plans\\n\\nI having huge problems, even complained @ZEE5helps , but they themse… https://t.co/VKcSXUDVF6', 'truncated': True, 'entities': {'hashtags': [{'text': 'ZEE5', 'indices': [20, 25]}], 'symbols': [], 'user_mentions': [{'screen_name': 'ZEE5Premium', 'name': 'ZEE5Premium', 'id': 1059131334646480898, 'id_str': '1059131334646480898', 'indices': [26, 38]}, {'screen_name': 'ZEE5helps', 'name': 'ZEE5 Support', 'id': 1058250818405588995, 'id_str': '1058250818405588995', 'indices': [87, 97]}], 'urls': [{'url': 'https://t.co/VKcSXUDVF6', 'expanded_url': 'https://twitter.com/i/web/status/1334550519562440707', 'display_url': 'twitter.com/i/web/status/1…', 'indices': [117, 140]}]}, 'metadata': {'iso_language_code': 'en', 'result_type': 'recent'}, 'source': '<a href=\"http://twitter.com/download/android\" rel=\"nofollow\">Twitter for Android</a>', 'in_reply_to_status_id': None, 'in_reply_to_status_id_str': None, 'in_reply_to_user_id': None, 'in_reply_to_user_id_str': None, 'in_reply_to_screen_name': None, 'user': {'id': 1296029833718149120, 'id_str': '1296029833718149120', 'name': 'Priyanka', 'screen_name': 'ipy99', 'location': '', 'description': 'News Channel : Advertising Marketing', 'url': None, 'entities': {'description': {'urls': []}}, 'protected': False, 'followers_count': 4, 'friends_count': 130, 'listed_count': 0, 'created_at': 'Wed Aug 19 10:22:58 +0000 2020', 'favourites_count': 598, 'utc_offset': None, 'time_zone': None, 'geo_enabled': False, 'verified': False, 'statuses_count': 343, 'lang': None, 'contributors_enabled': False, 'is_translator': False, 'is_translation_enabled': False, 'profile_background_color': 'F5F8FA', 'profile_background_image_url': None, 'profile_background_image_url_https': None, 'profile_background_tile': False, 'profile_image_url': 'http://pbs.twimg.com/profile_images/1296127912526061569/x7dwbbjp_normal.jpg', 'profile_image_url_https': 'https://pbs.twimg.com/profile_images/1296127912526061569/x7dwbbjp_normal.jpg', 'profile_banner_url': 'https://pbs.twimg.com/profile_banners/1296029833718149120/1603790625', 'profile_link_color': '1DA1F2', 'profile_sidebar_border_color': 'C0DEED', 'profile_sidebar_fill_color': 'DDEEF6', 'profile_text_color': '333333', 'profile_use_background_image': True, 'has_extended_profile': True, 'default_profile': True, 'default_profile_image': False, 'following': False, 'follow_request_sent': False, 'notifications': False, 'translator_type': 'none'}, 'geo': None, 'coordinates': None, 'place': None, 'contributors': None, 'is_quote_status': False, 'retweet_count': 0, 'favorite_count': 0, 'favorited': False, 'retweeted': False, 'lang': 'en'}, created_at=datetime.datetime(2020, 12, 3, 17, 30, 13), id=1334550519562440707, id_str='1334550519562440707', text='Warning:\\n\\nNever buy #ZEE5 @ZEE5Premium  plans\\n\\nI having huge problems, even complained @ZEE5helps , but they themse… https://t.co/VKcSXUDVF6', truncated=True, entities={'hashtags': [{'text': 'ZEE5', 'indices': [20, 25]}], 'symbols': [], 'user_mentions': [{'screen_name': 'ZEE5Premium', 'name': 'ZEE5Premium', 'id': 1059131334646480898, 'id_str': '1059131334646480898', 'indices': [26, 38]}, {'screen_name': 'ZEE5helps', 'name': 'ZEE5 Support', 'id': 1058250818405588995, 'id_str': '1058250818405588995', 'indices': [87, 97]}], 'urls': [{'url': 'https://t.co/VKcSXUDVF6', 'expanded_url': 'https://twitter.com/i/web/status/1334550519562440707', 'display_url': 'twitter.com/i/web/status/1…', 'indices': [117, 140]}]}, metadata={'iso_language_code': 'en', 'result_type': 'recent'}, source='Twitter for Android', source_url='http://twitter.com/download/android', in_reply_to_status_id=None, in_reply_to_status_id_str=None, in_reply_to_user_id=None, in_reply_to_user_id_str=None, in_reply_to_screen_name=None, author=User(_api=<tweepy.api.API object at 0x000002AC2B251CC8>, _json={'id': 1296029833718149120, 'id_str': '1296029833718149120', 'name': 'Priyanka', 'screen_name': 'ipy99', 'location': '', 'description': 'News Channel : Advertising Marketing', 'url': None, 'entities': {'description': {'urls': []}}, 'protected': False, 'followers_count': 4, 'friends_count': 130, 'listed_count': 0, 'created_at': 'Wed Aug 19 10:22:58 +0000 2020', 'favourites_count': 598, 'utc_offset': None, 'time_zone': None, 'geo_enabled': False, 'verified': False, 'statuses_count': 343, 'lang': None, 'contributors_enabled': False, 'is_translator': False, 'is_translation_enabled': False, 'profile_background_color': 'F5F8FA', 'profile_background_image_url': None, 'profile_background_image_url_https': None, 'profile_background_tile': False, 'profile_image_url': 'http://pbs.twimg.com/profile_images/1296127912526061569/x7dwbbjp_normal.jpg', 'profile_image_url_https': 'https://pbs.twimg.com/profile_images/1296127912526061569/x7dwbbjp_normal.jpg', 'profile_banner_url': 'https://pbs.twimg.com/profile_banners/1296029833718149120/1603790625', 'profile_link_color': '1DA1F2', 'profile_sidebar_border_color': 'C0DEED', 'profile_sidebar_fill_color': 'DDEEF6', 'profile_text_color': '333333', 'profile_use_background_image': True, 'has_extended_profile': True, 'default_profile': True, 'default_profile_image': False, 'following': False, 'follow_request_sent': False, 'notifications': False, 'translator_type': 'none'}, id=1296029833718149120, id_str='1296029833718149120', name='Priyanka', screen_name='ipy99', location='', description='News Channel : Advertising Marketing', url=None, entities={'description': {'urls': []}}, protected=False, followers_count=4, friends_count=130, listed_count=0, created_at=datetime.datetime(2020, 8, 19, 10, 22, 58), favourites_count=598, utc_offset=None, time_zone=None, geo_enabled=False, verified=False, statuses_count=343, lang=None, contributors_enabled=False, is_translator=False, is_translation_enabled=False, profile_background_color='F5F8FA', profile_background_image_url=None, profile_background_image_url_https=None, profile_background_tile=False, profile_image_url='http://pbs.twimg.com/profile_images/1296127912526061569/x7dwbbjp_normal.jpg', profile_image_url_https='https://pbs.twimg.com/profile_images/1296127912526061569/x7dwbbjp_normal.jpg', profile_banner_url='https://pbs.twimg.com/profile_banners/1296029833718149120/1603790625', profile_link_color='1DA1F2', profile_sidebar_border_color='C0DEED', profile_sidebar_fill_color='DDEEF6', profile_text_color='333333', profile_use_background_image=True, has_extended_profile=True, default_profile=True, default_profile_image=False, following=False, follow_request_sent=False, notifications=False, translator_type='none'), user=User(_api=<tweepy.api.API object at 0x000002AC2B251CC8>, _json={'id': 1296029833718149120, 'id_str': '1296029833718149120', 'name': 'Priyanka', 'screen_name': 'ipy99', 'location': '', 'description': 'News Channel : Advertising Marketing', 'url': None, 'entities': {'description': {'urls': []}}, 'protected': False, 'followers_count': 4, 'friends_count': 130, 'listed_count': 0, 'created_at': 'Wed Aug 19 10:22:58 +0000 2020', 'favourites_count': 598, 'utc_offset': None, 'time_zone': None, 'geo_enabled': False, 'verified': False, 'statuses_count': 343, 'lang': None, 'contributors_enabled': False, 'is_translator': False, 'is_translation_enabled': False, 'profile_background_color': 'F5F8FA', 'profile_background_image_url': None, 'profile_background_image_url_https': None, 'profile_background_tile': False, 'profile_image_url': 'http://pbs.twimg.com/profile_images/1296127912526061569/x7dwbbjp_normal.jpg', 'profile_image_url_https': 'https://pbs.twimg.com/profile_images/1296127912526061569/x7dwbbjp_normal.jpg', 'profile_banner_url': 'https://pbs.twimg.com/profile_banners/1296029833718149120/1603790625', 'profile_link_color': '1DA1F2', 'profile_sidebar_border_color': 'C0DEED', 'profile_sidebar_fill_color': 'DDEEF6', 'profile_text_color': '333333', 'profile_use_background_image': True, 'has_extended_profile': True, 'default_profile': True, 'default_profile_image': False, 'following': False, 'follow_request_sent': False, 'notifications': False, 'translator_type': 'none'}, id=1296029833718149120, id_str='1296029833718149120', name='Priyanka', screen_name='ipy99', location='', description='News Channel : Advertising Marketing', url=None, entities={'description': {'urls': []}}, protected=False, followers_count=4, friends_count=130, listed_count=0, created_at=datetime.datetime(2020, 8, 19, 10, 22, 58), favourites_count=598, utc_offset=None, time_zone=None, geo_enabled=False, verified=False, statuses_count=343, lang=None, contributors_enabled=False, is_translator=False, is_translation_enabled=False, profile_background_color='F5F8FA', profile_background_image_url=None, profile_background_image_url_https=None, profile_background_tile=False, profile_image_url='http://pbs.twimg.com/profile_images/1296127912526061569/x7dwbbjp_normal.jpg', profile_image_url_https='https://pbs.twimg.com/profile_images/1296127912526061569/x7dwbbjp_normal.jpg', profile_banner_url='https://pbs.twimg.com/profile_banners/1296029833718149120/1603790625', profile_link_color='1DA1F2', profile_sidebar_border_color='C0DEED', profile_sidebar_fill_color='DDEEF6', profile_text_color='333333', profile_use_background_image=True, has_extended_profile=True, default_profile=True, default_profile_image=False, following=False, follow_request_sent=False, notifications=False, translator_type='none'), geo=None, coordinates=None, place=None, contributors=None, is_quote_status=False, retweet_count=0, favorite_count=0, favorited=False, retweeted=False, lang='en') \n",
      "\n",
      "..............................\n",
      "\n",
      "Status(_api=<tweepy.api.API object at 0x000002AC2B251CC8>, _json={'created_at': 'Thu Dec 03 17:30:08 +0000 2020', 'id': 1334550498632994816, 'id_str': '1334550498632994816', 'text': 'Eating disorders affect both men and women, even though they are often thought of as disorders pertaining mostly to… https://t.co/GfUcuY1SOt', 'truncated': True, 'entities': {'hashtags': [], 'symbols': [], 'user_mentions': [], 'urls': [{'url': 'https://t.co/GfUcuY1SOt', 'expanded_url': 'https://twitter.com/i/web/status/1334550498632994816', 'display_url': 'twitter.com/i/web/status/1…', 'indices': [117, 140]}]}, 'metadata': {'iso_language_code': 'en', 'result_type': 'recent'}, 'source': '<a href=\"https://twittimer.com\" rel=\"nofollow\">Twittimer</a>', 'in_reply_to_status_id': None, 'in_reply_to_status_id_str': None, 'in_reply_to_user_id': None, 'in_reply_to_user_id_str': None, 'in_reply_to_screen_name': None, 'user': {'id': 1324003914207780864, 'id_str': '1324003914207780864', 'name': 'LivLife', 'screen_name': 'LivLifeApp', 'location': '', 'description': '', 'url': None, 'entities': {'description': {'urls': []}}, 'protected': False, 'followers_count': 16, 'friends_count': 93, 'listed_count': 0, 'created_at': 'Wed Nov 04 15:02:24 +0000 2020', 'favourites_count': 37, 'utc_offset': None, 'time_zone': None, 'geo_enabled': False, 'verified': False, 'statuses_count': 190, 'lang': None, 'contributors_enabled': False, 'is_translator': False, 'is_translation_enabled': False, 'profile_background_color': 'F5F8FA', 'profile_background_image_url': None, 'profile_background_image_url_https': None, 'profile_background_tile': False, 'profile_image_url': 'http://pbs.twimg.com/profile_images/1324966902356008960/4LwRAula_normal.jpg', 'profile_image_url_https': 'https://pbs.twimg.com/profile_images/1324966902356008960/4LwRAula_normal.jpg', 'profile_link_color': '1DA1F2', 'profile_sidebar_border_color': 'C0DEED', 'profile_sidebar_fill_color': 'DDEEF6', 'profile_text_color': '333333', 'profile_use_background_image': True, 'has_extended_profile': True, 'default_profile': True, 'default_profile_image': False, 'following': False, 'follow_request_sent': False, 'notifications': False, 'translator_type': 'none'}, 'geo': None, 'coordinates': None, 'place': None, 'contributors': None, 'is_quote_status': False, 'retweet_count': 0, 'favorite_count': 0, 'favorited': False, 'retweeted': False, 'lang': 'en'}, created_at=datetime.datetime(2020, 12, 3, 17, 30, 8), id=1334550498632994816, id_str='1334550498632994816', text='Eating disorders affect both men and women, even though they are often thought of as disorders pertaining mostly to… https://t.co/GfUcuY1SOt', truncated=True, entities={'hashtags': [], 'symbols': [], 'user_mentions': [], 'urls': [{'url': 'https://t.co/GfUcuY1SOt', 'expanded_url': 'https://twitter.com/i/web/status/1334550498632994816', 'display_url': 'twitter.com/i/web/status/1…', 'indices': [117, 140]}]}, metadata={'iso_language_code': 'en', 'result_type': 'recent'}, source='Twittimer', source_url='https://twittimer.com', in_reply_to_status_id=None, in_reply_to_status_id_str=None, in_reply_to_user_id=None, in_reply_to_user_id_str=None, in_reply_to_screen_name=None, author=User(_api=<tweepy.api.API object at 0x000002AC2B251CC8>, _json={'id': 1324003914207780864, 'id_str': '1324003914207780864', 'name': 'LivLife', 'screen_name': 'LivLifeApp', 'location': '', 'description': '', 'url': None, 'entities': {'description': {'urls': []}}, 'protected': False, 'followers_count': 16, 'friends_count': 93, 'listed_count': 0, 'created_at': 'Wed Nov 04 15:02:24 +0000 2020', 'favourites_count': 37, 'utc_offset': None, 'time_zone': None, 'geo_enabled': False, 'verified': False, 'statuses_count': 190, 'lang': None, 'contributors_enabled': False, 'is_translator': False, 'is_translation_enabled': False, 'profile_background_color': 'F5F8FA', 'profile_background_image_url': None, 'profile_background_image_url_https': None, 'profile_background_tile': False, 'profile_image_url': 'http://pbs.twimg.com/profile_images/1324966902356008960/4LwRAula_normal.jpg', 'profile_image_url_https': 'https://pbs.twimg.com/profile_images/1324966902356008960/4LwRAula_normal.jpg', 'profile_link_color': '1DA1F2', 'profile_sidebar_border_color': 'C0DEED', 'profile_sidebar_fill_color': 'DDEEF6', 'profile_text_color': '333333', 'profile_use_background_image': True, 'has_extended_profile': True, 'default_profile': True, 'default_profile_image': False, 'following': False, 'follow_request_sent': False, 'notifications': False, 'translator_type': 'none'}, id=1324003914207780864, id_str='1324003914207780864', name='LivLife', screen_name='LivLifeApp', location='', description='', url=None, entities={'description': {'urls': []}}, protected=False, followers_count=16, friends_count=93, listed_count=0, created_at=datetime.datetime(2020, 11, 4, 15, 2, 24), favourites_count=37, utc_offset=None, time_zone=None, geo_enabled=False, verified=False, statuses_count=190, lang=None, contributors_enabled=False, is_translator=False, is_translation_enabled=False, profile_background_color='F5F8FA', profile_background_image_url=None, profile_background_image_url_https=None, profile_background_tile=False, profile_image_url='http://pbs.twimg.com/profile_images/1324966902356008960/4LwRAula_normal.jpg', profile_image_url_https='https://pbs.twimg.com/profile_images/1324966902356008960/4LwRAula_normal.jpg', profile_link_color='1DA1F2', profile_sidebar_border_color='C0DEED', profile_sidebar_fill_color='DDEEF6', profile_text_color='333333', profile_use_background_image=True, has_extended_profile=True, default_profile=True, default_profile_image=False, following=False, follow_request_sent=False, notifications=False, translator_type='none'), user=User(_api=<tweepy.api.API object at 0x000002AC2B251CC8>, _json={'id': 1324003914207780864, 'id_str': '1324003914207780864', 'name': 'LivLife', 'screen_name': 'LivLifeApp', 'location': '', 'description': '', 'url': None, 'entities': {'description': {'urls': []}}, 'protected': False, 'followers_count': 16, 'friends_count': 93, 'listed_count': 0, 'created_at': 'Wed Nov 04 15:02:24 +0000 2020', 'favourites_count': 37, 'utc_offset': None, 'time_zone': None, 'geo_enabled': False, 'verified': False, 'statuses_count': 190, 'lang': None, 'contributors_enabled': False, 'is_translator': False, 'is_translation_enabled': False, 'profile_background_color': 'F5F8FA', 'profile_background_image_url': None, 'profile_background_image_url_https': None, 'profile_background_tile': False, 'profile_image_url': 'http://pbs.twimg.com/profile_images/1324966902356008960/4LwRAula_normal.jpg', 'profile_image_url_https': 'https://pbs.twimg.com/profile_images/1324966902356008960/4LwRAula_normal.jpg', 'profile_link_color': '1DA1F2', 'profile_sidebar_border_color': 'C0DEED', 'profile_sidebar_fill_color': 'DDEEF6', 'profile_text_color': '333333', 'profile_use_background_image': True, 'has_extended_profile': True, 'default_profile': True, 'default_profile_image': False, 'following': False, 'follow_request_sent': False, 'notifications': False, 'translator_type': 'none'}, id=1324003914207780864, id_str='1324003914207780864', name='LivLife', screen_name='LivLifeApp', location='', description='', url=None, entities={'description': {'urls': []}}, protected=False, followers_count=16, friends_count=93, listed_count=0, created_at=datetime.datetime(2020, 11, 4, 15, 2, 24), favourites_count=37, utc_offset=None, time_zone=None, geo_enabled=False, verified=False, statuses_count=190, lang=None, contributors_enabled=False, is_translator=False, is_translation_enabled=False, profile_background_color='F5F8FA', profile_background_image_url=None, profile_background_image_url_https=None, profile_background_tile=False, profile_image_url='http://pbs.twimg.com/profile_images/1324966902356008960/4LwRAula_normal.jpg', profile_image_url_https='https://pbs.twimg.com/profile_images/1324966902356008960/4LwRAula_normal.jpg', profile_link_color='1DA1F2', profile_sidebar_border_color='C0DEED', profile_sidebar_fill_color='DDEEF6', profile_text_color='333333', profile_use_background_image=True, has_extended_profile=True, default_profile=True, default_profile_image=False, following=False, follow_request_sent=False, notifications=False, translator_type='none'), geo=None, coordinates=None, place=None, contributors=None, is_quote_status=False, retweet_count=0, favorite_count=0, favorited=False, retweeted=False, lang='en') \n",
      "\n",
      "..............................\n",
      "\n",
      "Status(_api=<tweepy.api.API object at 0x000002AC2B251CC8>, _json={'created_at': 'Thu Dec 03 17:29:40 +0000 2020', 'id': 1334550380710125571, 'id_str': '1334550380710125571', 'text': '#stand with Indian farmers #StandWithFarmerChallange #FarmerProtest #StandWithFarmers #isupportfarmersprotest… https://t.co/6Y1DNxSGQx', 'truncated': True, 'entities': {'hashtags': [{'text': 'stand', 'indices': [0, 6]}, {'text': 'StandWithFarmerChallange', 'indices': [27, 52]}, {'text': 'FarmerProtest', 'indices': [53, 67]}, {'text': 'StandWithFarmers', 'indices': [68, 85]}, {'text': 'isupportfarmersprotest', 'indices': [86, 109]}], 'symbols': [], 'user_mentions': [], 'urls': [{'url': 'https://t.co/6Y1DNxSGQx', 'expanded_url': 'https://twitter.com/i/web/status/1334550380710125571', 'display_url': 'twitter.com/i/web/status/1…', 'indices': [111, 134]}]}, 'metadata': {'iso_language_code': 'en', 'result_type': 'recent'}, 'source': '<a href=\"http://twitter.com/download/iphone\" rel=\"nofollow\">Twitter for iPhone</a>', 'in_reply_to_status_id': None, 'in_reply_to_status_id_str': None, 'in_reply_to_user_id': None, 'in_reply_to_user_id_str': None, 'in_reply_to_screen_name': None, 'user': {'id': 1334312237054496768, 'id_str': '1334312237054496768', 'name': 'jorvan uppal', 'screen_name': 'JorvanU', 'location': '', 'description': '', 'url': None, 'entities': {'description': {'urls': []}}, 'protected': False, 'followers_count': 0, 'friends_count': 0, 'listed_count': 0, 'created_at': 'Thu Dec 03 01:43:31 +0000 2020', 'favourites_count': 0, 'utc_offset': None, 'time_zone': None, 'geo_enabled': False, 'verified': False, 'statuses_count': 2, 'lang': None, 'contributors_enabled': False, 'is_translator': False, 'is_translation_enabled': False, 'profile_background_color': 'F5F8FA', 'profile_background_image_url': None, 'profile_background_image_url_https': None, 'profile_background_tile': False, 'profile_image_url': 'http://pbs.twimg.com/profile_images/1334312493129347073/463DCEDm_normal.jpg', 'profile_image_url_https': 'https://pbs.twimg.com/profile_images/1334312493129347073/463DCEDm_normal.jpg', 'profile_link_color': '1DA1F2', 'profile_sidebar_border_color': 'C0DEED', 'profile_sidebar_fill_color': 'DDEEF6', 'profile_text_color': '333333', 'profile_use_background_image': True, 'has_extended_profile': True, 'default_profile': True, 'default_profile_image': False, 'following': False, 'follow_request_sent': False, 'notifications': False, 'translator_type': 'none'}, 'geo': None, 'coordinates': None, 'place': None, 'contributors': None, 'is_quote_status': False, 'retweet_count': 0, 'favorite_count': 0, 'favorited': False, 'retweeted': False, 'possibly_sensitive': False, 'lang': 'en'}, created_at=datetime.datetime(2020, 12, 3, 17, 29, 40), id=1334550380710125571, id_str='1334550380710125571', text='#stand with Indian farmers #StandWithFarmerChallange #FarmerProtest #StandWithFarmers #isupportfarmersprotest… https://t.co/6Y1DNxSGQx', truncated=True, entities={'hashtags': [{'text': 'stand', 'indices': [0, 6]}, {'text': 'StandWithFarmerChallange', 'indices': [27, 52]}, {'text': 'FarmerProtest', 'indices': [53, 67]}, {'text': 'StandWithFarmers', 'indices': [68, 85]}, {'text': 'isupportfarmersprotest', 'indices': [86, 109]}], 'symbols': [], 'user_mentions': [], 'urls': [{'url': 'https://t.co/6Y1DNxSGQx', 'expanded_url': 'https://twitter.com/i/web/status/1334550380710125571', 'display_url': 'twitter.com/i/web/status/1…', 'indices': [111, 134]}]}, metadata={'iso_language_code': 'en', 'result_type': 'recent'}, source='Twitter for iPhone', source_url='http://twitter.com/download/iphone', in_reply_to_status_id=None, in_reply_to_status_id_str=None, in_reply_to_user_id=None, in_reply_to_user_id_str=None, in_reply_to_screen_name=None, author=User(_api=<tweepy.api.API object at 0x000002AC2B251CC8>, _json={'id': 1334312237054496768, 'id_str': '1334312237054496768', 'name': 'jorvan uppal', 'screen_name': 'JorvanU', 'location': '', 'description': '', 'url': None, 'entities': {'description': {'urls': []}}, 'protected': False, 'followers_count': 0, 'friends_count': 0, 'listed_count': 0, 'created_at': 'Thu Dec 03 01:43:31 +0000 2020', 'favourites_count': 0, 'utc_offset': None, 'time_zone': None, 'geo_enabled': False, 'verified': False, 'statuses_count': 2, 'lang': None, 'contributors_enabled': False, 'is_translator': False, 'is_translation_enabled': False, 'profile_background_color': 'F5F8FA', 'profile_background_image_url': None, 'profile_background_image_url_https': None, 'profile_background_tile': False, 'profile_image_url': 'http://pbs.twimg.com/profile_images/1334312493129347073/463DCEDm_normal.jpg', 'profile_image_url_https': 'https://pbs.twimg.com/profile_images/1334312493129347073/463DCEDm_normal.jpg', 'profile_link_color': '1DA1F2', 'profile_sidebar_border_color': 'C0DEED', 'profile_sidebar_fill_color': 'DDEEF6', 'profile_text_color': '333333', 'profile_use_background_image': True, 'has_extended_profile': True, 'default_profile': True, 'default_profile_image': False, 'following': False, 'follow_request_sent': False, 'notifications': False, 'translator_type': 'none'}, id=1334312237054496768, id_str='1334312237054496768', name='jorvan uppal', screen_name='JorvanU', location='', description='', url=None, entities={'description': {'urls': []}}, protected=False, followers_count=0, friends_count=0, listed_count=0, created_at=datetime.datetime(2020, 12, 3, 1, 43, 31), favourites_count=0, utc_offset=None, time_zone=None, geo_enabled=False, verified=False, statuses_count=2, lang=None, contributors_enabled=False, is_translator=False, is_translation_enabled=False, profile_background_color='F5F8FA', profile_background_image_url=None, profile_background_image_url_https=None, profile_background_tile=False, profile_image_url='http://pbs.twimg.com/profile_images/1334312493129347073/463DCEDm_normal.jpg', profile_image_url_https='https://pbs.twimg.com/profile_images/1334312493129347073/463DCEDm_normal.jpg', profile_link_color='1DA1F2', profile_sidebar_border_color='C0DEED', profile_sidebar_fill_color='DDEEF6', profile_text_color='333333', profile_use_background_image=True, has_extended_profile=True, default_profile=True, default_profile_image=False, following=False, follow_request_sent=False, notifications=False, translator_type='none'), user=User(_api=<tweepy.api.API object at 0x000002AC2B251CC8>, _json={'id': 1334312237054496768, 'id_str': '1334312237054496768', 'name': 'jorvan uppal', 'screen_name': 'JorvanU', 'location': '', 'description': '', 'url': None, 'entities': {'description': {'urls': []}}, 'protected': False, 'followers_count': 0, 'friends_count': 0, 'listed_count': 0, 'created_at': 'Thu Dec 03 01:43:31 +0000 2020', 'favourites_count': 0, 'utc_offset': None, 'time_zone': None, 'geo_enabled': False, 'verified': False, 'statuses_count': 2, 'lang': None, 'contributors_enabled': False, 'is_translator': False, 'is_translation_enabled': False, 'profile_background_color': 'F5F8FA', 'profile_background_image_url': None, 'profile_background_image_url_https': None, 'profile_background_tile': False, 'profile_image_url': 'http://pbs.twimg.com/profile_images/1334312493129347073/463DCEDm_normal.jpg', 'profile_image_url_https': 'https://pbs.twimg.com/profile_images/1334312493129347073/463DCEDm_normal.jpg', 'profile_link_color': '1DA1F2', 'profile_sidebar_border_color': 'C0DEED', 'profile_sidebar_fill_color': 'DDEEF6', 'profile_text_color': '333333', 'profile_use_background_image': True, 'has_extended_profile': True, 'default_profile': True, 'default_profile_image': False, 'following': False, 'follow_request_sent': False, 'notifications': False, 'translator_type': 'none'}, id=1334312237054496768, id_str='1334312237054496768', name='jorvan uppal', screen_name='JorvanU', location='', description='', url=None, entities={'description': {'urls': []}}, protected=False, followers_count=0, friends_count=0, listed_count=0, created_at=datetime.datetime(2020, 12, 3, 1, 43, 31), favourites_count=0, utc_offset=None, time_zone=None, geo_enabled=False, verified=False, statuses_count=2, lang=None, contributors_enabled=False, is_translator=False, is_translation_enabled=False, profile_background_color='F5F8FA', profile_background_image_url=None, profile_background_image_url_https=None, profile_background_tile=False, profile_image_url='http://pbs.twimg.com/profile_images/1334312493129347073/463DCEDm_normal.jpg', profile_image_url_https='https://pbs.twimg.com/profile_images/1334312493129347073/463DCEDm_normal.jpg', profile_link_color='1DA1F2', profile_sidebar_border_color='C0DEED', profile_sidebar_fill_color='DDEEF6', profile_text_color='333333', profile_use_background_image=True, has_extended_profile=True, default_profile=True, default_profile_image=False, following=False, follow_request_sent=False, notifications=False, translator_type='none'), geo=None, coordinates=None, place=None, contributors=None, is_quote_status=False, retweet_count=0, favorite_count=0, favorited=False, retweeted=False, possibly_sensitive=False, lang='en') \n",
      "\n",
      "..............................\n",
      "\n",
      "Status(_api=<tweepy.api.API object at 0x000002AC2B251CC8>, _json={'created_at': 'Thu Dec 03 17:29:39 +0000 2020', 'id': 1334550376142397441, 'id_str': '1334550376142397441', 'text': 'Who will decide what pesticides and fertilizers to be used according to the contract farming bill???\\nAnd the cost o… https://t.co/j472AHVuQh', 'truncated': True, 'entities': {'hashtags': [], 'symbols': [], 'user_mentions': [], 'urls': [{'url': 'https://t.co/j472AHVuQh', 'expanded_url': 'https://twitter.com/i/web/status/1334550376142397441', 'display_url': 'twitter.com/i/web/status/1…', 'indices': [117, 140]}]}, 'metadata': {'iso_language_code': 'en', 'result_type': 'recent'}, 'source': '<a href=\"http://twitter.com/download/android\" rel=\"nofollow\">Twitter for Android</a>', 'in_reply_to_status_id': None, 'in_reply_to_status_id_str': None, 'in_reply_to_user_id': None, 'in_reply_to_user_id_str': None, 'in_reply_to_screen_name': None, 'user': {'id': 716308377744224257, 'id_str': '716308377744224257', 'name': 'The Lemurias', 'screen_name': 'Eaviyar', 'location': '', 'description': 'தமிழன்.\\n\\nPro freelance Dravidian.\\n\\n#Periyar #DMK', 'url': None, 'entities': {'description': {'urls': []}}, 'protected': False, 'followers_count': 1005, 'friends_count': 1117, 'listed_count': 1, 'created_at': 'Sat Apr 02 16:56:40 +0000 2016', 'favourites_count': 2315, 'utc_offset': None, 'time_zone': None, 'geo_enabled': False, 'verified': False, 'statuses_count': 3490, 'lang': None, 'contributors_enabled': False, 'is_translator': False, 'is_translation_enabled': False, 'profile_background_color': 'F5F8FA', 'profile_background_image_url': None, 'profile_background_image_url_https': None, 'profile_background_tile': False, 'profile_image_url': 'http://pbs.twimg.com/profile_images/1307638798134554624/Uu-aDLeU_normal.jpg', 'profile_image_url_https': 'https://pbs.twimg.com/profile_images/1307638798134554624/Uu-aDLeU_normal.jpg', 'profile_banner_url': 'https://pbs.twimg.com/profile_banners/716308377744224257/1600600279', 'profile_link_color': '1DA1F2', 'profile_sidebar_border_color': 'C0DEED', 'profile_sidebar_fill_color': 'DDEEF6', 'profile_text_color': '333333', 'profile_use_background_image': True, 'has_extended_profile': False, 'default_profile': True, 'default_profile_image': False, 'following': False, 'follow_request_sent': False, 'notifications': False, 'translator_type': 'none'}, 'geo': None, 'coordinates': None, 'place': None, 'contributors': None, 'is_quote_status': False, 'retweet_count': 0, 'favorite_count': 1, 'favorited': False, 'retweeted': False, 'lang': 'en'}, created_at=datetime.datetime(2020, 12, 3, 17, 29, 39), id=1334550376142397441, id_str='1334550376142397441', text='Who will decide what pesticides and fertilizers to be used according to the contract farming bill???\\nAnd the cost o… https://t.co/j472AHVuQh', truncated=True, entities={'hashtags': [], 'symbols': [], 'user_mentions': [], 'urls': [{'url': 'https://t.co/j472AHVuQh', 'expanded_url': 'https://twitter.com/i/web/status/1334550376142397441', 'display_url': 'twitter.com/i/web/status/1…', 'indices': [117, 140]}]}, metadata={'iso_language_code': 'en', 'result_type': 'recent'}, source='Twitter for Android', source_url='http://twitter.com/download/android', in_reply_to_status_id=None, in_reply_to_status_id_str=None, in_reply_to_user_id=None, in_reply_to_user_id_str=None, in_reply_to_screen_name=None, author=User(_api=<tweepy.api.API object at 0x000002AC2B251CC8>, _json={'id': 716308377744224257, 'id_str': '716308377744224257', 'name': 'The Lemurias', 'screen_name': 'Eaviyar', 'location': '', 'description': 'தமிழன்.\\n\\nPro freelance Dravidian.\\n\\n#Periyar #DMK', 'url': None, 'entities': {'description': {'urls': []}}, 'protected': False, 'followers_count': 1005, 'friends_count': 1117, 'listed_count': 1, 'created_at': 'Sat Apr 02 16:56:40 +0000 2016', 'favourites_count': 2315, 'utc_offset': None, 'time_zone': None, 'geo_enabled': False, 'verified': False, 'statuses_count': 3490, 'lang': None, 'contributors_enabled': False, 'is_translator': False, 'is_translation_enabled': False, 'profile_background_color': 'F5F8FA', 'profile_background_image_url': None, 'profile_background_image_url_https': None, 'profile_background_tile': False, 'profile_image_url': 'http://pbs.twimg.com/profile_images/1307638798134554624/Uu-aDLeU_normal.jpg', 'profile_image_url_https': 'https://pbs.twimg.com/profile_images/1307638798134554624/Uu-aDLeU_normal.jpg', 'profile_banner_url': 'https://pbs.twimg.com/profile_banners/716308377744224257/1600600279', 'profile_link_color': '1DA1F2', 'profile_sidebar_border_color': 'C0DEED', 'profile_sidebar_fill_color': 'DDEEF6', 'profile_text_color': '333333', 'profile_use_background_image': True, 'has_extended_profile': False, 'default_profile': True, 'default_profile_image': False, 'following': False, 'follow_request_sent': False, 'notifications': False, 'translator_type': 'none'}, id=716308377744224257, id_str='716308377744224257', name='The Lemurias', screen_name='Eaviyar', location='', description='தமிழன்.\\n\\nPro freelance Dravidian.\\n\\n#Periyar #DMK', url=None, entities={'description': {'urls': []}}, protected=False, followers_count=1005, friends_count=1117, listed_count=1, created_at=datetime.datetime(2016, 4, 2, 16, 56, 40), favourites_count=2315, utc_offset=None, time_zone=None, geo_enabled=False, verified=False, statuses_count=3490, lang=None, contributors_enabled=False, is_translator=False, is_translation_enabled=False, profile_background_color='F5F8FA', profile_background_image_url=None, profile_background_image_url_https=None, profile_background_tile=False, profile_image_url='http://pbs.twimg.com/profile_images/1307638798134554624/Uu-aDLeU_normal.jpg', profile_image_url_https='https://pbs.twimg.com/profile_images/1307638798134554624/Uu-aDLeU_normal.jpg', profile_banner_url='https://pbs.twimg.com/profile_banners/716308377744224257/1600600279', profile_link_color='1DA1F2', profile_sidebar_border_color='C0DEED', profile_sidebar_fill_color='DDEEF6', profile_text_color='333333', profile_use_background_image=True, has_extended_profile=False, default_profile=True, default_profile_image=False, following=False, follow_request_sent=False, notifications=False, translator_type='none'), user=User(_api=<tweepy.api.API object at 0x000002AC2B251CC8>, _json={'id': 716308377744224257, 'id_str': '716308377744224257', 'name': 'The Lemurias', 'screen_name': 'Eaviyar', 'location': '', 'description': 'தமிழன்.\\n\\nPro freelance Dravidian.\\n\\n#Periyar #DMK', 'url': None, 'entities': {'description': {'urls': []}}, 'protected': False, 'followers_count': 1005, 'friends_count': 1117, 'listed_count': 1, 'created_at': 'Sat Apr 02 16:56:40 +0000 2016', 'favourites_count': 2315, 'utc_offset': None, 'time_zone': None, 'geo_enabled': False, 'verified': False, 'statuses_count': 3490, 'lang': None, 'contributors_enabled': False, 'is_translator': False, 'is_translation_enabled': False, 'profile_background_color': 'F5F8FA', 'profile_background_image_url': None, 'profile_background_image_url_https': None, 'profile_background_tile': False, 'profile_image_url': 'http://pbs.twimg.com/profile_images/1307638798134554624/Uu-aDLeU_normal.jpg', 'profile_image_url_https': 'https://pbs.twimg.com/profile_images/1307638798134554624/Uu-aDLeU_normal.jpg', 'profile_banner_url': 'https://pbs.twimg.com/profile_banners/716308377744224257/1600600279', 'profile_link_color': '1DA1F2', 'profile_sidebar_border_color': 'C0DEED', 'profile_sidebar_fill_color': 'DDEEF6', 'profile_text_color': '333333', 'profile_use_background_image': True, 'has_extended_profile': False, 'default_profile': True, 'default_profile_image': False, 'following': False, 'follow_request_sent': False, 'notifications': False, 'translator_type': 'none'}, id=716308377744224257, id_str='716308377744224257', name='The Lemurias', screen_name='Eaviyar', location='', description='தமிழன்.\\n\\nPro freelance Dravidian.\\n\\n#Periyar #DMK', url=None, entities={'description': {'urls': []}}, protected=False, followers_count=1005, friends_count=1117, listed_count=1, created_at=datetime.datetime(2016, 4, 2, 16, 56, 40), favourites_count=2315, utc_offset=None, time_zone=None, geo_enabled=False, verified=False, statuses_count=3490, lang=None, contributors_enabled=False, is_translator=False, is_translation_enabled=False, profile_background_color='F5F8FA', profile_background_image_url=None, profile_background_image_url_https=None, profile_background_tile=False, profile_image_url='http://pbs.twimg.com/profile_images/1307638798134554624/Uu-aDLeU_normal.jpg', profile_image_url_https='https://pbs.twimg.com/profile_images/1307638798134554624/Uu-aDLeU_normal.jpg', profile_banner_url='https://pbs.twimg.com/profile_banners/716308377744224257/1600600279', profile_link_color='1DA1F2', profile_sidebar_border_color='C0DEED', profile_sidebar_fill_color='DDEEF6', profile_text_color='333333', profile_use_background_image=True, has_extended_profile=False, default_profile=True, default_profile_image=False, following=False, follow_request_sent=False, notifications=False, translator_type='none'), geo=None, coordinates=None, place=None, contributors=None, is_quote_status=False, retweet_count=0, favorite_count=1, favorited=False, retweeted=False, lang='en') \n",
      "\n",
      "..............................\n",
      "\n",
      "Status(_api=<tweepy.api.API object at 0x000002AC2B251CC8>, _json={'created_at': 'Thu Dec 03 17:29:02 +0000 2020', 'id': 1334550220735037440, 'id_str': '1334550220735037440', 'text': 'Retweet it most. Truth 🙏🙏🙏\\n#Anti_Farmer_BJP \\n#FarmersProtestDelhi2020 \\n#StandWithFarmerChallange \\n#farmersagitation… https://t.co/VqjfLCZZZ2', 'truncated': True, 'entities': {'hashtags': [{'text': 'Anti_Farmer_BJP', 'indices': [27, 43]}, {'text': 'FarmersProtestDelhi2020', 'indices': [45, 69]}, {'text': 'StandWithFarmerChallange', 'indices': [71, 96]}, {'text': 'farmersagitation', 'indices': [98, 115]}], 'symbols': [], 'user_mentions': [], 'urls': [{'url': 'https://t.co/VqjfLCZZZ2', 'expanded_url': 'https://twitter.com/i/web/status/1334550220735037440', 'display_url': 'twitter.com/i/web/status/1…', 'indices': [117, 140]}]}, 'metadata': {'iso_language_code': 'en', 'result_type': 'recent'}, 'source': '<a href=\"http://twitter.com/download/android\" rel=\"nofollow\">Twitter for Android</a>', 'in_reply_to_status_id': None, 'in_reply_to_status_id_str': None, 'in_reply_to_user_id': None, 'in_reply_to_user_id_str': None, 'in_reply_to_screen_name': None, 'user': {'id': 462199610, 'id_str': '462199610', 'name': 'Rajdeep singh Advocate', 'screen_name': 'Vakil_sahb', 'location': 'Punjab, India', 'description': '》🎓✒⚖ \\nAdvocate at DBA Kapurthala (Punjab)\\n》🔊🎻🎼\\nplays Sarangi ( indian classical instrument)\\n》interested to talk about politics and legal matters.', 'url': None, 'entities': {'description': {'urls': []}}, 'protected': False, 'followers_count': 13, 'friends_count': 82, 'listed_count': 0, 'created_at': 'Thu Jan 12 17:44:51 +0000 2012', 'favourites_count': 105, 'utc_offset': None, 'time_zone': None, 'geo_enabled': True, 'verified': False, 'statuses_count': 85, 'lang': None, 'contributors_enabled': False, 'is_translator': False, 'is_translation_enabled': False, 'profile_background_color': 'C0DEED', 'profile_background_image_url': 'http://abs.twimg.com/images/themes/theme1/bg.png', 'profile_background_image_url_https': 'https://abs.twimg.com/images/themes/theme1/bg.png', 'profile_background_tile': False, 'profile_image_url': 'http://pbs.twimg.com/profile_images/1249399082361032704/ZUTvPcpy_normal.jpg', 'profile_image_url_https': 'https://pbs.twimg.com/profile_images/1249399082361032704/ZUTvPcpy_normal.jpg', 'profile_banner_url': 'https://pbs.twimg.com/profile_banners/462199610/1586714965', 'profile_link_color': '1DA1F2', 'profile_sidebar_border_color': 'C0DEED', 'profile_sidebar_fill_color': 'DDEEF6', 'profile_text_color': '333333', 'profile_use_background_image': True, 'has_extended_profile': False, 'default_profile': True, 'default_profile_image': False, 'following': False, 'follow_request_sent': False, 'notifications': False, 'translator_type': 'none'}, 'geo': None, 'coordinates': None, 'place': None, 'contributors': None, 'is_quote_status': False, 'retweet_count': 0, 'favorite_count': 0, 'favorited': False, 'retweeted': False, 'possibly_sensitive': False, 'lang': 'en'}, created_at=datetime.datetime(2020, 12, 3, 17, 29, 2), id=1334550220735037440, id_str='1334550220735037440', text='Retweet it most. Truth 🙏🙏🙏\\n#Anti_Farmer_BJP \\n#FarmersProtestDelhi2020 \\n#StandWithFarmerChallange \\n#farmersagitation… https://t.co/VqjfLCZZZ2', truncated=True, entities={'hashtags': [{'text': 'Anti_Farmer_BJP', 'indices': [27, 43]}, {'text': 'FarmersProtestDelhi2020', 'indices': [45, 69]}, {'text': 'StandWithFarmerChallange', 'indices': [71, 96]}, {'text': 'farmersagitation', 'indices': [98, 115]}], 'symbols': [], 'user_mentions': [], 'urls': [{'url': 'https://t.co/VqjfLCZZZ2', 'expanded_url': 'https://twitter.com/i/web/status/1334550220735037440', 'display_url': 'twitter.com/i/web/status/1…', 'indices': [117, 140]}]}, metadata={'iso_language_code': 'en', 'result_type': 'recent'}, source='Twitter for Android', source_url='http://twitter.com/download/android', in_reply_to_status_id=None, in_reply_to_status_id_str=None, in_reply_to_user_id=None, in_reply_to_user_id_str=None, in_reply_to_screen_name=None, author=User(_api=<tweepy.api.API object at 0x000002AC2B251CC8>, _json={'id': 462199610, 'id_str': '462199610', 'name': 'Rajdeep singh Advocate', 'screen_name': 'Vakil_sahb', 'location': 'Punjab, India', 'description': '》🎓✒⚖ \\nAdvocate at DBA Kapurthala (Punjab)\\n》🔊🎻🎼\\nplays Sarangi ( indian classical instrument)\\n》interested to talk about politics and legal matters.', 'url': None, 'entities': {'description': {'urls': []}}, 'protected': False, 'followers_count': 13, 'friends_count': 82, 'listed_count': 0, 'created_at': 'Thu Jan 12 17:44:51 +0000 2012', 'favourites_count': 105, 'utc_offset': None, 'time_zone': None, 'geo_enabled': True, 'verified': False, 'statuses_count': 85, 'lang': None, 'contributors_enabled': False, 'is_translator': False, 'is_translation_enabled': False, 'profile_background_color': 'C0DEED', 'profile_background_image_url': 'http://abs.twimg.com/images/themes/theme1/bg.png', 'profile_background_image_url_https': 'https://abs.twimg.com/images/themes/theme1/bg.png', 'profile_background_tile': False, 'profile_image_url': 'http://pbs.twimg.com/profile_images/1249399082361032704/ZUTvPcpy_normal.jpg', 'profile_image_url_https': 'https://pbs.twimg.com/profile_images/1249399082361032704/ZUTvPcpy_normal.jpg', 'profile_banner_url': 'https://pbs.twimg.com/profile_banners/462199610/1586714965', 'profile_link_color': '1DA1F2', 'profile_sidebar_border_color': 'C0DEED', 'profile_sidebar_fill_color': 'DDEEF6', 'profile_text_color': '333333', 'profile_use_background_image': True, 'has_extended_profile': False, 'default_profile': True, 'default_profile_image': False, 'following': False, 'follow_request_sent': False, 'notifications': False, 'translator_type': 'none'}, id=462199610, id_str='462199610', name='Rajdeep singh Advocate', screen_name='Vakil_sahb', location='Punjab, India', description='》🎓✒⚖ \\nAdvocate at DBA Kapurthala (Punjab)\\n》🔊🎻🎼\\nplays Sarangi ( indian classical instrument)\\n》interested to talk about politics and legal matters.', url=None, entities={'description': {'urls': []}}, protected=False, followers_count=13, friends_count=82, listed_count=0, created_at=datetime.datetime(2012, 1, 12, 17, 44, 51), favourites_count=105, utc_offset=None, time_zone=None, geo_enabled=True, verified=False, statuses_count=85, lang=None, contributors_enabled=False, is_translator=False, is_translation_enabled=False, profile_background_color='C0DEED', profile_background_image_url='http://abs.twimg.com/images/themes/theme1/bg.png', profile_background_image_url_https='https://abs.twimg.com/images/themes/theme1/bg.png', profile_background_tile=False, profile_image_url='http://pbs.twimg.com/profile_images/1249399082361032704/ZUTvPcpy_normal.jpg', profile_image_url_https='https://pbs.twimg.com/profile_images/1249399082361032704/ZUTvPcpy_normal.jpg', profile_banner_url='https://pbs.twimg.com/profile_banners/462199610/1586714965', profile_link_color='1DA1F2', profile_sidebar_border_color='C0DEED', profile_sidebar_fill_color='DDEEF6', profile_text_color='333333', profile_use_background_image=True, has_extended_profile=False, default_profile=True, default_profile_image=False, following=False, follow_request_sent=False, notifications=False, translator_type='none'), user=User(_api=<tweepy.api.API object at 0x000002AC2B251CC8>, _json={'id': 462199610, 'id_str': '462199610', 'name': 'Rajdeep singh Advocate', 'screen_name': 'Vakil_sahb', 'location': 'Punjab, India', 'description': '》🎓✒⚖ \\nAdvocate at DBA Kapurthala (Punjab)\\n》🔊🎻🎼\\nplays Sarangi ( indian classical instrument)\\n》interested to talk about politics and legal matters.', 'url': None, 'entities': {'description': {'urls': []}}, 'protected': False, 'followers_count': 13, 'friends_count': 82, 'listed_count': 0, 'created_at': 'Thu Jan 12 17:44:51 +0000 2012', 'favourites_count': 105, 'utc_offset': None, 'time_zone': None, 'geo_enabled': True, 'verified': False, 'statuses_count': 85, 'lang': None, 'contributors_enabled': False, 'is_translator': False, 'is_translation_enabled': False, 'profile_background_color': 'C0DEED', 'profile_background_image_url': 'http://abs.twimg.com/images/themes/theme1/bg.png', 'profile_background_image_url_https': 'https://abs.twimg.com/images/themes/theme1/bg.png', 'profile_background_tile': False, 'profile_image_url': 'http://pbs.twimg.com/profile_images/1249399082361032704/ZUTvPcpy_normal.jpg', 'profile_image_url_https': 'https://pbs.twimg.com/profile_images/1249399082361032704/ZUTvPcpy_normal.jpg', 'profile_banner_url': 'https://pbs.twimg.com/profile_banners/462199610/1586714965', 'profile_link_color': '1DA1F2', 'profile_sidebar_border_color': 'C0DEED', 'profile_sidebar_fill_color': 'DDEEF6', 'profile_text_color': '333333', 'profile_use_background_image': True, 'has_extended_profile': False, 'default_profile': True, 'default_profile_image': False, 'following': False, 'follow_request_sent': False, 'notifications': False, 'translator_type': 'none'}, id=462199610, id_str='462199610', name='Rajdeep singh Advocate', screen_name='Vakil_sahb', location='Punjab, India', description='》🎓✒⚖ \\nAdvocate at DBA Kapurthala (Punjab)\\n》🔊🎻🎼\\nplays Sarangi ( indian classical instrument)\\n》interested to talk about politics and legal matters.', url=None, entities={'description': {'urls': []}}, protected=False, followers_count=13, friends_count=82, listed_count=0, created_at=datetime.datetime(2012, 1, 12, 17, 44, 51), favourites_count=105, utc_offset=None, time_zone=None, geo_enabled=True, verified=False, statuses_count=85, lang=None, contributors_enabled=False, is_translator=False, is_translation_enabled=False, profile_background_color='C0DEED', profile_background_image_url='http://abs.twimg.com/images/themes/theme1/bg.png', profile_background_image_url_https='https://abs.twimg.com/images/themes/theme1/bg.png', profile_background_tile=False, profile_image_url='http://pbs.twimg.com/profile_images/1249399082361032704/ZUTvPcpy_normal.jpg', profile_image_url_https='https://pbs.twimg.com/profile_images/1249399082361032704/ZUTvPcpy_normal.jpg', profile_banner_url='https://pbs.twimg.com/profile_banners/462199610/1586714965', profile_link_color='1DA1F2', profile_sidebar_border_color='C0DEED', profile_sidebar_fill_color='DDEEF6', profile_text_color='333333', profile_use_background_image=True, has_extended_profile=False, default_profile=True, default_profile_image=False, following=False, follow_request_sent=False, notifications=False, translator_type='none'), geo=None, coordinates=None, place=None, contributors=None, is_quote_status=False, retweet_count=0, favorite_count=0, favorited=False, retweeted=False, possibly_sensitive=False, lang='en') \n",
      "\n",
      "..............................\n",
      "\n",
      "Status(_api=<tweepy.api.API object at 0x000002AC2B251CC8>, _json={'created_at': 'Thu Dec 03 17:29:00 +0000 2020', 'id': 1334550213965598720, 'id_str': '1334550213965598720', 'text': '#FarmersProtestDelhi2020 \\n#farmer bill2020\\n#FarmersProtestDelhi2020 https://t.co/AnxnHSIxsA', 'truncated': False, 'entities': {'hashtags': [{'text': 'FarmersProtestDelhi2020', 'indices': [0, 24]}, {'text': 'farmer', 'indices': [26, 33]}, {'text': 'FarmersProtestDelhi2020', 'indices': [43, 67]}], 'symbols': [], 'user_mentions': [], 'urls': [], 'media': [{'id': 1334550210127728641, 'id_str': '1334550210127728641', 'indices': [68, 91], 'media_url': 'http://pbs.twimg.com/media/EoVGWGmWEAEHb-M.jpg', 'media_url_https': 'https://pbs.twimg.com/media/EoVGWGmWEAEHb-M.jpg', 'url': 'https://t.co/AnxnHSIxsA', 'display_url': 'pic.twitter.com/AnxnHSIxsA', 'expanded_url': 'https://twitter.com/Jassi12323326/status/1334550213965598720/photo/1', 'type': 'photo', 'sizes': {'medium': {'w': 552, 'h': 342, 'resize': 'fit'}, 'thumb': {'w': 150, 'h': 150, 'resize': 'crop'}, 'small': {'w': 552, 'h': 342, 'resize': 'fit'}, 'large': {'w': 552, 'h': 342, 'resize': 'fit'}}}]}, 'extended_entities': {'media': [{'id': 1334550210127728641, 'id_str': '1334550210127728641', 'indices': [68, 91], 'media_url': 'http://pbs.twimg.com/media/EoVGWGmWEAEHb-M.jpg', 'media_url_https': 'https://pbs.twimg.com/media/EoVGWGmWEAEHb-M.jpg', 'url': 'https://t.co/AnxnHSIxsA', 'display_url': 'pic.twitter.com/AnxnHSIxsA', 'expanded_url': 'https://twitter.com/Jassi12323326/status/1334550213965598720/photo/1', 'type': 'photo', 'sizes': {'medium': {'w': 552, 'h': 342, 'resize': 'fit'}, 'thumb': {'w': 150, 'h': 150, 'resize': 'crop'}, 'small': {'w': 552, 'h': 342, 'resize': 'fit'}, 'large': {'w': 552, 'h': 342, 'resize': 'fit'}}}]}, 'metadata': {'iso_language_code': 'en', 'result_type': 'recent'}, 'source': '<a href=\"http://twitter.com/download/android\" rel=\"nofollow\">Twitter for Android</a>', 'in_reply_to_status_id': None, 'in_reply_to_status_id_str': None, 'in_reply_to_user_id': None, 'in_reply_to_user_id_str': None, 'in_reply_to_screen_name': None, 'user': {'id': 1333842131312652289, 'id_str': '1333842131312652289', 'name': 'Jassi', 'screen_name': 'Jassi12323326', 'location': '', 'description': '', 'url': None, 'entities': {'description': {'urls': []}}, 'protected': False, 'followers_count': 0, 'friends_count': 8, 'listed_count': 0, 'created_at': 'Tue Dec 01 18:35:40 +0000 2020', 'favourites_count': 2, 'utc_offset': None, 'time_zone': None, 'geo_enabled': False, 'verified': False, 'statuses_count': 2, 'lang': None, 'contributors_enabled': False, 'is_translator': False, 'is_translation_enabled': False, 'profile_background_color': 'F5F8FA', 'profile_background_image_url': None, 'profile_background_image_url_https': None, 'profile_background_tile': False, 'profile_image_url': 'http://pbs.twimg.com/profile_images/1333843048632098817/NTcccj-x_normal.jpg', 'profile_image_url_https': 'https://pbs.twimg.com/profile_images/1333843048632098817/NTcccj-x_normal.jpg', 'profile_link_color': '1DA1F2', 'profile_sidebar_border_color': 'C0DEED', 'profile_sidebar_fill_color': 'DDEEF6', 'profile_text_color': '333333', 'profile_use_background_image': True, 'has_extended_profile': True, 'default_profile': True, 'default_profile_image': False, 'following': False, 'follow_request_sent': False, 'notifications': False, 'translator_type': 'none'}, 'geo': None, 'coordinates': None, 'place': None, 'contributors': None, 'is_quote_status': False, 'retweet_count': 0, 'favorite_count': 1, 'favorited': False, 'retweeted': False, 'possibly_sensitive': False, 'lang': 'en'}, created_at=datetime.datetime(2020, 12, 3, 17, 29), id=1334550213965598720, id_str='1334550213965598720', text='#FarmersProtestDelhi2020 \\n#farmer bill2020\\n#FarmersProtestDelhi2020 https://t.co/AnxnHSIxsA', truncated=False, entities={'hashtags': [{'text': 'FarmersProtestDelhi2020', 'indices': [0, 24]}, {'text': 'farmer', 'indices': [26, 33]}, {'text': 'FarmersProtestDelhi2020', 'indices': [43, 67]}], 'symbols': [], 'user_mentions': [], 'urls': [], 'media': [{'id': 1334550210127728641, 'id_str': '1334550210127728641', 'indices': [68, 91], 'media_url': 'http://pbs.twimg.com/media/EoVGWGmWEAEHb-M.jpg', 'media_url_https': 'https://pbs.twimg.com/media/EoVGWGmWEAEHb-M.jpg', 'url': 'https://t.co/AnxnHSIxsA', 'display_url': 'pic.twitter.com/AnxnHSIxsA', 'expanded_url': 'https://twitter.com/Jassi12323326/status/1334550213965598720/photo/1', 'type': 'photo', 'sizes': {'medium': {'w': 552, 'h': 342, 'resize': 'fit'}, 'thumb': {'w': 150, 'h': 150, 'resize': 'crop'}, 'small': {'w': 552, 'h': 342, 'resize': 'fit'}, 'large': {'w': 552, 'h': 342, 'resize': 'fit'}}}]}, extended_entities={'media': [{'id': 1334550210127728641, 'id_str': '1334550210127728641', 'indices': [68, 91], 'media_url': 'http://pbs.twimg.com/media/EoVGWGmWEAEHb-M.jpg', 'media_url_https': 'https://pbs.twimg.com/media/EoVGWGmWEAEHb-M.jpg', 'url': 'https://t.co/AnxnHSIxsA', 'display_url': 'pic.twitter.com/AnxnHSIxsA', 'expanded_url': 'https://twitter.com/Jassi12323326/status/1334550213965598720/photo/1', 'type': 'photo', 'sizes': {'medium': {'w': 552, 'h': 342, 'resize': 'fit'}, 'thumb': {'w': 150, 'h': 150, 'resize': 'crop'}, 'small': {'w': 552, 'h': 342, 'resize': 'fit'}, 'large': {'w': 552, 'h': 342, 'resize': 'fit'}}}]}, metadata={'iso_language_code': 'en', 'result_type': 'recent'}, source='Twitter for Android', source_url='http://twitter.com/download/android', in_reply_to_status_id=None, in_reply_to_status_id_str=None, in_reply_to_user_id=None, in_reply_to_user_id_str=None, in_reply_to_screen_name=None, author=User(_api=<tweepy.api.API object at 0x000002AC2B251CC8>, _json={'id': 1333842131312652289, 'id_str': '1333842131312652289', 'name': 'Jassi', 'screen_name': 'Jassi12323326', 'location': '', 'description': '', 'url': None, 'entities': {'description': {'urls': []}}, 'protected': False, 'followers_count': 0, 'friends_count': 8, 'listed_count': 0, 'created_at': 'Tue Dec 01 18:35:40 +0000 2020', 'favourites_count': 2, 'utc_offset': None, 'time_zone': None, 'geo_enabled': False, 'verified': False, 'statuses_count': 2, 'lang': None, 'contributors_enabled': False, 'is_translator': False, 'is_translation_enabled': False, 'profile_background_color': 'F5F8FA', 'profile_background_image_url': None, 'profile_background_image_url_https': None, 'profile_background_tile': False, 'profile_image_url': 'http://pbs.twimg.com/profile_images/1333843048632098817/NTcccj-x_normal.jpg', 'profile_image_url_https': 'https://pbs.twimg.com/profile_images/1333843048632098817/NTcccj-x_normal.jpg', 'profile_link_color': '1DA1F2', 'profile_sidebar_border_color': 'C0DEED', 'profile_sidebar_fill_color': 'DDEEF6', 'profile_text_color': '333333', 'profile_use_background_image': True, 'has_extended_profile': True, 'default_profile': True, 'default_profile_image': False, 'following': False, 'follow_request_sent': False, 'notifications': False, 'translator_type': 'none'}, id=1333842131312652289, id_str='1333842131312652289', name='Jassi', screen_name='Jassi12323326', location='', description='', url=None, entities={'description': {'urls': []}}, protected=False, followers_count=0, friends_count=8, listed_count=0, created_at=datetime.datetime(2020, 12, 1, 18, 35, 40), favourites_count=2, utc_offset=None, time_zone=None, geo_enabled=False, verified=False, statuses_count=2, lang=None, contributors_enabled=False, is_translator=False, is_translation_enabled=False, profile_background_color='F5F8FA', profile_background_image_url=None, profile_background_image_url_https=None, profile_background_tile=False, profile_image_url='http://pbs.twimg.com/profile_images/1333843048632098817/NTcccj-x_normal.jpg', profile_image_url_https='https://pbs.twimg.com/profile_images/1333843048632098817/NTcccj-x_normal.jpg', profile_link_color='1DA1F2', profile_sidebar_border_color='C0DEED', profile_sidebar_fill_color='DDEEF6', profile_text_color='333333', profile_use_background_image=True, has_extended_profile=True, default_profile=True, default_profile_image=False, following=False, follow_request_sent=False, notifications=False, translator_type='none'), user=User(_api=<tweepy.api.API object at 0x000002AC2B251CC8>, _json={'id': 1333842131312652289, 'id_str': '1333842131312652289', 'name': 'Jassi', 'screen_name': 'Jassi12323326', 'location': '', 'description': '', 'url': None, 'entities': {'description': {'urls': []}}, 'protected': False, 'followers_count': 0, 'friends_count': 8, 'listed_count': 0, 'created_at': 'Tue Dec 01 18:35:40 +0000 2020', 'favourites_count': 2, 'utc_offset': None, 'time_zone': None, 'geo_enabled': False, 'verified': False, 'statuses_count': 2, 'lang': None, 'contributors_enabled': False, 'is_translator': False, 'is_translation_enabled': False, 'profile_background_color': 'F5F8FA', 'profile_background_image_url': None, 'profile_background_image_url_https': None, 'profile_background_tile': False, 'profile_image_url': 'http://pbs.twimg.com/profile_images/1333843048632098817/NTcccj-x_normal.jpg', 'profile_image_url_https': 'https://pbs.twimg.com/profile_images/1333843048632098817/NTcccj-x_normal.jpg', 'profile_link_color': '1DA1F2', 'profile_sidebar_border_color': 'C0DEED', 'profile_sidebar_fill_color': 'DDEEF6', 'profile_text_color': '333333', 'profile_use_background_image': True, 'has_extended_profile': True, 'default_profile': True, 'default_profile_image': False, 'following': False, 'follow_request_sent': False, 'notifications': False, 'translator_type': 'none'}, id=1333842131312652289, id_str='1333842131312652289', name='Jassi', screen_name='Jassi12323326', location='', description='', url=None, entities={'description': {'urls': []}}, protected=False, followers_count=0, friends_count=8, listed_count=0, created_at=datetime.datetime(2020, 12, 1, 18, 35, 40), favourites_count=2, utc_offset=None, time_zone=None, geo_enabled=False, verified=False, statuses_count=2, lang=None, contributors_enabled=False, is_translator=False, is_translation_enabled=False, profile_background_color='F5F8FA', profile_background_image_url=None, profile_background_image_url_https=None, profile_background_tile=False, profile_image_url='http://pbs.twimg.com/profile_images/1333843048632098817/NTcccj-x_normal.jpg', profile_image_url_https='https://pbs.twimg.com/profile_images/1333843048632098817/NTcccj-x_normal.jpg', profile_link_color='1DA1F2', profile_sidebar_border_color='C0DEED', profile_sidebar_fill_color='DDEEF6', profile_text_color='333333', profile_use_background_image=True, has_extended_profile=True, default_profile=True, default_profile_image=False, following=False, follow_request_sent=False, notifications=False, translator_type='none'), geo=None, coordinates=None, place=None, contributors=None, is_quote_status=False, retweet_count=0, favorite_count=1, favorited=False, retweeted=False, possibly_sensitive=False, lang='en') \n",
      "\n",
      "..............................\n",
      "\n"
     ]
    }
   ],
   "source": [
    "Tweets = api.search(query, count =10, lang = 'en', exclude=\"retweets\", tweets= \"extended\" )\n",
    "\n",
    "for tweet in Tweets:\n",
    "    print(tweet,\"\\n\")\n",
    "    print(\"..............................\\n\")"
   ]
  },
  {
   "cell_type": "raw",
   "metadata": {},
   "source": [
    "Get the tweets and attributes"
   ]
  },
  {
   "cell_type": "code",
   "execution_count": 7,
   "metadata": {},
   "outputs": [
    {
     "name": "stdout",
     "output_type": "stream",
     "text": [
      "Empty DataFrame\n",
      "Columns: [Tweets, Users, User_status_count, User_Followers, User_Location, User_Verified, Fav_Count, RT_Count, Tweet_Date]\n",
      "Index: []\n"
     ]
    },
    {
     "data": {
      "text/plain": [
       "(0, 9)"
      ]
     },
     "execution_count": 7,
     "metadata": {},
     "output_type": "execute_result"
    }
   ],
   "source": [
    "df = pd.DataFrame(columns=[\"Tweets\", \"Users\", \"User_status_count\", \"User_Followers\", \"User_Location\", \"User_Verified\", \n",
    "                          \"Fav_Count\", \"RT_Count\", \"Tweet_Date\"])\n",
    "\n",
    "print(df)\n",
    "df.shape"
   ]
  },
  {
   "cell_type": "code",
   "execution_count": 8,
   "metadata": {},
   "outputs": [],
   "source": [
    "def stream(data, file_name):\n",
    "    i=0\n",
    "    for tweet in tweepy.Cursor(api.search, q = data, count =100, lang = \"en\").items():\n",
    "        print(i,end =\"\\r\")\n",
    "        df.loc[i, \"Tweets\"] = tweet.text\n",
    "        df.loc[i, \"Users\"] = tweet.user.name\n",
    "        df.loc[i, \"User_Status\"] = tweet.user.statuses_count\n",
    "        df.loc[i, \"User_Followers\"] = tweet.user.followers_count\n",
    "        df.loc[i, \"User_Location\"] = tweet.user.location\n",
    "        df.loc[i, \"User_Verified\"] = tweet.user.verified\n",
    "        df.loc[i, \"Fav_Count\"] = tweet.favorite_count\n",
    "        df.loc[i, \"RT_Count\"] = tweet.retweet_count\n",
    "        df.loc[i, \"Tweet_Date\"] = tweet.created_at\n",
    "        df.to_excel(\"{}.xlsx\".format(file_name))\n",
    "        i = i+1\n",
    "        if i==1000:\n",
    "            break\n",
    "        else:\n",
    "            pass\n",
    "        \n",
    "        "
   ]
  },
  {
   "cell_type": "code",
   "execution_count": 9,
   "metadata": {},
   "outputs": [
    {
     "name": "stdout",
     "output_type": "stream",
     "text": [
      "999\r"
     ]
    }
   ],
   "source": [
    "stream(data=[\"FarmersProtestDelhi2020\"], file_name=\"farmersprotest_india_tweetsenti\")"
   ]
  },
  {
   "cell_type": "code",
   "execution_count": 10,
   "metadata": {},
   "outputs": [
    {
     "data": {
      "text/html": [
       "<div>\n",
       "<style scoped>\n",
       "    .dataframe tbody tr th:only-of-type {\n",
       "        vertical-align: middle;\n",
       "    }\n",
       "\n",
       "    .dataframe tbody tr th {\n",
       "        vertical-align: top;\n",
       "    }\n",
       "\n",
       "    .dataframe thead th {\n",
       "        text-align: right;\n",
       "    }\n",
       "</style>\n",
       "<table border=\"1\" class=\"dataframe\">\n",
       "  <thead>\n",
       "    <tr style=\"text-align: right;\">\n",
       "      <th></th>\n",
       "      <th>Tweets</th>\n",
       "      <th>Users</th>\n",
       "      <th>User_status_count</th>\n",
       "      <th>User_Followers</th>\n",
       "      <th>User_Location</th>\n",
       "      <th>User_Verified</th>\n",
       "      <th>Fav_Count</th>\n",
       "      <th>RT_Count</th>\n",
       "      <th>Tweet_Date</th>\n",
       "      <th>User_Status</th>\n",
       "    </tr>\n",
       "  </thead>\n",
       "  <tbody>\n",
       "    <tr>\n",
       "      <th>0</th>\n",
       "      <td>RT @gagan_romana: Government, if the Parliamen...</td>\n",
       "      <td>Diksha Saini</td>\n",
       "      <td>NaN</td>\n",
       "      <td>846</td>\n",
       "      <td>Punjab🇮🇳💕</td>\n",
       "      <td>False</td>\n",
       "      <td>0</td>\n",
       "      <td>34</td>\n",
       "      <td>2020-12-03 17:32:40</td>\n",
       "      <td>4755.0</td>\n",
       "    </tr>\n",
       "    <tr>\n",
       "      <th>1</th>\n",
       "      <td>RT @Saziyakh: who did it 😝😝🏹\\n\\n#DiljitDosanjh...</td>\n",
       "      <td>𝔻𝔯𝔵. 𝔸𝔪𝔪𝔞ℝ 𝕂𝔥𝔞𝔫💙</td>\n",
       "      <td>NaN</td>\n",
       "      <td>7136</td>\n",
       "      <td>Maharashtra India</td>\n",
       "      <td>False</td>\n",
       "      <td>0</td>\n",
       "      <td>88</td>\n",
       "      <td>2020-12-03 17:32:36</td>\n",
       "      <td>13886.0</td>\n",
       "    </tr>\n",
       "    <tr>\n",
       "      <th>2</th>\n",
       "      <td>https://t.co/6tmEJdkYfn farmers feed all of us...</td>\n",
       "      <td>Paviter</td>\n",
       "      <td>NaN</td>\n",
       "      <td>1</td>\n",
       "      <td></td>\n",
       "      <td>False</td>\n",
       "      <td>0</td>\n",
       "      <td>0</td>\n",
       "      <td>2020-12-03 17:32:35</td>\n",
       "      <td>41.0</td>\n",
       "    </tr>\n",
       "    <tr>\n",
       "      <th>3</th>\n",
       "      <td>These farmers command self respect &amp;amp; digni...</td>\n",
       "      <td>Prashant Sheru</td>\n",
       "      <td>NaN</td>\n",
       "      <td>215</td>\n",
       "      <td>MUMBAI</td>\n",
       "      <td>False</td>\n",
       "      <td>0</td>\n",
       "      <td>0</td>\n",
       "      <td>2020-12-03 17:32:34</td>\n",
       "      <td>6336.0</td>\n",
       "    </tr>\n",
       "    <tr>\n",
       "      <th>4</th>\n",
       "      <td>RT @MnmeetS1: ਮੋਦੀ ਜਾਗ ਵੇ, ਜਾਗੋ ਆਈ ਆ। \\n\\nCopy...</td>\n",
       "      <td>ANIL SINGH ALAVE</td>\n",
       "      <td>NaN</td>\n",
       "      <td>103</td>\n",
       "      <td>Khargone</td>\n",
       "      <td>False</td>\n",
       "      <td>0</td>\n",
       "      <td>9</td>\n",
       "      <td>2020-12-03 17:32:33</td>\n",
       "      <td>4868.0</td>\n",
       "    </tr>\n",
       "  </tbody>\n",
       "</table>\n",
       "</div>"
      ],
      "text/plain": [
       "                                              Tweets             Users  \\\n",
       "0  RT @gagan_romana: Government, if the Parliamen...      Diksha Saini   \n",
       "1  RT @Saziyakh: who did it 😝😝🏹\\n\\n#DiljitDosanjh...  𝔻𝔯𝔵. 𝔸𝔪𝔪𝔞ℝ 𝕂𝔥𝔞𝔫💙   \n",
       "2  https://t.co/6tmEJdkYfn farmers feed all of us...           Paviter   \n",
       "3  These farmers command self respect &amp; digni...    Prashant Sheru   \n",
       "4  RT @MnmeetS1: ਮੋਦੀ ਜਾਗ ਵੇ, ਜਾਗੋ ਆਈ ਆ। \\n\\nCopy...  ANIL SINGH ALAVE   \n",
       "\n",
       "  User_status_count User_Followers      User_Location User_Verified Fav_Count  \\\n",
       "0               NaN            846          Punjab🇮🇳💕         False         0   \n",
       "1               NaN           7136  Maharashtra India         False         0   \n",
       "2               NaN              1                            False         0   \n",
       "3               NaN            215             MUMBAI         False         0   \n",
       "4               NaN            103           Khargone         False         0   \n",
       "\n",
       "  RT_Count           Tweet_Date  User_Status  \n",
       "0       34  2020-12-03 17:32:40       4755.0  \n",
       "1       88  2020-12-03 17:32:36      13886.0  \n",
       "2        0  2020-12-03 17:32:35         41.0  \n",
       "3        0  2020-12-03 17:32:34       6336.0  \n",
       "4        9  2020-12-03 17:32:33       4868.0  "
      ]
     },
     "execution_count": 10,
     "metadata": {},
     "output_type": "execute_result"
    }
   ],
   "source": [
    "df.head()"
   ]
  },
  {
   "cell_type": "code",
   "execution_count": 11,
   "metadata": {},
   "outputs": [],
   "source": [
    "from textblob import TextBlob"
   ]
  },
  {
   "cell_type": "code",
   "execution_count": 12,
   "metadata": {},
   "outputs": [],
   "source": [
    "import re\n",
    "\n",
    "def clean_tweet(tweet): #for text only text \n",
    "    return \" \".join(re.sub(\"(@[a-zA-Z0-9]+)|(^0-9a-zA-Z \\t)|(\\w+:\\/\\/\\s+)\", \" \", tweet).split())"
   ]
  },
  {
   "cell_type": "code",
   "execution_count": 13,
   "metadata": {},
   "outputs": [],
   "source": [
    "def analyze_sentiment(tweet):\n",
    "    analysis = TextBlob(tweet)\n",
    "    if analysis.sentiment.polarity > 0:\n",
    "        return \"Postive\"\n",
    "    elif analysis.sentiment.polarity < 0:\n",
    "        return \"Neutral\"\n",
    "    else:\n",
    "        return \"Negative\"\n",
    "    "
   ]
  },
  {
   "cell_type": "code",
   "execution_count": 14,
   "metadata": {},
   "outputs": [],
   "source": [
    "df[\"clean_tweet\"] = df[\"Tweets\"].apply(lambda x : clean_tweet(x))"
   ]
  },
  {
   "cell_type": "code",
   "execution_count": 15,
   "metadata": {},
   "outputs": [
    {
     "data": {
      "text/html": [
       "<div>\n",
       "<style scoped>\n",
       "    .dataframe tbody tr th:only-of-type {\n",
       "        vertical-align: middle;\n",
       "    }\n",
       "\n",
       "    .dataframe tbody tr th {\n",
       "        vertical-align: top;\n",
       "    }\n",
       "\n",
       "    .dataframe thead th {\n",
       "        text-align: right;\n",
       "    }\n",
       "</style>\n",
       "<table border=\"1\" class=\"dataframe\">\n",
       "  <thead>\n",
       "    <tr style=\"text-align: right;\">\n",
       "      <th></th>\n",
       "      <th>Tweets</th>\n",
       "      <th>Users</th>\n",
       "      <th>User_status_count</th>\n",
       "      <th>User_Followers</th>\n",
       "      <th>User_Location</th>\n",
       "      <th>User_Verified</th>\n",
       "      <th>Fav_Count</th>\n",
       "      <th>RT_Count</th>\n",
       "      <th>Tweet_Date</th>\n",
       "      <th>User_Status</th>\n",
       "      <th>clean_tweet</th>\n",
       "    </tr>\n",
       "  </thead>\n",
       "  <tbody>\n",
       "    <tr>\n",
       "      <th>0</th>\n",
       "      <td>RT @gagan_romana: Government, if the Parliamen...</td>\n",
       "      <td>Diksha Saini</td>\n",
       "      <td>NaN</td>\n",
       "      <td>846</td>\n",
       "      <td>Punjab🇮🇳💕</td>\n",
       "      <td>False</td>\n",
       "      <td>0</td>\n",
       "      <td>34</td>\n",
       "      <td>2020-12-03 17:32:40</td>\n",
       "      <td>4755.0</td>\n",
       "      <td>RT _romana: Government, if the Parliament can ...</td>\n",
       "    </tr>\n",
       "    <tr>\n",
       "      <th>1</th>\n",
       "      <td>RT @Saziyakh: who did it 😝😝🏹\\n\\n#DiljitDosanjh...</td>\n",
       "      <td>𝔻𝔯𝔵. 𝔸𝔪𝔪𝔞ℝ 𝕂𝔥𝔞𝔫💙</td>\n",
       "      <td>NaN</td>\n",
       "      <td>7136</td>\n",
       "      <td>Maharashtra India</td>\n",
       "      <td>False</td>\n",
       "      <td>0</td>\n",
       "      <td>88</td>\n",
       "      <td>2020-12-03 17:32:36</td>\n",
       "      <td>13886.0</td>\n",
       "      <td>RT : who did it 😝😝🏹 #DiljitDosanjh #FarmersPro...</td>\n",
       "    </tr>\n",
       "    <tr>\n",
       "      <th>2</th>\n",
       "      <td>https://t.co/6tmEJdkYfn farmers feed all of us...</td>\n",
       "      <td>Paviter</td>\n",
       "      <td>NaN</td>\n",
       "      <td>1</td>\n",
       "      <td></td>\n",
       "      <td>False</td>\n",
       "      <td>0</td>\n",
       "      <td>0</td>\n",
       "      <td>2020-12-03 17:32:35</td>\n",
       "      <td>41.0</td>\n",
       "      <td>https://t.co/6tmEJdkYfn farmers feed all of us...</td>\n",
       "    </tr>\n",
       "    <tr>\n",
       "      <th>3</th>\n",
       "      <td>These farmers command self respect &amp;amp; digni...</td>\n",
       "      <td>Prashant Sheru</td>\n",
       "      <td>NaN</td>\n",
       "      <td>215</td>\n",
       "      <td>MUMBAI</td>\n",
       "      <td>False</td>\n",
       "      <td>0</td>\n",
       "      <td>0</td>\n",
       "      <td>2020-12-03 17:32:34</td>\n",
       "      <td>6336.0</td>\n",
       "      <td>These farmers command self respect &amp;amp; digni...</td>\n",
       "    </tr>\n",
       "    <tr>\n",
       "      <th>4</th>\n",
       "      <td>RT @MnmeetS1: ਮੋਦੀ ਜਾਗ ਵੇ, ਜਾਗੋ ਆਈ ਆ। \\n\\nCopy...</td>\n",
       "      <td>ANIL SINGH ALAVE</td>\n",
       "      <td>NaN</td>\n",
       "      <td>103</td>\n",
       "      <td>Khargone</td>\n",
       "      <td>False</td>\n",
       "      <td>0</td>\n",
       "      <td>9</td>\n",
       "      <td>2020-12-03 17:32:33</td>\n",
       "      <td>4868.0</td>\n",
       "      <td>RT : ਮੋਦੀ ਜਾਗ ਵੇ, ਜਾਗੋ ਆਈ ਆ। Copy👉🏼 #5दिसंबर_भ...</td>\n",
       "    </tr>\n",
       "  </tbody>\n",
       "</table>\n",
       "</div>"
      ],
      "text/plain": [
       "                                              Tweets             Users  \\\n",
       "0  RT @gagan_romana: Government, if the Parliamen...      Diksha Saini   \n",
       "1  RT @Saziyakh: who did it 😝😝🏹\\n\\n#DiljitDosanjh...  𝔻𝔯𝔵. 𝔸𝔪𝔪𝔞ℝ 𝕂𝔥𝔞𝔫💙   \n",
       "2  https://t.co/6tmEJdkYfn farmers feed all of us...           Paviter   \n",
       "3  These farmers command self respect &amp; digni...    Prashant Sheru   \n",
       "4  RT @MnmeetS1: ਮੋਦੀ ਜਾਗ ਵੇ, ਜਾਗੋ ਆਈ ਆ। \\n\\nCopy...  ANIL SINGH ALAVE   \n",
       "\n",
       "  User_status_count User_Followers      User_Location User_Verified Fav_Count  \\\n",
       "0               NaN            846          Punjab🇮🇳💕         False         0   \n",
       "1               NaN           7136  Maharashtra India         False         0   \n",
       "2               NaN              1                            False         0   \n",
       "3               NaN            215             MUMBAI         False         0   \n",
       "4               NaN            103           Khargone         False         0   \n",
       "\n",
       "  RT_Count           Tweet_Date  User_Status  \\\n",
       "0       34  2020-12-03 17:32:40       4755.0   \n",
       "1       88  2020-12-03 17:32:36      13886.0   \n",
       "2        0  2020-12-03 17:32:35         41.0   \n",
       "3        0  2020-12-03 17:32:34       6336.0   \n",
       "4        9  2020-12-03 17:32:33       4868.0   \n",
       "\n",
       "                                         clean_tweet  \n",
       "0  RT _romana: Government, if the Parliament can ...  \n",
       "1  RT : who did it 😝😝🏹 #DiljitDosanjh #FarmersPro...  \n",
       "2  https://t.co/6tmEJdkYfn farmers feed all of us...  \n",
       "3  These farmers command self respect &amp; digni...  \n",
       "4  RT : ਮੋਦੀ ਜਾਗ ਵੇ, ਜਾਗੋ ਆਈ ਆ। Copy👉🏼 #5दिसंबर_भ...  "
      ]
     },
     "execution_count": 15,
     "metadata": {},
     "output_type": "execute_result"
    }
   ],
   "source": [
    "df.head()"
   ]
  },
  {
   "cell_type": "code",
   "execution_count": 16,
   "metadata": {},
   "outputs": [],
   "source": [
    "df[\"Sentiment\"] = df[\"Tweets\"].apply(lambda x : analyze_sentiment(x))"
   ]
  },
  {
   "cell_type": "code",
   "execution_count": 17,
   "metadata": {},
   "outputs": [
    {
     "data": {
      "text/html": [
       "<div>\n",
       "<style scoped>\n",
       "    .dataframe tbody tr th:only-of-type {\n",
       "        vertical-align: middle;\n",
       "    }\n",
       "\n",
       "    .dataframe tbody tr th {\n",
       "        vertical-align: top;\n",
       "    }\n",
       "\n",
       "    .dataframe thead th {\n",
       "        text-align: right;\n",
       "    }\n",
       "</style>\n",
       "<table border=\"1\" class=\"dataframe\">\n",
       "  <thead>\n",
       "    <tr style=\"text-align: right;\">\n",
       "      <th></th>\n",
       "      <th>Tweets</th>\n",
       "      <th>Users</th>\n",
       "      <th>User_status_count</th>\n",
       "      <th>User_Followers</th>\n",
       "      <th>User_Location</th>\n",
       "      <th>User_Verified</th>\n",
       "      <th>Fav_Count</th>\n",
       "      <th>RT_Count</th>\n",
       "      <th>Tweet_Date</th>\n",
       "      <th>User_Status</th>\n",
       "      <th>clean_tweet</th>\n",
       "      <th>Sentiment</th>\n",
       "    </tr>\n",
       "  </thead>\n",
       "  <tbody>\n",
       "    <tr>\n",
       "      <th>0</th>\n",
       "      <td>RT @gagan_romana: Government, if the Parliamen...</td>\n",
       "      <td>Diksha Saini</td>\n",
       "      <td>NaN</td>\n",
       "      <td>846</td>\n",
       "      <td>Punjab🇮🇳💕</td>\n",
       "      <td>False</td>\n",
       "      <td>0</td>\n",
       "      <td>34</td>\n",
       "      <td>2020-12-03 17:32:40</td>\n",
       "      <td>4755.0</td>\n",
       "      <td>RT _romana: Government, if the Parliament can ...</td>\n",
       "      <td>Negative</td>\n",
       "    </tr>\n",
       "    <tr>\n",
       "      <th>1</th>\n",
       "      <td>RT @Saziyakh: who did it 😝😝🏹\\n\\n#DiljitDosanjh...</td>\n",
       "      <td>𝔻𝔯𝔵. 𝔸𝔪𝔪𝔞ℝ 𝕂𝔥𝔞𝔫💙</td>\n",
       "      <td>NaN</td>\n",
       "      <td>7136</td>\n",
       "      <td>Maharashtra India</td>\n",
       "      <td>False</td>\n",
       "      <td>0</td>\n",
       "      <td>88</td>\n",
       "      <td>2020-12-03 17:32:36</td>\n",
       "      <td>13886.0</td>\n",
       "      <td>RT : who did it 😝😝🏹 #DiljitDosanjh #FarmersPro...</td>\n",
       "      <td>Negative</td>\n",
       "    </tr>\n",
       "    <tr>\n",
       "      <th>2</th>\n",
       "      <td>https://t.co/6tmEJdkYfn farmers feed all of us...</td>\n",
       "      <td>Paviter</td>\n",
       "      <td>NaN</td>\n",
       "      <td>1</td>\n",
       "      <td></td>\n",
       "      <td>False</td>\n",
       "      <td>0</td>\n",
       "      <td>0</td>\n",
       "      <td>2020-12-03 17:32:35</td>\n",
       "      <td>41.0</td>\n",
       "      <td>https://t.co/6tmEJdkYfn farmers feed all of us...</td>\n",
       "      <td>Negative</td>\n",
       "    </tr>\n",
       "    <tr>\n",
       "      <th>3</th>\n",
       "      <td>These farmers command self respect &amp;amp; digni...</td>\n",
       "      <td>Prashant Sheru</td>\n",
       "      <td>NaN</td>\n",
       "      <td>215</td>\n",
       "      <td>MUMBAI</td>\n",
       "      <td>False</td>\n",
       "      <td>0</td>\n",
       "      <td>0</td>\n",
       "      <td>2020-12-03 17:32:34</td>\n",
       "      <td>6336.0</td>\n",
       "      <td>These farmers command self respect &amp;amp; digni...</td>\n",
       "      <td>Negative</td>\n",
       "    </tr>\n",
       "    <tr>\n",
       "      <th>4</th>\n",
       "      <td>RT @MnmeetS1: ਮੋਦੀ ਜਾਗ ਵੇ, ਜਾਗੋ ਆਈ ਆ। \\n\\nCopy...</td>\n",
       "      <td>ANIL SINGH ALAVE</td>\n",
       "      <td>NaN</td>\n",
       "      <td>103</td>\n",
       "      <td>Khargone</td>\n",
       "      <td>False</td>\n",
       "      <td>0</td>\n",
       "      <td>9</td>\n",
       "      <td>2020-12-03 17:32:33</td>\n",
       "      <td>4868.0</td>\n",
       "      <td>RT : ਮੋਦੀ ਜਾਗ ਵੇ, ਜਾਗੋ ਆਈ ਆ। Copy👉🏼 #5दिसंबर_भ...</td>\n",
       "      <td>Negative</td>\n",
       "    </tr>\n",
       "  </tbody>\n",
       "</table>\n",
       "</div>"
      ],
      "text/plain": [
       "                                              Tweets             Users  \\\n",
       "0  RT @gagan_romana: Government, if the Parliamen...      Diksha Saini   \n",
       "1  RT @Saziyakh: who did it 😝😝🏹\\n\\n#DiljitDosanjh...  𝔻𝔯𝔵. 𝔸𝔪𝔪𝔞ℝ 𝕂𝔥𝔞𝔫💙   \n",
       "2  https://t.co/6tmEJdkYfn farmers feed all of us...           Paviter   \n",
       "3  These farmers command self respect &amp; digni...    Prashant Sheru   \n",
       "4  RT @MnmeetS1: ਮੋਦੀ ਜਾਗ ਵੇ, ਜਾਗੋ ਆਈ ਆ। \\n\\nCopy...  ANIL SINGH ALAVE   \n",
       "\n",
       "  User_status_count User_Followers      User_Location User_Verified Fav_Count  \\\n",
       "0               NaN            846          Punjab🇮🇳💕         False         0   \n",
       "1               NaN           7136  Maharashtra India         False         0   \n",
       "2               NaN              1                            False         0   \n",
       "3               NaN            215             MUMBAI         False         0   \n",
       "4               NaN            103           Khargone         False         0   \n",
       "\n",
       "  RT_Count           Tweet_Date  User_Status  \\\n",
       "0       34  2020-12-03 17:32:40       4755.0   \n",
       "1       88  2020-12-03 17:32:36      13886.0   \n",
       "2        0  2020-12-03 17:32:35         41.0   \n",
       "3        0  2020-12-03 17:32:34       6336.0   \n",
       "4        9  2020-12-03 17:32:33       4868.0   \n",
       "\n",
       "                                         clean_tweet Sentiment  \n",
       "0  RT _romana: Government, if the Parliament can ...  Negative  \n",
       "1  RT : who did it 😝😝🏹 #DiljitDosanjh #FarmersPro...  Negative  \n",
       "2  https://t.co/6tmEJdkYfn farmers feed all of us...  Negative  \n",
       "3  These farmers command self respect &amp; digni...  Negative  \n",
       "4  RT : ਮੋਦੀ ਜਾਗ ਵੇ, ਜਾਗੋ ਆਈ ਆ। Copy👉🏼 #5दिसंबर_भ...  Negative  "
      ]
     },
     "execution_count": 17,
     "metadata": {},
     "output_type": "execute_result"
    }
   ],
   "source": [
    "df.head()"
   ]
  },
  {
   "cell_type": "code",
   "execution_count": 18,
   "metadata": {},
   "outputs": [
    {
     "name": "stdout",
     "output_type": "stream",
     "text": [
      "Original Tweet:\n",
      " RT @Avtar_Singh16: Generally we panjabis don't give a damn about twitter But genetically we love accepting challenges. It's just our rights…\n",
      "\n",
      "Original Tweet:\n",
      " RT _Singh16: Generally we panjabis don't give a damn about twitter But genetically we love accepting challenges. It's just our rights…\n",
      "\n",
      "Original Tweet:\n",
      " Postive\n",
      "\n"
     ]
    }
   ],
   "source": [
    "n = 25\n",
    "print(\"Original Tweet:\\n\", df[\"Tweets\"][n])\n",
    "print()\n",
    "print(\"Original Tweet:\\n\", df[\"clean_tweet\"][n])\n",
    "print()\n",
    "print(\"Original Tweet:\\n\", df[\"Sentiment\"][n])\n",
    "print()"
   ]
  },
  {
   "cell_type": "code",
   "execution_count": 19,
   "metadata": {},
   "outputs": [
    {
     "data": {
      "text/plain": [
       "0"
      ]
     },
     "execution_count": 19,
     "metadata": {},
     "output_type": "execute_result"
    }
   ],
   "source": [
    "df[df.Sentiment == 'Positive'].shape[0]"
   ]
  },
  {
   "cell_type": "code",
   "execution_count": 20,
   "metadata": {},
   "outputs": [
    {
     "data": {
      "text/plain": [
       "674"
      ]
     },
     "execution_count": 20,
     "metadata": {},
     "output_type": "execute_result"
    }
   ],
   "source": [
    "df[df.Sentiment == 'Negative'].shape[0]"
   ]
  },
  {
   "cell_type": "code",
   "execution_count": 21,
   "metadata": {},
   "outputs": [
    {
     "data": {
      "text/plain": [
       "61"
      ]
     },
     "execution_count": 21,
     "metadata": {},
     "output_type": "execute_result"
    }
   ],
   "source": [
    "df[df.Sentiment == 'Neutral'].shape[0]"
   ]
  }
 ],
 "metadata": {
  "kernelspec": {
   "display_name": "Python 3",
   "language": "python",
   "name": "python3"
  },
  "language_info": {
   "codemirror_mode": {
    "name": "ipython",
    "version": 3
   },
   "file_extension": ".py",
   "mimetype": "text/x-python",
   "name": "python",
   "nbconvert_exporter": "python",
   "pygments_lexer": "ipython3",
   "version": "3.7.6"
  }
 },
 "nbformat": 4,
 "nbformat_minor": 4
}
